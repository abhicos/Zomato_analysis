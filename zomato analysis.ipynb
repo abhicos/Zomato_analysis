{
 "cells": [
  {
   "cell_type": "markdown",
   "id": "fc74a3e1",
   "metadata": {},
   "source": [
    "# Zomato Analysis for all the restaurants in Bangalore city\n"
   ]
  },
  {
   "cell_type": "code",
   "execution_count": 137,
   "id": "83b68b98",
   "metadata": {},
   "outputs": [],
   "source": [
    "import pandas as pd\n",
    "import numpy as np\n",
    "import seaborn as sns\n",
    "import matplotlib.pyplot as plt"
   ]
  },
  {
   "cell_type": "code",
   "execution_count": 2,
   "id": "cb7c70aa",
   "metadata": {},
   "outputs": [],
   "source": [
    "import sqlite3"
   ]
  },
  {
   "cell_type": "code",
   "execution_count": 3,
   "id": "22d5fc88",
   "metadata": {},
   "outputs": [],
   "source": [
    "# making a connection with database\n",
    "con = sqlite3.connect(r'E:\\data analyst projects\\Zomato_analysis\\zomato_rawdata.sqlite')"
   ]
  },
  {
   "cell_type": "code",
   "execution_count": 4,
   "id": "be3ad43f",
   "metadata": {
    "scrolled": true
   },
   "outputs": [
    {
     "data": {
      "text/html": [
       "<div>\n",
       "<style scoped>\n",
       "    .dataframe tbody tr th:only-of-type {\n",
       "        vertical-align: middle;\n",
       "    }\n",
       "\n",
       "    .dataframe tbody tr th {\n",
       "        vertical-align: top;\n",
       "    }\n",
       "\n",
       "    .dataframe thead th {\n",
       "        text-align: right;\n",
       "    }\n",
       "</style>\n",
       "<table border=\"1\" class=\"dataframe\">\n",
       "  <thead>\n",
       "    <tr style=\"text-align: right;\">\n",
       "      <th></th>\n",
       "      <th>index</th>\n",
       "      <th>url</th>\n",
       "      <th>address</th>\n",
       "      <th>name</th>\n",
       "      <th>online_order</th>\n",
       "      <th>book_table</th>\n",
       "      <th>rate</th>\n",
       "      <th>votes</th>\n",
       "      <th>phone</th>\n",
       "      <th>location</th>\n",
       "      <th>rest_type</th>\n",
       "      <th>dish_liked</th>\n",
       "      <th>cuisines</th>\n",
       "      <th>approx_cost(for two people)</th>\n",
       "      <th>reviews_list</th>\n",
       "      <th>menu_item</th>\n",
       "      <th>listed_in(type)</th>\n",
       "      <th>listed_in(city)</th>\n",
       "    </tr>\n",
       "  </thead>\n",
       "  <tbody>\n",
       "    <tr>\n",
       "      <th>0</th>\n",
       "      <td>0</td>\n",
       "      <td>https://www.zomato.com/bangalore/jalsa-banasha...</td>\n",
       "      <td>942, 21st Main Road, 2nd Stage, Banashankari, ...</td>\n",
       "      <td>Jalsa</td>\n",
       "      <td>Yes</td>\n",
       "      <td>Yes</td>\n",
       "      <td>4.1/5</td>\n",
       "      <td>775</td>\n",
       "      <td>080 42297555\\r\\n+91 9743772233</td>\n",
       "      <td>Banashankari</td>\n",
       "      <td>Casual Dining</td>\n",
       "      <td>Pasta, Lunch Buffet, Masala Papad, Paneer Laja...</td>\n",
       "      <td>North Indian, Mughlai, Chinese</td>\n",
       "      <td>800</td>\n",
       "      <td>[('Rated 4.0', 'RATED\\n  A beautiful place to ...</td>\n",
       "      <td>[]</td>\n",
       "      <td>Buffet</td>\n",
       "      <td>Banashankari</td>\n",
       "    </tr>\n",
       "    <tr>\n",
       "      <th>1</th>\n",
       "      <td>1</td>\n",
       "      <td>https://www.zomato.com/bangalore/spice-elephan...</td>\n",
       "      <td>2nd Floor, 80 Feet Road, Near Big Bazaar, 6th ...</td>\n",
       "      <td>Spice Elephant</td>\n",
       "      <td>Yes</td>\n",
       "      <td>No</td>\n",
       "      <td>4.1/5</td>\n",
       "      <td>787</td>\n",
       "      <td>080 41714161</td>\n",
       "      <td>Banashankari</td>\n",
       "      <td>Casual Dining</td>\n",
       "      <td>Momos, Lunch Buffet, Chocolate Nirvana, Thai G...</td>\n",
       "      <td>Chinese, North Indian, Thai</td>\n",
       "      <td>800</td>\n",
       "      <td>[('Rated 4.0', 'RATED\\n  Had been here for din...</td>\n",
       "      <td>[]</td>\n",
       "      <td>Buffet</td>\n",
       "      <td>Banashankari</td>\n",
       "    </tr>\n",
       "  </tbody>\n",
       "</table>\n",
       "</div>"
      ],
      "text/plain": [
       "   index                                                url  \\\n",
       "0      0  https://www.zomato.com/bangalore/jalsa-banasha...   \n",
       "1      1  https://www.zomato.com/bangalore/spice-elephan...   \n",
       "\n",
       "                                             address            name  \\\n",
       "0  942, 21st Main Road, 2nd Stage, Banashankari, ...           Jalsa   \n",
       "1  2nd Floor, 80 Feet Road, Near Big Bazaar, 6th ...  Spice Elephant   \n",
       "\n",
       "  online_order book_table   rate  votes                           phone  \\\n",
       "0          Yes        Yes  4.1/5    775  080 42297555\\r\\n+91 9743772233   \n",
       "1          Yes         No  4.1/5    787                    080 41714161   \n",
       "\n",
       "       location      rest_type  \\\n",
       "0  Banashankari  Casual Dining   \n",
       "1  Banashankari  Casual Dining   \n",
       "\n",
       "                                          dish_liked  \\\n",
       "0  Pasta, Lunch Buffet, Masala Papad, Paneer Laja...   \n",
       "1  Momos, Lunch Buffet, Chocolate Nirvana, Thai G...   \n",
       "\n",
       "                         cuisines approx_cost(for two people)  \\\n",
       "0  North Indian, Mughlai, Chinese                         800   \n",
       "1     Chinese, North Indian, Thai                         800   \n",
       "\n",
       "                                        reviews_list menu_item  \\\n",
       "0  [('Rated 4.0', 'RATED\\n  A beautiful place to ...        []   \n",
       "1  [('Rated 4.0', 'RATED\\n  Had been here for din...        []   \n",
       "\n",
       "  listed_in(type) listed_in(city)  \n",
       "0          Buffet    Banashankari  \n",
       "1          Buffet    Banashankari  "
      ]
     },
     "execution_count": 4,
     "metadata": {},
     "output_type": "execute_result"
    }
   ],
   "source": [
    "# importing file or table through sql query\n",
    "pd.read_sql_query('select *  from users', con).head(2)"
   ]
  },
  {
   "cell_type": "code",
   "execution_count": 5,
   "id": "efebfe06",
   "metadata": {},
   "outputs": [],
   "source": [
    "# Storing file in a variable df\n",
    "df = pd.read_sql_query('select *  from users', con)"
   ]
  },
  {
   "cell_type": "code",
   "execution_count": 6,
   "id": "1857edd2",
   "metadata": {},
   "outputs": [
    {
     "data": {
      "text/plain": [
       "(51717, 18)"
      ]
     },
     "execution_count": 6,
     "metadata": {},
     "output_type": "execute_result"
    }
   ],
   "source": [
    "# Checking no rows and columns\n",
    "df.shape"
   ]
  },
  {
   "cell_type": "code",
   "execution_count": 7,
   "id": "dab4e9a7",
   "metadata": {},
   "outputs": [
    {
     "data": {
      "text/plain": [
       "Index(['index', 'url', 'address', 'name', 'online_order', 'book_table', 'rate',\n",
       "       'votes', 'phone', 'location', 'rest_type', 'dish_liked', 'cuisines',\n",
       "       'approx_cost(for two people)', 'reviews_list', 'menu_item',\n",
       "       'listed_in(type)', 'listed_in(city)'],\n",
       "      dtype='object')"
      ]
     },
     "execution_count": 7,
     "metadata": {},
     "output_type": "execute_result"
    }
   ],
   "source": [
    "# Columns Name \n",
    "df.columns"
   ]
  },
  {
   "cell_type": "code",
   "execution_count": 8,
   "id": "92a5401f",
   "metadata": {},
   "outputs": [
    {
     "data": {
      "text/plain": [
       "index                              0\n",
       "url                                0\n",
       "address                            0\n",
       "name                               0\n",
       "online_order                       0\n",
       "book_table                         0\n",
       "rate                            7775\n",
       "votes                              0\n",
       "phone                           1208\n",
       "location                          21\n",
       "rest_type                        227\n",
       "dish_liked                     28078\n",
       "cuisines                          45\n",
       "approx_cost(for two people)      346\n",
       "reviews_list                       0\n",
       "menu_item                          0\n",
       "listed_in(type)                    0\n",
       "listed_in(city)                    0\n",
       "dtype: int64"
      ]
     },
     "execution_count": 8,
     "metadata": {},
     "output_type": "execute_result"
    }
   ],
   "source": [
    "# finding missing values\n",
    "df.isnull().sum()"
   ]
  },
  {
   "cell_type": "code",
   "execution_count": 9,
   "id": "20fb396d",
   "metadata": {
    "scrolled": true
   },
   "outputs": [
    {
     "data": {
      "text/plain": [
       "index                           0.000000\n",
       "url                             0.000000\n",
       "address                         0.000000\n",
       "name                            0.000000\n",
       "online_order                    0.000000\n",
       "book_table                      0.000000\n",
       "rate                           15.033741\n",
       "votes                           0.000000\n",
       "phone                           2.335789\n",
       "location                        0.040606\n",
       "rest_type                       0.438927\n",
       "dish_liked                     54.291626\n",
       "cuisines                        0.087012\n",
       "approx_cost(for two people)     0.669026\n",
       "reviews_list                    0.000000\n",
       "menu_item                       0.000000\n",
       "listed_in(type)                 0.000000\n",
       "listed_in(city)                 0.000000\n",
       "dtype: float64"
      ]
     },
     "execution_count": 9,
     "metadata": {},
     "output_type": "execute_result"
    }
   ],
   "source": [
    "# % of null values\n",
    "df.isnull().sum()/len(df)*100"
   ]
  },
  {
   "cell_type": "code",
   "execution_count": null,
   "id": "93f809ba",
   "metadata": {},
   "outputs": [],
   "source": [
    "# 1.) rate and dish_liked column has considerable amount of null values"
   ]
  },
  {
   "cell_type": "code",
   "execution_count": 10,
   "id": "c530417d",
   "metadata": {},
   "outputs": [
    {
     "data": {
      "text/plain": [
       "array(['4.1/5', '3.8/5', '3.7/5', '3.6/5', '4.6/5', '4.0/5', '4.2/5',\n",
       "       '3.9/5', '3.1/5', '3.0/5', '3.2/5', '3.3/5', '2.8/5', '4.4/5',\n",
       "       '4.3/5', 'NEW', '2.9/5', '3.5/5', None, '2.6/5', '3.8 /5', '3.4/5',\n",
       "       '4.5/5', '2.5/5', '2.7/5', '4.7/5', '2.4/5', '2.2/5', '2.3/5',\n",
       "       '3.4 /5', '-', '3.6 /5', '4.8/5', '3.9 /5', '4.2 /5', '4.0 /5',\n",
       "       '4.1 /5', '3.7 /5', '3.1 /5', '2.9 /5', '3.3 /5', '2.8 /5',\n",
       "       '3.5 /5', '2.7 /5', '2.5 /5', '3.2 /5', '2.6 /5', '4.5 /5',\n",
       "       '4.3 /5', '4.4 /5', '4.9/5', '2.1/5', '2.0/5', '1.8/5', '4.6 /5',\n",
       "       '4.9 /5', '3.0 /5', '4.8 /5', '2.3 /5', '4.7 /5', '2.4 /5',\n",
       "       '2.1 /5', '2.2 /5', '2.0 /5', '1.8 /5'], dtype=object)"
      ]
     },
     "execution_count": 10,
     "metadata": {},
     "output_type": "execute_result"
    }
   ],
   "source": [
    "# Checking Unique values in columns having considerable amount of null values \n",
    "df['rate'].unique()"
   ]
  },
  {
   "cell_type": "code",
   "execution_count": 11,
   "id": "b21ba001",
   "metadata": {},
   "outputs": [],
   "source": [
    "# updating string values to null values as these does not provide any sense in rate column.\n",
    "df['rate'].replace(('NEW', '-'), np.nan, inplace = True)"
   ]
  },
  {
   "cell_type": "code",
   "execution_count": 12,
   "id": "238b18f0",
   "metadata": {},
   "outputs": [
    {
     "data": {
      "text/plain": [
       "array(['4.1/5', '3.8/5', '3.7/5', '3.6/5', '4.6/5', '4.0/5', '4.2/5',\n",
       "       '3.9/5', '3.1/5', '3.0/5', '3.2/5', '3.3/5', '2.8/5', '4.4/5',\n",
       "       '4.3/5', nan, '2.9/5', '3.5/5', None, '2.6/5', '3.8 /5', '3.4/5',\n",
       "       '4.5/5', '2.5/5', '2.7/5', '4.7/5', '2.4/5', '2.2/5', '2.3/5',\n",
       "       '3.4 /5', '3.6 /5', '4.8/5', '3.9 /5', '4.2 /5', '4.0 /5',\n",
       "       '4.1 /5', '3.7 /5', '3.1 /5', '2.9 /5', '3.3 /5', '2.8 /5',\n",
       "       '3.5 /5', '2.7 /5', '2.5 /5', '3.2 /5', '2.6 /5', '4.5 /5',\n",
       "       '4.3 /5', '4.4 /5', '4.9/5', '2.1/5', '2.0/5', '1.8/5', '4.6 /5',\n",
       "       '4.9 /5', '3.0 /5', '4.8 /5', '2.3 /5', '4.7 /5', '2.4 /5',\n",
       "       '2.1 /5', '2.2 /5', '2.0 /5', '1.8 /5'], dtype=object)"
      ]
     },
     "execution_count": 12,
     "metadata": {},
     "output_type": "execute_result"
    }
   ],
   "source": [
    "df['rate'].unique()"
   ]
  },
  {
   "cell_type": "code",
   "execution_count": 13,
   "id": "9eb711d1",
   "metadata": {},
   "outputs": [],
   "source": [
    "# changing data type of rate column to float and updating its values.\n",
    "df['rate'] = df['rate'].apply(lambda x : float(x.split('/')[0]) if type(x) == str else x)"
   ]
  },
  {
   "cell_type": "code",
   "execution_count": 14,
   "id": "703de600",
   "metadata": {},
   "outputs": [
    {
     "data": {
      "text/plain": [
       "0        4.1\n",
       "1        4.1\n",
       "2        3.8\n",
       "3        3.7\n",
       "4        3.8\n",
       "        ... \n",
       "51712    3.6\n",
       "51713    NaN\n",
       "51714    NaN\n",
       "51715    4.3\n",
       "51716    3.4\n",
       "Name: rate, Length: 51717, dtype: float64"
      ]
     },
     "execution_count": 14,
     "metadata": {},
     "output_type": "execute_result"
    }
   ],
   "source": [
    "df['rate']"
   ]
  },
  {
   "cell_type": "code",
   "execution_count": 15,
   "id": "81b819b1",
   "metadata": {},
   "outputs": [],
   "source": [
    "# checking is there any relation between online order option and rating of the restaurant.\n",
    "x = pd.crosstab(df['rate'], df['online_order'])"
   ]
  },
  {
   "cell_type": "code",
   "execution_count": 16,
   "id": "1424ba77",
   "metadata": {},
   "outputs": [
    {
     "data": {
      "text/html": [
       "<div>\n",
       "<style scoped>\n",
       "    .dataframe tbody tr th:only-of-type {\n",
       "        vertical-align: middle;\n",
       "    }\n",
       "\n",
       "    .dataframe tbody tr th {\n",
       "        vertical-align: top;\n",
       "    }\n",
       "\n",
       "    .dataframe thead th {\n",
       "        text-align: right;\n",
       "    }\n",
       "</style>\n",
       "<table border=\"1\" class=\"dataframe\">\n",
       "  <thead>\n",
       "    <tr style=\"text-align: right;\">\n",
       "      <th>online_order</th>\n",
       "      <th>No</th>\n",
       "      <th>Yes</th>\n",
       "    </tr>\n",
       "    <tr>\n",
       "      <th>rate</th>\n",
       "      <th></th>\n",
       "      <th></th>\n",
       "    </tr>\n",
       "  </thead>\n",
       "  <tbody>\n",
       "    <tr>\n",
       "      <th>1.8</th>\n",
       "      <td>5</td>\n",
       "      <td>0</td>\n",
       "    </tr>\n",
       "    <tr>\n",
       "      <th>2.0</th>\n",
       "      <td>11</td>\n",
       "      <td>0</td>\n",
       "    </tr>\n",
       "    <tr>\n",
       "      <th>2.1</th>\n",
       "      <td>9</td>\n",
       "      <td>15</td>\n",
       "    </tr>\n",
       "    <tr>\n",
       "      <th>2.2</th>\n",
       "      <td>10</td>\n",
       "      <td>16</td>\n",
       "    </tr>\n",
       "    <tr>\n",
       "      <th>2.3</th>\n",
       "      <td>29</td>\n",
       "      <td>22</td>\n",
       "    </tr>\n",
       "    <tr>\n",
       "      <th>2.4</th>\n",
       "      <td>36</td>\n",
       "      <td>34</td>\n",
       "    </tr>\n",
       "    <tr>\n",
       "      <th>2.5</th>\n",
       "      <td>38</td>\n",
       "      <td>63</td>\n",
       "    </tr>\n",
       "    <tr>\n",
       "      <th>2.6</th>\n",
       "      <td>83</td>\n",
       "      <td>177</td>\n",
       "    </tr>\n",
       "    <tr>\n",
       "      <th>2.7</th>\n",
       "      <td>141</td>\n",
       "      <td>166</td>\n",
       "    </tr>\n",
       "    <tr>\n",
       "      <th>2.8</th>\n",
       "      <td>224</td>\n",
       "      <td>376</td>\n",
       "    </tr>\n",
       "    <tr>\n",
       "      <th>2.9</th>\n",
       "      <td>314</td>\n",
       "      <td>488</td>\n",
       "    </tr>\n",
       "    <tr>\n",
       "      <th>3.0</th>\n",
       "      <td>439</td>\n",
       "      <td>584</td>\n",
       "    </tr>\n",
       "    <tr>\n",
       "      <th>3.1</th>\n",
       "      <td>587</td>\n",
       "      <td>974</td>\n",
       "    </tr>\n",
       "    <tr>\n",
       "      <th>3.2</th>\n",
       "      <td>829</td>\n",
       "      <td>1044</td>\n",
       "    </tr>\n",
       "    <tr>\n",
       "      <th>3.3</th>\n",
       "      <td>1137</td>\n",
       "      <td>1173</td>\n",
       "    </tr>\n",
       "    <tr>\n",
       "      <th>3.4</th>\n",
       "      <td>1024</td>\n",
       "      <td>1452</td>\n",
       "    </tr>\n",
       "    <tr>\n",
       "      <th>3.5</th>\n",
       "      <td>1090</td>\n",
       "      <td>1694</td>\n",
       "    </tr>\n",
       "    <tr>\n",
       "      <th>3.6</th>\n",
       "      <td>1090</td>\n",
       "      <td>2226</td>\n",
       "    </tr>\n",
       "    <tr>\n",
       "      <th>3.7</th>\n",
       "      <td>1172</td>\n",
       "      <td>2649</td>\n",
       "    </tr>\n",
       "    <tr>\n",
       "      <th>3.8</th>\n",
       "      <td>1147</td>\n",
       "      <td>2726</td>\n",
       "    </tr>\n",
       "    <tr>\n",
       "      <th>3.9</th>\n",
       "      <td>1017</td>\n",
       "      <td>2955</td>\n",
       "    </tr>\n",
       "    <tr>\n",
       "      <th>4.0</th>\n",
       "      <td>874</td>\n",
       "      <td>2309</td>\n",
       "    </tr>\n",
       "    <tr>\n",
       "      <th>4.1</th>\n",
       "      <td>843</td>\n",
       "      <td>2105</td>\n",
       "    </tr>\n",
       "    <tr>\n",
       "      <th>4.2</th>\n",
       "      <td>648</td>\n",
       "      <td>1536</td>\n",
       "    </tr>\n",
       "    <tr>\n",
       "      <th>4.3</th>\n",
       "      <td>692</td>\n",
       "      <td>1001</td>\n",
       "    </tr>\n",
       "    <tr>\n",
       "      <th>4.4</th>\n",
       "      <td>374</td>\n",
       "      <td>773</td>\n",
       "    </tr>\n",
       "    <tr>\n",
       "      <th>4.5</th>\n",
       "      <td>297</td>\n",
       "      <td>359</td>\n",
       "    </tr>\n",
       "    <tr>\n",
       "      <th>4.6</th>\n",
       "      <td>140</td>\n",
       "      <td>160</td>\n",
       "    </tr>\n",
       "    <tr>\n",
       "      <th>4.7</th>\n",
       "      <td>113</td>\n",
       "      <td>54</td>\n",
       "    </tr>\n",
       "    <tr>\n",
       "      <th>4.8</th>\n",
       "      <td>34</td>\n",
       "      <td>32</td>\n",
       "    </tr>\n",
       "    <tr>\n",
       "      <th>4.9</th>\n",
       "      <td>12</td>\n",
       "      <td>43</td>\n",
       "    </tr>\n",
       "  </tbody>\n",
       "</table>\n",
       "</div>"
      ],
      "text/plain": [
       "online_order    No   Yes\n",
       "rate                    \n",
       "1.8              5     0\n",
       "2.0             11     0\n",
       "2.1              9    15\n",
       "2.2             10    16\n",
       "2.3             29    22\n",
       "2.4             36    34\n",
       "2.5             38    63\n",
       "2.6             83   177\n",
       "2.7            141   166\n",
       "2.8            224   376\n",
       "2.9            314   488\n",
       "3.0            439   584\n",
       "3.1            587   974\n",
       "3.2            829  1044\n",
       "3.3           1137  1173\n",
       "3.4           1024  1452\n",
       "3.5           1090  1694\n",
       "3.6           1090  2226\n",
       "3.7           1172  2649\n",
       "3.8           1147  2726\n",
       "3.9           1017  2955\n",
       "4.0            874  2309\n",
       "4.1            843  2105\n",
       "4.2            648  1536\n",
       "4.3            692  1001\n",
       "4.4            374   773\n",
       "4.5            297   359\n",
       "4.6            140   160\n",
       "4.7            113    54\n",
       "4.8             34    32\n",
       "4.9             12    43"
      ]
     },
     "execution_count": 16,
     "metadata": {},
     "output_type": "execute_result"
    }
   ],
   "source": [
    "x"
   ]
  },
  {
   "cell_type": "code",
   "execution_count": 17,
   "id": "f19cf2eb",
   "metadata": {},
   "outputs": [
    {
     "data": {
      "text/plain": [
       "<AxesSubplot:xlabel='rate'>"
      ]
     },
     "execution_count": 17,
     "metadata": {},
     "output_type": "execute_result"
    },
    {
     "data": {
      "image/png": "[encoded data removed]",
      "text/plain": [
       "<Figure size 640x480 with 1 Axes>"
      ]
     },
     "metadata": {},
     "output_type": "display_data"
    }
   ],
   "source": [
    "x.plot(kind = 'bar', stacked =  True)"
   ]
  },
  {
   "cell_type": "code",
   "execution_count": 18,
   "id": "9a234db5",
   "metadata": {},
   "outputs": [
    {
     "data": {
      "text/plain": [
       "rate\n",
       "1.8       5.0\n",
       "2.0      11.0\n",
       "2.1      24.0\n",
       "2.2      26.0\n",
       "2.3      51.0\n",
       "2.4      70.0\n",
       "2.5     101.0\n",
       "2.6     260.0\n",
       "2.7     307.0\n",
       "2.8     600.0\n",
       "2.9     802.0\n",
       "3.0    1023.0\n",
       "3.1    1561.0\n",
       "3.2    1873.0\n",
       "3.3    2310.0\n",
       "3.4    2476.0\n",
       "3.5    2784.0\n",
       "3.6    3316.0\n",
       "3.7    3821.0\n",
       "3.8    3873.0\n",
       "3.9    3972.0\n",
       "4.0    3183.0\n",
       "4.1    2948.0\n",
       "4.2    2184.0\n",
       "4.3    1693.0\n",
       "4.4    1147.0\n",
       "4.5     656.0\n",
       "4.6     300.0\n",
       "4.7     167.0\n",
       "4.8      66.0\n",
       "4.9      55.0\n",
       "dtype: float64"
      ]
     },
     "execution_count": 18,
     "metadata": {},
     "output_type": "execute_result"
    }
   ],
   "source": [
    "# getting sum of each rows.\n",
    "x.sum(axis = 1).astype(float)"
   ]
  },
  {
   "cell_type": "code",
   "execution_count": 19,
   "id": "3d928ef9",
   "metadata": {},
   "outputs": [],
   "source": [
    "normalize_df = x.div(x.sum(axis = 1).astype(float), axis = 0)"
   ]
  },
  {
   "cell_type": "code",
   "execution_count": 20,
   "id": "3bc94ddd",
   "metadata": {},
   "outputs": [
    {
     "data": {
      "text/html": [
       "<div>\n",
       "<style scoped>\n",
       "    .dataframe tbody tr th:only-of-type {\n",
       "        vertical-align: middle;\n",
       "    }\n",
       "\n",
       "    .dataframe tbody tr th {\n",
       "        vertical-align: top;\n",
       "    }\n",
       "\n",
       "    .dataframe thead th {\n",
       "        text-align: right;\n",
       "    }\n",
       "</style>\n",
       "<table border=\"1\" class=\"dataframe\">\n",
       "  <thead>\n",
       "    <tr style=\"text-align: right;\">\n",
       "      <th>online_order</th>\n",
       "      <th>No</th>\n",
       "      <th>Yes</th>\n",
       "    </tr>\n",
       "    <tr>\n",
       "      <th>rate</th>\n",
       "      <th></th>\n",
       "      <th></th>\n",
       "    </tr>\n",
       "  </thead>\n",
       "  <tbody>\n",
       "    <tr>\n",
       "      <th>1.8</th>\n",
       "      <td>1.000000</td>\n",
       "      <td>0.000000</td>\n",
       "    </tr>\n",
       "    <tr>\n",
       "      <th>2.0</th>\n",
       "      <td>1.000000</td>\n",
       "      <td>0.000000</td>\n",
       "    </tr>\n",
       "    <tr>\n",
       "      <th>2.1</th>\n",
       "      <td>0.375000</td>\n",
       "      <td>0.625000</td>\n",
       "    </tr>\n",
       "    <tr>\n",
       "      <th>2.2</th>\n",
       "      <td>0.384615</td>\n",
       "      <td>0.615385</td>\n",
       "    </tr>\n",
       "    <tr>\n",
       "      <th>2.3</th>\n",
       "      <td>0.568627</td>\n",
       "      <td>0.431373</td>\n",
       "    </tr>\n",
       "    <tr>\n",
       "      <th>2.4</th>\n",
       "      <td>0.514286</td>\n",
       "      <td>0.485714</td>\n",
       "    </tr>\n",
       "    <tr>\n",
       "      <th>2.5</th>\n",
       "      <td>0.376238</td>\n",
       "      <td>0.623762</td>\n",
       "    </tr>\n",
       "    <tr>\n",
       "      <th>2.6</th>\n",
       "      <td>0.319231</td>\n",
       "      <td>0.680769</td>\n",
       "    </tr>\n",
       "    <tr>\n",
       "      <th>2.7</th>\n",
       "      <td>0.459283</td>\n",
       "      <td>0.540717</td>\n",
       "    </tr>\n",
       "    <tr>\n",
       "      <th>2.8</th>\n",
       "      <td>0.373333</td>\n",
       "      <td>0.626667</td>\n",
       "    </tr>\n",
       "    <tr>\n",
       "      <th>2.9</th>\n",
       "      <td>0.391521</td>\n",
       "      <td>0.608479</td>\n",
       "    </tr>\n",
       "    <tr>\n",
       "      <th>3.0</th>\n",
       "      <td>0.429130</td>\n",
       "      <td>0.570870</td>\n",
       "    </tr>\n",
       "    <tr>\n",
       "      <th>3.1</th>\n",
       "      <td>0.376041</td>\n",
       "      <td>0.623959</td>\n",
       "    </tr>\n",
       "    <tr>\n",
       "      <th>3.2</th>\n",
       "      <td>0.442605</td>\n",
       "      <td>0.557395</td>\n",
       "    </tr>\n",
       "    <tr>\n",
       "      <th>3.3</th>\n",
       "      <td>0.492208</td>\n",
       "      <td>0.507792</td>\n",
       "    </tr>\n",
       "    <tr>\n",
       "      <th>3.4</th>\n",
       "      <td>0.413570</td>\n",
       "      <td>0.586430</td>\n",
       "    </tr>\n",
       "    <tr>\n",
       "      <th>3.5</th>\n",
       "      <td>0.391523</td>\n",
       "      <td>0.608477</td>\n",
       "    </tr>\n",
       "    <tr>\n",
       "      <th>3.6</th>\n",
       "      <td>0.328709</td>\n",
       "      <td>0.671291</td>\n",
       "    </tr>\n",
       "    <tr>\n",
       "      <th>3.7</th>\n",
       "      <td>0.306726</td>\n",
       "      <td>0.693274</td>\n",
       "    </tr>\n",
       "    <tr>\n",
       "      <th>3.8</th>\n",
       "      <td>0.296153</td>\n",
       "      <td>0.703847</td>\n",
       "    </tr>\n",
       "    <tr>\n",
       "      <th>3.9</th>\n",
       "      <td>0.256042</td>\n",
       "      <td>0.743958</td>\n",
       "    </tr>\n",
       "    <tr>\n",
       "      <th>4.0</th>\n",
       "      <td>0.274584</td>\n",
       "      <td>0.725416</td>\n",
       "    </tr>\n",
       "    <tr>\n",
       "      <th>4.1</th>\n",
       "      <td>0.285957</td>\n",
       "      <td>0.714043</td>\n",
       "    </tr>\n",
       "    <tr>\n",
       "      <th>4.2</th>\n",
       "      <td>0.296703</td>\n",
       "      <td>0.703297</td>\n",
       "    </tr>\n",
       "    <tr>\n",
       "      <th>4.3</th>\n",
       "      <td>0.408742</td>\n",
       "      <td>0.591258</td>\n",
       "    </tr>\n",
       "    <tr>\n",
       "      <th>4.4</th>\n",
       "      <td>0.326068</td>\n",
       "      <td>0.673932</td>\n",
       "    </tr>\n",
       "    <tr>\n",
       "      <th>4.5</th>\n",
       "      <td>0.452744</td>\n",
       "      <td>0.547256</td>\n",
       "    </tr>\n",
       "    <tr>\n",
       "      <th>4.6</th>\n",
       "      <td>0.466667</td>\n",
       "      <td>0.533333</td>\n",
       "    </tr>\n",
       "    <tr>\n",
       "      <th>4.7</th>\n",
       "      <td>0.676647</td>\n",
       "      <td>0.323353</td>\n",
       "    </tr>\n",
       "    <tr>\n",
       "      <th>4.8</th>\n",
       "      <td>0.515152</td>\n",
       "      <td>0.484848</td>\n",
       "    </tr>\n",
       "    <tr>\n",
       "      <th>4.9</th>\n",
       "      <td>0.218182</td>\n",
       "      <td>0.781818</td>\n",
       "    </tr>\n",
       "  </tbody>\n",
       "</table>\n",
       "</div>"
      ],
      "text/plain": [
       "online_order        No       Yes\n",
       "rate                            \n",
       "1.8           1.000000  0.000000\n",
       "2.0           1.000000  0.000000\n",
       "2.1           0.375000  0.625000\n",
       "2.2           0.384615  0.615385\n",
       "2.3           0.568627  0.431373\n",
       "2.4           0.514286  0.485714\n",
       "2.5           0.376238  0.623762\n",
       "2.6           0.319231  0.680769\n",
       "2.7           0.459283  0.540717\n",
       "2.8           0.373333  0.626667\n",
       "2.9           0.391521  0.608479\n",
       "3.0           0.429130  0.570870\n",
       "3.1           0.376041  0.623959\n",
       "3.2           0.442605  0.557395\n",
       "3.3           0.492208  0.507792\n",
       "3.4           0.413570  0.586430\n",
       "3.5           0.391523  0.608477\n",
       "3.6           0.328709  0.671291\n",
       "3.7           0.306726  0.693274\n",
       "3.8           0.296153  0.703847\n",
       "3.9           0.256042  0.743958\n",
       "4.0           0.274584  0.725416\n",
       "4.1           0.285957  0.714043\n",
       "4.2           0.296703  0.703297\n",
       "4.3           0.408742  0.591258\n",
       "4.4           0.326068  0.673932\n",
       "4.5           0.452744  0.547256\n",
       "4.6           0.466667  0.533333\n",
       "4.7           0.676647  0.323353\n",
       "4.8           0.515152  0.484848\n",
       "4.9           0.218182  0.781818"
      ]
     },
     "execution_count": 20,
     "metadata": {},
     "output_type": "execute_result"
    }
   ],
   "source": [
    "normalize_df"
   ]
  },
  {
   "cell_type": "code",
   "execution_count": 21,
   "id": "7fc697bb",
   "metadata": {
    "scrolled": true
   },
   "outputs": [
    {
     "data": {
      "text/plain": [
       "<AxesSubplot:xlabel='rate'>"
      ]
     },
     "execution_count": 21,
     "metadata": {},
     "output_type": "execute_result"
    },
    {
     "data": {
      "image/png": "[encoded data removed]",
      "text/plain": [
       "<Figure size 640x480 with 1 Axes>"
      ]
     },
     "metadata": {},
     "output_type": "display_data"
    }
   ],
   "source": [
    "normalize_df.plot(kind = 'bar', stacked = True)"
   ]
  },
  {
   "cell_type": "code",
   "execution_count": 22,
   "id": "a0979418",
   "metadata": {},
   "outputs": [],
   "source": [
    "# from the above graph we can say that for good rating restaurants should have more online orders \n"
   ]
  },
  {
   "cell_type": "code",
   "execution_count": 23,
   "id": "8df133d2",
   "metadata": {},
   "outputs": [
    {
     "data": {
      "text/html": [
       "<div>\n",
       "<style scoped>\n",
       "    .dataframe tbody tr th:only-of-type {\n",
       "        vertical-align: middle;\n",
       "    }\n",
       "\n",
       "    .dataframe tbody tr th {\n",
       "        vertical-align: top;\n",
       "    }\n",
       "\n",
       "    .dataframe thead th {\n",
       "        text-align: right;\n",
       "    }\n",
       "</style>\n",
       "<table border=\"1\" class=\"dataframe\">\n",
       "  <thead>\n",
       "    <tr style=\"text-align: right;\">\n",
       "      <th></th>\n",
       "      <th>index</th>\n",
       "      <th>url</th>\n",
       "      <th>address</th>\n",
       "      <th>name</th>\n",
       "      <th>online_order</th>\n",
       "      <th>book_table</th>\n",
       "      <th>rate</th>\n",
       "      <th>votes</th>\n",
       "      <th>phone</th>\n",
       "      <th>location</th>\n",
       "      <th>rest_type</th>\n",
       "      <th>dish_liked</th>\n",
       "      <th>cuisines</th>\n",
       "      <th>approx_cost(for two people)</th>\n",
       "      <th>reviews_list</th>\n",
       "      <th>menu_item</th>\n",
       "      <th>listed_in(type)</th>\n",
       "      <th>listed_in(city)</th>\n",
       "    </tr>\n",
       "  </thead>\n",
       "  <tbody>\n",
       "    <tr>\n",
       "      <th>0</th>\n",
       "      <td>0</td>\n",
       "      <td>https://www.zomato.com/bangalore/jalsa-banasha...</td>\n",
       "      <td>942, 21st Main Road, 2nd Stage, Banashankari, ...</td>\n",
       "      <td>Jalsa</td>\n",
       "      <td>Yes</td>\n",
       "      <td>Yes</td>\n",
       "      <td>4.1</td>\n",
       "      <td>775</td>\n",
       "      <td>080 42297555\\r\\n+91 9743772233</td>\n",
       "      <td>Banashankari</td>\n",
       "      <td>Casual Dining</td>\n",
       "      <td>Pasta, Lunch Buffet, Masala Papad, Paneer Laja...</td>\n",
       "      <td>North Indian, Mughlai, Chinese</td>\n",
       "      <td>800</td>\n",
       "      <td>[('Rated 4.0', 'RATED\\n  A beautiful place to ...</td>\n",
       "      <td>[]</td>\n",
       "      <td>Buffet</td>\n",
       "      <td>Banashankari</td>\n",
       "    </tr>\n",
       "    <tr>\n",
       "      <th>1</th>\n",
       "      <td>1</td>\n",
       "      <td>https://www.zomato.com/bangalore/spice-elephan...</td>\n",
       "      <td>2nd Floor, 80 Feet Road, Near Big Bazaar, 6th ...</td>\n",
       "      <td>Spice Elephant</td>\n",
       "      <td>Yes</td>\n",
       "      <td>No</td>\n",
       "      <td>4.1</td>\n",
       "      <td>787</td>\n",
       "      <td>080 41714161</td>\n",
       "      <td>Banashankari</td>\n",
       "      <td>Casual Dining</td>\n",
       "      <td>Momos, Lunch Buffet, Chocolate Nirvana, Thai G...</td>\n",
       "      <td>Chinese, North Indian, Thai</td>\n",
       "      <td>800</td>\n",
       "      <td>[('Rated 4.0', 'RATED\\n  Had been here for din...</td>\n",
       "      <td>[]</td>\n",
       "      <td>Buffet</td>\n",
       "      <td>Banashankari</td>\n",
       "    </tr>\n",
       "  </tbody>\n",
       "</table>\n",
       "</div>"
      ],
      "text/plain": [
       "   index                                                url  \\\n",
       "0      0  https://www.zomato.com/bangalore/jalsa-banasha...   \n",
       "1      1  https://www.zomato.com/bangalore/spice-elephan...   \n",
       "\n",
       "                                             address            name  \\\n",
       "0  942, 21st Main Road, 2nd Stage, Banashankari, ...           Jalsa   \n",
       "1  2nd Floor, 80 Feet Road, Near Big Bazaar, 6th ...  Spice Elephant   \n",
       "\n",
       "  online_order book_table  rate  votes                           phone  \\\n",
       "0          Yes        Yes   4.1    775  080 42297555\\r\\n+91 9743772233   \n",
       "1          Yes         No   4.1    787                    080 41714161   \n",
       "\n",
       "       location      rest_type  \\\n",
       "0  Banashankari  Casual Dining   \n",
       "1  Banashankari  Casual Dining   \n",
       "\n",
       "                                          dish_liked  \\\n",
       "0  Pasta, Lunch Buffet, Masala Papad, Paneer Laja...   \n",
       "1  Momos, Lunch Buffet, Chocolate Nirvana, Thai G...   \n",
       "\n",
       "                         cuisines approx_cost(for two people)  \\\n",
       "0  North Indian, Mughlai, Chinese                         800   \n",
       "1     Chinese, North Indian, Thai                         800   \n",
       "\n",
       "                                        reviews_list menu_item  \\\n",
       "0  [('Rated 4.0', 'RATED\\n  A beautiful place to ...        []   \n",
       "1  [('Rated 4.0', 'RATED\\n  Had been here for din...        []   \n",
       "\n",
       "  listed_in(type) listed_in(city)  \n",
       "0          Buffet    Banashankari  \n",
       "1          Buffet    Banashankari  "
      ]
     },
     "execution_count": 23,
     "metadata": {},
     "output_type": "execute_result"
    }
   ],
   "source": [
    "df.head(2)"
   ]
  },
  {
   "cell_type": "code",
   "execution_count": 24,
   "id": "e172c3d8",
   "metadata": {},
   "outputs": [
    {
     "data": {
      "text/plain": [
       "227"
      ]
     },
     "execution_count": 24,
     "metadata": {},
     "output_type": "execute_result"
    }
   ],
   "source": [
    "# checking missing values/ null values in rest_type column\n",
    "df['rest_type'].isnull().sum()"
   ]
  },
  {
   "cell_type": "code",
   "execution_count": 25,
   "id": "2b86cc3d",
   "metadata": {},
   "outputs": [],
   "source": [
    "# deleting null values from rest_type column \n",
    "data = df.dropna(subset = ['rest_type'])"
   ]
  },
  {
   "cell_type": "code",
   "execution_count": 26,
   "id": "9cf23410",
   "metadata": {},
   "outputs": [
    {
     "data": {
      "text/plain": [
       "0"
      ]
     },
     "execution_count": 26,
     "metadata": {},
     "output_type": "execute_result"
    }
   ],
   "source": [
    "data['rest_type'].isnull().sum()"
   ]
  },
  {
   "cell_type": "code",
   "execution_count": 27,
   "id": "4745c2bb",
   "metadata": {},
   "outputs": [
    {
     "data": {
      "text/plain": [
       "array(['Casual Dining', 'Cafe, Casual Dining', 'Quick Bites',\n",
       "       'Casual Dining, Cafe', 'Cafe', 'Quick Bites, Cafe',\n",
       "       'Cafe, Quick Bites', 'Delivery', 'Mess', 'Dessert Parlor',\n",
       "       'Bakery, Dessert Parlor', 'Pub', 'Bakery', 'Takeaway, Delivery',\n",
       "       'Fine Dining', 'Beverage Shop', 'Sweet Shop', 'Bar',\n",
       "       'Beverage Shop, Quick Bites', 'Confectionery',\n",
       "       'Quick Bites, Beverage Shop', 'Dessert Parlor, Sweet Shop',\n",
       "       'Bakery, Quick Bites', 'Sweet Shop, Quick Bites', 'Kiosk',\n",
       "       'Food Truck', 'Quick Bites, Dessert Parlor',\n",
       "       'Beverage Shop, Dessert Parlor', 'Takeaway', 'Pub, Casual Dining',\n",
       "       'Casual Dining, Bar', 'Dessert Parlor, Beverage Shop',\n",
       "       'Quick Bites, Bakery', 'Dessert Parlor, Quick Bites',\n",
       "       'Microbrewery, Casual Dining', 'Lounge', 'Bar, Casual Dining',\n",
       "       'Food Court', 'Cafe, Bakery', 'Dhaba', 'Quick Bites, Sweet Shop',\n",
       "       'Microbrewery', 'Food Court, Quick Bites', 'Pub, Bar',\n",
       "       'Casual Dining, Pub', 'Lounge, Bar', 'Food Court, Dessert Parlor',\n",
       "       'Casual Dining, Sweet Shop', 'Food Court, Casual Dining',\n",
       "       'Casual Dining, Microbrewery', 'Sweet Shop, Dessert Parlor',\n",
       "       'Bakery, Beverage Shop', 'Lounge, Casual Dining',\n",
       "       'Cafe, Food Court', 'Beverage Shop, Cafe', 'Cafe, Dessert Parlor',\n",
       "       'Dessert Parlor, Cafe', 'Dessert Parlor, Bakery',\n",
       "       'Microbrewery, Pub', 'Bakery, Food Court', 'Club',\n",
       "       'Quick Bites, Food Court', 'Bakery, Cafe', 'Bar, Cafe',\n",
       "       'Pub, Cafe', 'Casual Dining, Irani Cafee', 'Fine Dining, Lounge',\n",
       "       'Bar, Quick Bites', 'Bakery, Kiosk', 'Pub, Microbrewery',\n",
       "       'Microbrewery, Lounge', 'Fine Dining, Microbrewery',\n",
       "       'Fine Dining, Bar', 'Mess, Quick Bites', 'Dessert Parlor, Kiosk',\n",
       "       'Bhojanalya', 'Casual Dining, Quick Bites', 'Pop Up', 'Cafe, Bar',\n",
       "       'Casual Dining, Lounge', 'Bakery, Sweet Shop', 'Microbrewery, Bar',\n",
       "       'Cafe, Lounge', 'Bar, Pub', 'Lounge, Cafe', 'Club, Casual Dining',\n",
       "       'Quick Bites, Mess', 'Quick Bites, Meat Shop',\n",
       "       'Quick Bites, Kiosk', 'Lounge, Microbrewery',\n",
       "       'Food Court, Beverage Shop', 'Dessert Parlor, Food Court',\n",
       "       'Bar, Lounge'], dtype=object)"
      ]
     },
     "execution_count": 27,
     "metadata": {},
     "output_type": "execute_result"
    }
   ],
   "source": [
    "# checking unique values in rest_type column (Restaurant type) \n",
    "data.rest_type.unique()"
   ]
  },
  {
   "cell_type": "code",
   "execution_count": 28,
   "id": "82f84879",
   "metadata": {},
   "outputs": [],
   "source": [
    "# picking a restaurant quick_bites and generating variable containing data of rest_type \"Quick Bites\"\n",
    "quick_bites_df = data[data['rest_type'].str.contains('Quick Bites')]"
   ]
  },
  {
   "cell_type": "code",
   "execution_count": 29,
   "id": "2f65bf89",
   "metadata": {},
   "outputs": [
    {
     "data": {
      "text/plain": [
       "(20639, 18)"
      ]
     },
     "execution_count": 29,
     "metadata": {},
     "output_type": "execute_result"
    }
   ],
   "source": [
    "quick_bites_df.shape"
   ]
  },
  {
   "cell_type": "code",
   "execution_count": 30,
   "id": "007a8b45",
   "metadata": {},
   "outputs": [
    {
     "data": {
      "text/plain": [
       "Index(['index', 'url', 'address', 'name', 'online_order', 'book_table', 'rate',\n",
       "       'votes', 'phone', 'location', 'rest_type', 'dish_liked', 'cuisines',\n",
       "       'approx_cost(for two people)', 'reviews_list', 'menu_item',\n",
       "       'listed_in(type)', 'listed_in(city)'],\n",
       "      dtype='object')"
      ]
     },
     "execution_count": 30,
     "metadata": {},
     "output_type": "execute_result"
    }
   ],
   "source": [
    "quick_bites_df.columns"
   ]
  },
  {
   "cell_type": "code",
   "execution_count": 31,
   "id": "dd9eb034",
   "metadata": {
    "scrolled": true
   },
   "outputs": [
    {
     "data": {
      "text/plain": [
       "3        [('Rated 4.0', \"RATED\\n  Great food and proper...\n",
       "23       [('Rated 4.0', \"RATED\\n  So, went here with fr...\n",
       "26       [('Rated 5.0', 'RATED\\n  please provide some e...\n",
       "31       [('Rated 1.0', \"RATED\\n  Worst restaurant ever...\n",
       "34       [('Rated 3.0', 'RATED\\n  Not worth for the mon...\n",
       "                               ...                        \n",
       "51641    [('Rated 2.0', \"RATED\\n  Food is not upto the ...\n",
       "51642                                                   []\n",
       "51643                                                   []\n",
       "51644                                                   []\n",
       "51645    [('Rated 5.0', \"RATED\\n  I was randomly lookin...\n",
       "Name: reviews_list, Length: 20639, dtype: object"
      ]
     },
     "execution_count": 31,
     "metadata": {},
     "output_type": "execute_result"
    }
   ],
   "source": [
    "# Checking review_list column data\n",
    "quick_bites_df['reviews_list']"
   ]
  },
  {
   "cell_type": "code",
   "execution_count": 32,
   "id": "b89731ee",
   "metadata": {},
   "outputs": [],
   "source": [
    "# we will check that what are some famous restuarant that users try to check through review keywords.\n",
    "# we will try to get those topmost keywords that most users have given in review column to get what users want as a dish."
   ]
  },
  {
   "cell_type": "code",
   "execution_count": 33,
   "id": "e432f8d4",
   "metadata": {
    "scrolled": true
   },
   "outputs": [
    {
     "name": "stderr",
     "output_type": "stream",
     "text": [
      "C:\\Users\\Abhishek\\AppData\\Local\\Temp\\ipykernel_8352\\2980711875.py:3: SettingWithCopyWarning: \n",
      "A value is trying to be set on a copy of a slice from a DataFrame.\n",
      "Try using .loc[row_indexer,col_indexer] = value instead\n",
      "\n",
      "See the caveats in the documentation: https://pandas.pydata.org/pandas-docs/stable/user_guide/indexing.html#returning-a-view-versus-a-copy\n",
      "  quick_bites_df['reviews_list'] = quick_bites_df['reviews_list'].apply(lambda x :x.lower())\n"
     ]
    }
   ],
   "source": [
    "# lower case all values in review list to remove and ambiguity for identifying small and capital letters in same words.\n",
    "\n",
    "quick_bites_df['reviews_list'] = quick_bites_df['reviews_list'].apply(lambda x :x.lower())"
   ]
  },
  {
   "cell_type": "code",
   "execution_count": 34,
   "id": "41eef513",
   "metadata": {},
   "outputs": [],
   "source": [
    "# removing special characters from review_list column data\n",
    "# data cleaning to perform text analysis.\n",
    "from nltk.corpus import RegexpTokenizer"
   ]
  },
  {
   "cell_type": "code",
   "execution_count": 35,
   "id": "47aa4134",
   "metadata": {},
   "outputs": [],
   "source": [
    "# tokenizing the words in a sentence according to below pattern. (having only lower and uppercase words excluding and special character)\n",
    "tokenizer = RegexpTokenizer('[a-zA-Z]+')"
   ]
  },
  {
   "cell_type": "code",
   "execution_count": 36,
   "id": "8b1abff5",
   "metadata": {},
   "outputs": [
    {
     "data": {
      "text/plain": [
       "RegexpTokenizer(pattern='[a-zA-Z]+', gaps=False, discard_empty=True, flags=re.UNICODE|re.MULTILINE|re.DOTALL)"
      ]
     },
     "execution_count": 36,
     "metadata": {},
     "output_type": "execute_result"
    }
   ],
   "source": [
    "tokenizer"
   ]
  },
  {
   "cell_type": "code",
   "execution_count": 37,
   "id": "a566fef5",
   "metadata": {},
   "outputs": [
    {
     "name": "stdout",
     "output_type": "stream",
     "text": [
      "['rated', 'rated', 'n', 'great', 'food', 'and', 'proper', 'karnataka', 'style', 'full', 'meals', 'been', 'there', 'twice', 'and', 'was', 'fully', 'satisfied', 'will', 'give', 'stars', 'if', 'it', 's', 'well', 'managed', 'rated', 'rated', 'n', 'reached', 'the', 'place', 'at', 'pm', 'on', 'saturday', 'half', 'of', 'the', 'items', 'on', 'the', 'menu', 'were', 'over', 'what', 'was', 'annoying', 'was', 'is', 'the', 'food', 'was', 'cold', 'the', 'taste', 'was', 'also', 'very', 'average', 'only', 'dosa', 'and', 'holige', 'were', 'good', 'there', 'were', 'very', 'few', 'people', 'in', 'the', 'restaurant', 'and', 'the', 'service', 'was', 'still', 'very', 'slow', 'the', 'waiters', 'were', 'all', 'standing', 'in', 'one', 'corner', 'and', 'talking', 'had', 'to', 'call', 'them', 'repeatedly', 'rated', 'rated', 'n', 'had', 'been', 'here', 'good', 'food', 'served', 'and', 'tasty', 'good', 'place', 'to', 'go', 'with', 'freinds', 'and', 'family', 'should', 'be', 'first', 'to', 'get', 'served', 'well', 'with', 'all', 'food', 'one', 'of', 'the', 'good', 'hotel', 'there', 'for', 'this', 'price', 'rated', 'rated', 'n', 'how', 'can', 'a', 'udupi', 'restaurant', 'be', 'so', 'dirty', 'the', 'floor', 'the', 'walls', 'the', 'waiters', 'are', 'all', 'stained', 'in', 'food', 'why', 'cant', 'they', 'clean', 'it', 'the', 'floor', 'even', 'had', 'decorative', 'colour', 'paper', 'every', 'where', 'and', 'lot', 'of', 'food', 'now', 'coming', 'to', 'the', 'taste', 'of', 'the', 'food', 'it', 'was', 'pretty', 'decent', 'for', 'what', 'they', 'chargw', 'what', 'upset', 'us', 'was', 'the', 'menu', 'says', 'they', 'serve', 'thambuli', 'two', 'variety', 'of', 'rice', 'etc', 'but', 'they', 'were', 'all', 'over', 'at', 'but', 'they', 'still', 'charged', 'us', 'full', 'amount', 'lastly', 'if', 'u', 'r', 'ok', 'to', 'b', 'seated', 'with', 'random', 'people', 'and', 'adjust', 'with', 'their', 'table', 'manners', 'burrping', 'etc', 'then', 'tis', 'place', 'is', 'decent', 'for', 'a', 'quick', 'veg', 'udupi', 'meals', 'rated', 'rated', 'n', 'aadhuri', 'udupi', 'bhojana', 'is', 'one', 'of', 'the', 'best', 'vegetarian', 'hotel', 'in', 'and', 'around', 'banashankari', 'locality', 'nwere', 'we', 'can', 'enjoy', 'the', 'authentic', 'south', 'karnataka', 'style', 'food', 'rated', 'rated', 'n', 'one', 'of', 'the', 'best', 'restaurants', 'for', 'unlimited', 'food', 'price', 'for', 'one', 'full', 'unlimited', 'meal', 'is', 'and', 'the', 'service', 'is', 'awesome', 'here', 'if', 'you', 'x', 'x', 'x', 'x', 'x', 'x', 'x', 'x', 're', 'a', 'costalian', 'you', 'will', 'love', 'the', 'food', 'served', 'here', 'rated', 'rated', 'n', 'been', 'here', 'a', 'couple', 'of', 'times', 'highly', 'satisfying', 'on', 'both', 'the', 'ocassions', 'great', 'food', 'decent', 'service', 'at', 'price', 'of', 'per', 'person', 'it', 'is', 'of', 'a', 'great', 'value', 'the', 'staff', 'here', 'serves', 'in', 'a', 'traditional', 'mysore', 'style', 'dresses', 'the', 'food', 'is', 'authentic', 'karnataka', 'meals', 'i', 'really', 'liked', 'the', 'pineapple', 'pickle', 'chutney', 'they', 'serve', 'some', 'varities', 'of', 'rice', 'of', 'which', 'you', 'shouldn', 't', 'try', 'all', 'as', 'you', 'would', 'already', 'be', 'full', 'roti', 'dosa', 'were', 'decent', 'in', 'the', 'deserts', 'payasam', 'holige', 'were', 'good', 'ni', 'think', 'it', 'is', 'one', 'the', 'must', 'try', 'places', 'to', 'try', 'some', 'authentic', 'south', 'food', 'even', 'if', 'you', 'have', 'been', 'to', 'the', 'likes', 'of', 'kamath', 'etc', 'this', 'one', 'is', 'a', 'little', 'different', 'rated', 'rated', 'n', 'very', 'good', 'restorent', 'good', 'south', 'indian', 'food', 'very', 'nice', 'all', 'food', 's', 'are', 'good', 'we', 'spent', 'good', 'time', 'and', 'food', 'in', 'this', 'hotel', 'value', 'of', 'money', 'we', 'loved', 'it', 'rated', 'rated', 'n', 'i', 'went', 'to', 'this', 'restaurant', 'on', 'sunday', 'afternoon', 'it', 'was', 'a', 'bit', 'crowded', 'n', 'nits', 'located', 'in', 'the', 'st', 'floor', 'above', 'anna', 'kuteera', 'kathriguppe', 'n', 'nyou', 'need', 'to', 'take', 'food', 'coupon', 'in', 'the', 'ground', 'floor', 'itself', 'nit', 'was', 'rs', 'n', 'ntaste', 'wise', 'it', 'was', 'good', 'nservice', 'was', 'slow', 'nnothing', 'exciting', 'different', 'in', 'the', 'menu', 'nwhatever', 'they', 'serve', 'its', 'good', 'nworth', 'for', 'money', 'rated', 'rated', 'n', 'awesome', 'place', 'worth', 'with', 'price', 'quality', 'quantity', 'service', 'hygiene', 'and', 'discipline', 'i', 'loved', 'it', 'wish', 'there', 'were', 'more', 'rating', 'stars', 'to', 'give', 'i', 'give', 'on', 'for', 'sure', 'rated', 'rated', 'n', 'nice', 'food', 'good', 'ambiance', 'so', 'many', 'verity', 'of', 'food', 'this', 'time', 'i', 'was', 'in', 'hurry', 'so', 'next', 'review', 'will', 'be', 'detailed', 'one', 'its', 'good', 'to', 'see', 'all', 'dishes', 'at', 'one', 'place', 'rated', 'rated', 'n', 'the', 'food', 'was', 'not', 'satisfactory', 'not', 'one', 'item', 'served', 'could', 'be', 'eaten', 'again', 'only', 'advantage', 'is', 'the', 'price', 'but', 'even', 'that', 'is', 'not', 'going', 'to', 'be', 'enough', 'to', 'make', 'me', 'visit', 'the', 'place', 'again', 'dear', 'udupi', 'staff', 'people', 'wouldn', 'x', 'x', 'x', 'x', 'x', 'x', 'x', 'x', 't', 'mind', 'if', 'the', 'food', 'quality', 'was', 'better', 'for', 'a', 'higher', 'price', 'and', 'please', 'get', 'more', 'fans', 'so', 'that', 'people', 'won', 'x', 'x', 'x', 'x', 'x', 'x', 'x', 'x', 't', 'have', 'to', 'deal', 'with', 'another', 'disappointment', 'of', 'sweating', 'while', 'eating', 'rated', 'rated', 'n', 'excellent', 'quality', 'and', 'taste', 'more', 'variety', 'of', 'authentic', 'south', 'indian', 'food', 'excellent', 'service', 'highly', 'recommended', 'worth', 'the', 'money', 'we', 'pay', 'here', 'rated', 'rated', 'n', 'i', 'm', 'rating', 'only', 'because', 'of', 'the', 'large', 'number', 'of', 'items', 'they', 'serve', 'for', 'the', 'price', 'they', 'charge', 'while', 'the', 'taste', 'is', 'moderate', 'the', 'biggest', 'turn', 'off', 'is', 'the', 'poor', 'service', 'and', 'totally', 'unresponsive', 'staff', 'they', 'are', 'either', 'understaffed', 'or', 'poorly', 'trained', 'i', 'didn', 't', 'get', 'to', 'taste', 'a', 'few', 'items', 'thanks', 'to', 'their', 'ever', 'busy', 'staff', 'and', 'ended', 'eating', 'what', 'was', 'served', 'please', 'learn', 'the', 'crowd', 'management', 'from', 'other', 'peers', 'like', 'maiyya', 'and', 'roti', 'ghar', 'rated', 'rated', 'n', 'one', 'of', 'my', 'colleagues', 'suggested', 'this', 'place', 'went', 'there', 'at', 'pm', 'and', 'place', 'wasnt', 'crowded', 'ambience', 'is', 'decent', 'and', 'cool', 'a', 'welcome', 'drink', 'appekai', 'saru', 'was', 'served', 'then', 'started', 'typical', 'baale', 'yele', 'uta', 'diffrerent', 'types', 'of', 'palya', 'kosambari', 'and', 'sides', 'then', 'came', 'masala', 'dosa', 'pulka', 'pulav', 'veg', 'rice', 'bath', 'masala', 'dosa', 'was', 'very', 'very', 'tasty', 'service', 'is', 'bit', 'fast', 'as', 'people', 'will', 'be', 'coming', 'but', 'they', 'will', 'make', 'it', 'slow', 'if', 'u', 'tell', 'them', 'to', 'then', 'comes', 'rice', 'with', 'sambar', 'rasam', 'daal', 'tambali', 'and', 'yes', 'dont', 'forget', 'to', 'eat', 'holige', 'payasam', 'and', 'icecream', 'service', 'is', 'very', 'nice', 'one', 'best', 'thing', 'is', 'all', 'of', 'this', 'comes', 'in', 'just', 'rs', 'and', 'its', 'unlimited', 'what', 'else', 'you', 'want', 'a', 'must', 'visit', 'place', 'for', 'south', 'indian', 'foodie', 'rated', 'rated', 'n', 'been', 'here', 'last', 'week', 'with', 'high', 'expectations', 'based', 'on', 'few', 'reviews', 'but', 'utterly', 'disappointed', 'with', 'the', 'food', 'quality', 'taste', 'i', 'feel', 'it', 's', 'an', 'overhyped', 'place', 'there', 'are', 'many', 'better', 'places', 'in', 'the', 'vicinity', 'for', 'plantain', 'leaf', 'meal', 'there', 'was', 'too', 'much', 'of', 'waiting', 'these', 'staffs', 'were', 'too', 'hurry', 'in', 'serving', 'food', 'asking', 'people', 'to', 'finish', 'meal', 'leave', 'quickly', 'i', 'can', 'understand', 'there', 'is', 'a', 'waiting', 'and', 'staffs', 'should', 'approach', 'in', 'a', 'positive', 'way', 'i', 'will', 'never', 'go', 'there', 'again', 'n', 'nbangaloreepicure', 'com', 'rated', 'rated', 'n', 'i', 'have', 'a', 'confession', 'being', 'a', 'south', 'indian', 'i', 'distaste', 'south', 'indian', 'food', 'not', 'that', 'i', 'hate', 'it', 'i', 'don', 't', 'like', 'it', 'either', 'but', 'still', 'made', 'up', 'my', 'mind', 'on', 'sankaranti', 'to', 'have', 'authentic', 'south', 'indian', 'food', 'visited', 'adduri', 'udupi', 'bhojana', 'because', 'it', 'was', 'close', 'to', 'my', 'place', 'i', 'just', 'had', 'a', 'look', 'at', 'the', 'menu', 'told', 'myself', 'that', 'i', 'can', 'do', 'it', 'i', 'am', 'not', 'blessed', 'with', 'a', 'tremendous', 'appetite', 'welcomed', 'with', 'the', 'mango', 'soup', 'followed', 'by', 'the', 'wide', 'variety', 'of', 'dishes', 'served', 'i', 'have', 'developed', 'the', 'new', 'love', 'for', 'pongal', 'both', 'sweet', 'and', 'khara', 'i', 'can', 'still', 'feel', 'the', 'taste', 'of', 'the', 'ghee', 'bursting', 'in', 'my', 'mouth', 'but', 'it', 'was', 'kai', 'holige', 'that', 'made', 'my', 'day', 'crisp', 'and', 'soft', 'not', 'to', 'forget', 'food', 'is', 'served', 'on', 'a', 'banana', 'leaf', 'that', 'adds', 'in', 'more', 'flavor', 'and', 'taste', 'waiters', 'are', 'attentive', 'and', 'responsive', 'the', 'customer', 's', 'needs', 'are', 'monitored', 'and', 'addressed', 'so', 'much', 'variety', 'for', 'just', 'rs', 'without', 'compromising', 'on', 'quantity', 'and', 'quality', 'and', 'yes', 'it', 'is', 'unlimited', 'this', 'visit', 'turned', 'out', 'to', 'be', 'a', 'surprise', 'package', 'rated', 'rated', 'n', 'food', 'is', 'good', 'nno', 'parking', 'nambience', 'is', 'average', 'noverall', 'its', 'value', 'for', 'money', 'if', 'you', 'looking', 'for', 'south', 'indian', 'food', 'npreferred', 'the', 'tiffin', 'items', 'rated', 'rated', 'n', 'been', 'here', 'last', 'week', 'with', 'high', 'expectations', 'based', 'on', 'few', 'reviews', 'but', 'utterly', 'disappointed', 'with', 'the', 'food', 'quality', 'taste', 'i', 'feel', 'it', 's', 'an', 'overhyped', 'place', 'there', 'are', 'many', 'better', 'places', 'in', 'the', 'vicinity', 'for', 'plantain', 'leaf', 'meal', 'there', 'was', 'too', 'much', 'of', 'waiting', 'these', 'staffs', 'were', 'too', 'hurry', 'in', 'serving', 'food', 'asking', 'people', 'to', 'finish', 'meal', 'leave', 'quickly', 'i', 'can', 'understand', 'there', 'is', 'a', 'waiting', 'and', 'staffs', 'should', 'approach', 'in', 'a', 'positive', 'way', 'i', 'will', 'never', 'go', 'there', 'again', 'n', 'nbangaloreepicure', 'com', 'rated', 'rated', 'n', 'i', 'have', 'a', 'confession', 'being', 'a', 'south', 'indian', 'i', 'distaste', 'south', 'indian', 'food', 'not', 'that', 'i', 'hate', 'it', 'i', 'don', 't', 'like', 'it', 'either', 'but', 'still', 'made', 'up', 'my', 'mind', 'on', 'sankaranti', 'to', 'have', 'authentic', 'south', 'indian', 'food', 'visited', 'adduri', 'udupi', 'bhojana', 'because', 'it', 'was', 'close', 'to', 'my', 'place', 'i', 'just', 'had', 'a', 'look', 'at', 'the', 'menu', 'told', 'myself', 'that', 'i', 'can', 'do', 'it', 'i', 'am', 'not', 'blessed', 'with', 'a', 'tremendous', 'appetite', 'welcomed', 'with', 'the', 'mango', 'soup', 'followed', 'by', 'the', 'wide', 'variety', 'of', 'dishes', 'served', 'i', 'have', 'developed', 'the', 'new', 'love', 'for', 'pongal', 'both', 'sweet', 'and', 'khara', 'i', 'can', 'still', 'feel', 'the', 'taste', 'of', 'the', 'ghee', 'bursting', 'in', 'my', 'mouth', 'but', 'it', 'was', 'kai', 'holige', 'that', 'made', 'my', 'day', 'crisp', 'and', 'soft', 'not', 'to', 'forget', 'food', 'is', 'served', 'on', 'a', 'banana', 'leaf', 'that', 'adds', 'in', 'more', 'flavor', 'and', 'taste', 'waiters', 'are', 'attentive', 'and', 'responsive', 'the', 'customer', 's', 'needs', 'are', 'monitored', 'and', 'addressed', 'so', 'much', 'variety', 'for', 'just', 'rs', 'without', 'compromising', 'on', 'quantity', 'and', 'quality', 'and', 'yes', 'it', 'is', 'unlimited', 'this', 'visit', 'turned', 'out', 'to', 'be', 'a', 'surprise', 'package', 'rated', 'rated', 'n', 'food', 'is', 'good', 'nno', 'parking', 'nambience', 'is', 'average', 'noverall', 'its', 'value', 'for', 'money', 'if', 'you', 'looking', 'for', 'south', 'indian', 'food', 'npreferred', 'the', 'tiffin', 'items', 'rated', 'rated', 'n', 'been', 'here', 'last', 'week', 'with', 'high', 'expectations', 'based', 'on', 'few', 'reviews', 'but', 'utterly', 'disappointed', 'with', 'the', 'food', 'quality', 'taste', 'i', 'feel', 'it', 's', 'an', 'overhyped', 'place', 'there', 'are', 'many', 'better', 'places', 'in', 'the', 'vicinity', 'for', 'plantain', 'leaf', 'meal', 'there', 'was', 'too', 'much', 'of', 'waiting', 'these', 'staffs', 'were', 'too', 'hurry', 'in', 'serving', 'food', 'asking', 'people', 'to', 'finish', 'meal', 'leave', 'quickly', 'i', 'can', 'understand', 'there', 'is', 'a', 'waiting', 'and', 'staffs', 'should', 'approach', 'in', 'a', 'positive', 'way', 'i', 'will', 'never', 'go', 'there', 'again', 'n', 'nbangaloreepicure', 'com', 'rated', 'rated', 'n', 'i', 'have', 'a', 'confession', 'being', 'a', 'south', 'indian', 'i', 'distaste', 'south', 'indian', 'food', 'not', 'that', 'i', 'hate', 'it', 'i', 'don', 't', 'like', 'it', 'either', 'but', 'still', 'made', 'up', 'my', 'mind', 'on', 'sankaranti', 'to', 'have', 'authentic', 'south', 'indian', 'food', 'visited', 'adduri', 'udupi', 'bhojana', 'because', 'it', 'was', 'close', 'to', 'my', 'place', 'i', 'just', 'had', 'a', 'look', 'at', 'the', 'menu', 'told', 'myself', 'that', 'i', 'can', 'do', 'it', 'i', 'am', 'not', 'blessed', 'with', 'a', 'tremendous', 'appetite', 'welcomed', 'with', 'the', 'mango', 'soup', 'followed', 'by', 'the', 'wide', 'variety', 'of', 'dishes', 'served', 'i', 'have', 'developed', 'the', 'new', 'love', 'for', 'pongal', 'both', 'sweet', 'and', 'khara', 'i', 'can', 'still', 'feel', 'the', 'taste', 'of', 'the', 'ghee', 'bursting', 'in', 'my', 'mouth', 'but', 'it', 'was', 'kai', 'holige', 'that', 'made', 'my', 'day', 'crisp', 'and', 'soft', 'not', 'to', 'forget', 'food', 'is', 'served', 'on', 'a', 'banana', 'leaf', 'that', 'adds', 'in', 'more', 'flavor', 'and', 'taste', 'waiters', 'are', 'attentive', 'and', 'responsive', 'the', 'customer', 's', 'needs', 'are', 'monitored', 'and', 'addressed', 'so', 'much', 'variety', 'for', 'just', 'rs', 'without', 'compromising', 'on', 'quantity', 'and', 'quality', 'and', 'yes', 'it', 'is', 'unlimited', 'this', 'visit', 'turned', 'out', 'to', 'be', 'a', 'surprise', 'package', 'rated', 'rated', 'n', 'food', 'is', 'good', 'nno', 'parking', 'nambience', 'is', 'average', 'noverall', 'its', 'value', 'for', 'money', 'if', 'you', 'looking', 'for', 'south', 'indian', 'food', 'npreferred', 'the', 'tiffin', 'items', 'rated', 'rated', 'n', 'been', 'here', 'last', 'week', 'with', 'high', 'expectations', 'based', 'on', 'few', 'reviews', 'but', 'utterly', 'disappointed', 'with', 'the', 'food', 'quality', 'taste', 'i', 'feel', 'it', 's', 'an', 'overhyped', 'place', 'there', 'are', 'many', 'better', 'places', 'in', 'the', 'vicinity', 'for', 'plantain', 'leaf', 'meal', 'there', 'was', 'too', 'much', 'of', 'waiting', 'these', 'staffs', 'were', 'too', 'hurry', 'in', 'serving', 'food', 'asking', 'people', 'to', 'finish', 'meal', 'leave', 'quickly', 'i', 'can', 'understand', 'there', 'is', 'a', 'waiting', 'and', 'staffs', 'should', 'approach', 'in', 'a', 'positive', 'way', 'i', 'will', 'never', 'go', 'there', 'again', 'n', 'nbangaloreepicure', 'com', 'rated', 'rated', 'n', 'i', 'have', 'a', 'confession', 'being', 'a', 'south', 'indian', 'i', 'distaste', 'south', 'indian', 'food', 'not', 'that', 'i', 'hate', 'it', 'i', 'don', 't', 'like', 'it', 'either', 'but', 'still', 'made', 'up', 'my', 'mind', 'on', 'sankaranti', 'to', 'have', 'authentic', 'south', 'indian', 'food', 'visited', 'adduri', 'udupi', 'bhojana', 'because', 'it', 'was', 'close', 'to', 'my', 'place', 'i', 'just', 'had', 'a', 'look', 'at', 'the', 'menu', 'told', 'myself', 'that', 'i', 'can', 'do', 'it', 'i', 'am', 'not', 'blessed', 'with', 'a', 'tremendous', 'appetite', 'welcomed', 'with', 'the', 'mango', 'soup', 'followed', 'by', 'the', 'wide', 'variety', 'of', 'dishes', 'served', 'i', 'have', 'developed', 'the', 'new', 'love', 'for', 'pongal', 'both', 'sweet', 'and', 'khara', 'i', 'can', 'still', 'feel', 'the', 'taste', 'of', 'the', 'ghee', 'bursting', 'in', 'my', 'mouth', 'but', 'it', 'was', 'kai', 'holige', 'that', 'made', 'my', 'day', 'crisp', 'and', 'soft', 'not', 'to', 'forget', 'food', 'is', 'served', 'on', 'a', 'banana', 'leaf', 'that', 'adds', 'in', 'more', 'flavor', 'and', 'taste', 'waiters', 'are', 'attentive', 'and', 'responsive', 'the', 'customer', 's', 'needs', 'are', 'monitored', 'and', 'addressed', 'so', 'much', 'variety', 'for', 'just', 'rs', 'without', 'compromising', 'on', 'quantity', 'and', 'quality', 'and', 'yes', 'it', 'is', 'unlimited', 'this', 'visit', 'turned', 'out', 'to', 'be', 'a', 'surprise', 'package', 'rated', 'rated', 'n', 'food', 'is', 'good', 'nno', 'parking', 'nambience', 'is', 'average', 'noverall', 'its', 'value', 'for', 'money', 'if', 'you', 'looking', 'for', 'south', 'indian', 'food', 'npreferred', 'the', 'tiffin', 'items', 'rated', 'rated', 'n', 'been', 'here', 'last', 'week', 'with', 'high', 'expectations', 'based', 'on', 'few', 'reviews', 'but', 'utterly', 'disappointed', 'with', 'the', 'food', 'quality', 'taste', 'i', 'feel', 'it', 's', 'an', 'overhyped', 'place', 'there', 'are', 'many', 'better', 'places', 'in', 'the', 'vicinity', 'for', 'plantain', 'leaf', 'meal', 'there', 'was', 'too', 'much', 'of', 'waiting', 'these', 'staffs', 'were', 'too', 'hurry', 'in', 'serving', 'food', 'asking', 'people', 'to', 'finish', 'meal', 'leave', 'quickly', 'i', 'can', 'understand', 'there', 'is', 'a', 'waiting', 'and', 'staffs', 'should', 'approach', 'in', 'a', 'positive', 'way', 'i', 'will', 'never', 'go', 'there', 'again', 'n', 'nbangaloreepicure', 'com', 'rated', 'rated', 'n', 'i', 'have', 'a', 'confession', 'being', 'a', 'south', 'indian', 'i', 'distaste', 'south', 'indian', 'food', 'not', 'that', 'i', 'hate', 'it', 'i', 'don', 't', 'like', 'it', 'either', 'but', 'still', 'made', 'up', 'my', 'mind', 'on', 'sankaranti', 'to', 'have', 'authentic', 'south', 'indian', 'food', 'visited', 'adduri', 'udupi', 'bhojana', 'because', 'it', 'was', 'close', 'to', 'my', 'place', 'i', 'just', 'had', 'a', 'look', 'at', 'the', 'menu', 'told', 'myself', 'that', 'i', 'can', 'do', 'it', 'i', 'am', 'not', 'blessed', 'with', 'a', 'tremendous', 'appetite', 'welcomed', 'with', 'the', 'mango', 'soup', 'followed', 'by', 'the', 'wide', 'variety', 'of', 'dishes', 'served', 'i', 'have', 'developed', 'the', 'new', 'love', 'for', 'pongal', 'both', 'sweet', 'and', 'khara', 'i', 'can', 'still', 'feel', 'the', 'taste', 'of', 'the', 'ghee', 'bursting', 'in', 'my', 'mouth', 'but', 'it', 'was', 'kai', 'holige', 'that', 'made', 'my', 'day', 'crisp', 'and', 'soft', 'not', 'to', 'forget', 'food', 'is', 'served', 'on', 'a', 'banana', 'leaf', 'that', 'adds', 'in', 'more', 'flavor', 'and', 'taste', 'waiters', 'are', 'attentive', 'and', 'responsive', 'the', 'customer', 's', 'needs', 'are', 'monitored', 'and', 'addressed', 'so', 'much', 'variety', 'for', 'just', 'rs', 'without', 'compromising', 'on', 'quantity', 'and', 'quality', 'and', 'yes', 'it', 'is', 'unlimited', 'this', 'visit', 'turned', 'out', 'to', 'be', 'a', 'surprise', 'package', 'rated', 'rated', 'n', 'food', 'is', 'good', 'nno', 'parking', 'nambience', 'is', 'average', 'noverall', 'its', 'value', 'for', 'money', 'if', 'you', 'looking', 'for', 'south', 'indian', 'food', 'npreferred', 'the', 'tiffin', 'items', 'rated', 'rated', 'n', 'had', 'been', 'on', 'a', 'week', 'night', 'for', 'an', 'authentic', 'south', 'indian', 'food', 'i', 'personally', 'love', 'being', 'served', 'on', 'banyan', 'leaf', 'the', 'waiters', 'are', 'all', 'dressed', 'up', 'in', 'traditional', 'mysore', 'attire', 'wearing', 'with', 'a', 'peta', 'the', 'food', 'was', 'delicious', 'and', 'definitely', 'worth', 'it', 's', 'price', 'the', 'waiters', 'are', 'friendly', 'and', 'serve', 'u', 'well', 'with', 'a', 'smile', 'the', 'food', 'is', 'prepared', 'without', 'garlic', 'which', 'is', 'a', 'plus', 'point', 'attracting', 'many', 'senior', 'customers', 'rated', 'rated', 'n', 'food', 'is', 'good', 'and', 'enjoyed', 'with', 'rs', 'is', 'very', 'nice', 'nnote', 'it', 'happen', 'with', 'us', 'n', 'if', 'you', 'going', 'two', 'people', 'you', 'may', 'need', 'to', 'share', 'the', 'table', 'there', 'its', 'almost', 'crowed', 'n', 'you', 'have', 'to', 'sit', 'where', 'they', 'ask', 'you', 'can', 't', 'choose', 'even', 'if', 'all', 'the', 'table', 'are', 'empty', 'njust', 'wait', 'eat', 'and', 'come', 'back', 'rated', 'rated', 'n', 'excellent', 'ambience', 'with', 'delicious', 'meals', 'with', 'variety', 'types', 'worth', 'paying', 'for', 'money', 'and', 'you', 'can', 'dine', 'out', 'if', 'you', 'are', 'with', 'more', 'friends', 'relatives', 'in', 'home', 'rated', 'rated', 'n', 'very', 'good', 'and', 'unlimited', 'especially', 'masala', 'dosa', 'service', 'and', 'ambience', 'was', 'also', 'good', 'will', 'visit', 'again', 'with', 'friends', 'very', 'very', 'reasonble', 'and', 'wholesome', 'food', 'rated', 'rated', 'n', 'aaaa', 'wt', 'to', 'tell', 'unlimited', 'food', 'food', 'was', 'like', 'exactly', 'like', 'south', 'indian', 'marriage', 'food', 'soups', 'sides', 'masala', 'dosa', 'all', 'were', 'unlimited', 'for', 'just', 'except', 'ice', 'cream', 'in', 'the', 'end', 'they', 'give', 'a', 'water', 'bottle', 'and', 'main', 'thing', 'is', 'have', 'patience', 'to', 'get', 'place', 'to', 'sit', 'there', 'is', 'no', 'parking', 'place', 'of', 'this', 'outlet', 'and', 'difficult', 'to', 'park', 'in', 'front', 'of', 'the', 'restaurants']\n"
     ]
    }
   ],
   "source": [
    "print(tokenizer.tokenize(quick_bites_df['reviews_list'][3]))"
   ]
  },
  {
   "cell_type": "code",
   "execution_count": 38,
   "id": "077b9356",
   "metadata": {},
   "outputs": [],
   "source": [
    "# reviews_tokens_df = reviews_tokens[0:10000]"
   ]
  },
  {
   "cell_type": "code",
   "execution_count": 39,
   "id": "f3871735",
   "metadata": {},
   "outputs": [],
   "source": [
    "# reviews_tokens = quick_bites_df['reviews_list'].apply(tokenizer.tokenize)\n",
    "reviews_tokens = data['reviews_list'].apply(tokenizer.tokenize)"
   ]
  },
  {
   "cell_type": "code",
   "execution_count": 40,
   "id": "202a3e8f",
   "metadata": {},
   "outputs": [
    {
     "data": {
      "text/plain": [
       "0        [Rated, RATED, n, A, beautiful, place, to, din...\n",
       "1        [Rated, RATED, n, Had, been, here, for, dinner...\n",
       "2        [Rated, RATED, n, Ambience, is, not, that, goo...\n",
       "3        [Rated, RATED, n, Great, food, and, proper, Ka...\n",
       "4        [Rated, RATED, n, Very, good, restaurant, in, ...\n",
       "                               ...                        \n",
       "51712    [Rated, RATED, n, Food, and, service, are, inc...\n",
       "51713                                                   []\n",
       "51714                                                   []\n",
       "51715    [Rated, RATED, n, Nice, and, friendly, place, ...\n",
       "51716    [Rated, RATED, n, Great, ambience, looking, ni...\n",
       "Name: reviews_list, Length: 51490, dtype: object"
      ]
     },
     "execution_count": 40,
     "metadata": {},
     "output_type": "execute_result"
    }
   ],
   "source": [
    "# perform unigram analysis and removal of stopwords.\n",
    "reviews_tokens "
   ]
  },
  {
   "cell_type": "code",
   "execution_count": 41,
   "id": "ddf3e4ed",
   "metadata": {},
   "outputs": [],
   "source": [
    "# importing stopwords to remove it from our text data and text analysis on remaining data \n",
    "from nltk.corpus import stopwords"
   ]
  },
  {
   "cell_type": "code",
   "execution_count": 42,
   "id": "e0e07fce",
   "metadata": {},
   "outputs": [
    {
     "name": "stderr",
     "output_type": "stream",
     "text": [
      "[nltk_data] Downloading package stopwords to\n",
      "[nltk_data]     C:\\Users\\Abhishek\\AppData\\Roaming\\nltk_data...\n",
      "[nltk_data]   Package stopwords is already up-to-date!\n"
     ]
    },
    {
     "data": {
      "text/plain": [
       "True"
      ]
     },
     "execution_count": 42,
     "metadata": {},
     "output_type": "execute_result"
    }
   ],
   "source": [
    "import nltk\n",
    "nltk.download('stopwords')"
   ]
  },
  {
   "cell_type": "code",
   "execution_count": 43,
   "id": "5f3ddbc6",
   "metadata": {},
   "outputs": [],
   "source": [
    "# storing all english stopwords in nltk library. \n",
    "stop = stopwords.words('english')"
   ]
  },
  {
   "cell_type": "code",
   "execution_count": 44,
   "id": "beb9d319",
   "metadata": {},
   "outputs": [
    {
     "name": "stdout",
     "output_type": "stream",
     "text": [
      "['i', 'me', 'my', 'myself', 'we', 'our', 'ours', 'ourselves', 'you', \"you're\", \"you've\", \"you'll\", \"you'd\", 'your', 'yours', 'yourself', 'yourselves', 'he', 'him', 'his', 'himself', 'she', \"she's\", 'her', 'hers', 'herself', 'it', \"it's\", 'its', 'itself', 'they', 'them', 'their', 'theirs', 'themselves', 'what', 'which', 'who', 'whom', 'this', 'that', \"that'll\", 'these', 'those', 'am', 'is', 'are', 'was', 'were', 'be', 'been', 'being', 'have', 'has', 'had', 'having', 'do', 'does', 'did', 'doing', 'a', 'an', 'the', 'and', 'but', 'if', 'or', 'because', 'as', 'until', 'while', 'of', 'at', 'by', 'for', 'with', 'about', 'against', 'between', 'into', 'through', 'during', 'before', 'after', 'above', 'below', 'to', 'from', 'up', 'down', 'in', 'out', 'on', 'off', 'over', 'under', 'again', 'further', 'then', 'once', 'here', 'there', 'when', 'where', 'why', 'how', 'all', 'any', 'both', 'each', 'few', 'more', 'most', 'other', 'some', 'such', 'no', 'nor', 'not', 'only', 'own', 'same', 'so', 'than', 'too', 'very', 's', 't', 'can', 'will', 'just', 'don', \"don't\", 'should', \"should've\", 'now', 'd', 'll', 'm', 'o', 're', 've', 'y', 'ain', 'aren', \"aren't\", 'couldn', \"couldn't\", 'didn', \"didn't\", 'doesn', \"doesn't\", 'hadn', \"hadn't\", 'hasn', \"hasn't\", 'haven', \"haven't\", 'isn', \"isn't\", 'ma', 'mightn', \"mightn't\", 'mustn', \"mustn't\", 'needn', \"needn't\", 'shan', \"shan't\", 'shouldn', \"shouldn't\", 'wasn', \"wasn't\", 'weren', \"weren't\", 'won', \"won't\", 'wouldn', \"wouldn't\"]\n"
     ]
    }
   ],
   "source": [
    "# printing stopwords (stopwords are those words that does not provide any analytic value in a sentence for analysis.) \n",
    "print(stop)"
   ]
  },
  {
   "cell_type": "code",
   "execution_count": 45,
   "id": "85fb4d64",
   "metadata": {},
   "outputs": [],
   "source": [
    "# adding below words in stopwords as these words are frequently used and does not have any sense for our analysis.\n",
    "stop.extend(['rated', 'RATED', 'Rated', 'x', 'nan', 'n'])"
   ]
  },
  {
   "cell_type": "code",
   "execution_count": 46,
   "id": "a05b9c68",
   "metadata": {},
   "outputs": [
    {
     "name": "stdout",
     "output_type": "stream",
     "text": [
      "['i', 'me', 'my', 'myself', 'we', 'our', 'ours', 'ourselves', 'you', \"you're\", \"you've\", \"you'll\", \"you'd\", 'your', 'yours', 'yourself', 'yourselves', 'he', 'him', 'his', 'himself', 'she', \"she's\", 'her', 'hers', 'herself', 'it', \"it's\", 'its', 'itself', 'they', 'them', 'their', 'theirs', 'themselves', 'what', 'which', 'who', 'whom', 'this', 'that', \"that'll\", 'these', 'those', 'am', 'is', 'are', 'was', 'were', 'be', 'been', 'being', 'have', 'has', 'had', 'having', 'do', 'does', 'did', 'doing', 'a', 'an', 'the', 'and', 'but', 'if', 'or', 'because', 'as', 'until', 'while', 'of', 'at', 'by', 'for', 'with', 'about', 'against', 'between', 'into', 'through', 'during', 'before', 'after', 'above', 'below', 'to', 'from', 'up', 'down', 'in', 'out', 'on', 'off', 'over', 'under', 'again', 'further', 'then', 'once', 'here', 'there', 'when', 'where', 'why', 'how', 'all', 'any', 'both', 'each', 'few', 'more', 'most', 'other', 'some', 'such', 'no', 'nor', 'not', 'only', 'own', 'same', 'so', 'than', 'too', 'very', 's', 't', 'can', 'will', 'just', 'don', \"don't\", 'should', \"should've\", 'now', 'd', 'll', 'm', 'o', 're', 've', 'y', 'ain', 'aren', \"aren't\", 'couldn', \"couldn't\", 'didn', \"didn't\", 'doesn', \"doesn't\", 'hadn', \"hadn't\", 'hasn', \"hasn't\", 'haven', \"haven't\", 'isn', \"isn't\", 'ma', 'mightn', \"mightn't\", 'mustn', \"mustn't\", 'needn', \"needn't\", 'shan', \"shan't\", 'shouldn', \"shouldn't\", 'wasn', \"wasn't\", 'weren', \"weren't\", 'won', \"won't\", 'wouldn', \"wouldn't\", 'rated', 'RATED', 'Rated', 'x', 'nan', 'n']\n"
     ]
    }
   ],
   "source": [
    "print(stop)"
   ]
  },
  {
   "cell_type": "code",
   "execution_count": 47,
   "id": "8fbc30fe",
   "metadata": {},
   "outputs": [
    {
     "name": "stdout",
     "output_type": "stream",
     "text": [
      "['Rated', 'RATED', 'n', 'Great', 'food', 'and', 'proper', 'Karnataka', 'style', 'full', 'meals', 'Been', 'there', 'twice', 'and', 'was', 'fully', 'satisfied', 'Will', 'give', 'stars', 'if', 'it', 's', 'well', 'managed', 'Rated', 'RATED', 'n', 'Reached', 'the', 'place', 'at', 'pm', 'on', 'Saturday', 'Half', 'of', 'the', 'items', 'on', 'the', 'menu', 'were', 'over', 'What', 'was', 'annoying', 'was', 'is', 'the', 'food', 'was', 'cold', 'The', 'taste', 'was', 'also', 'very', 'average', 'Only', 'dosa', 'and', 'holige', 'were', 'good', 'There', 'were', 'very', 'few', 'people', 'in', 'the', 'restaurant', 'and', 'the', 'service', 'was', 'still', 'very', 'slow', 'The', 'waiters', 'were', 'all', 'standing', 'in', 'one', 'corner', 'and', 'talking', 'Had', 'to', 'call', 'them', 'repeatedly', 'Rated', 'RATED', 'n', 'Had', 'been', 'here', 'good', 'food', 'served', 'and', 'tasty', 'good', 'place', 'to', 'go', 'with', 'freinds', 'and', 'family', 'should', 'be', 'first', 'to', 'get', 'served', 'well', 'with', 'all', 'food', 'One', 'of', 'the', 'good', 'hotel', 'there', 'for', 'this', 'price', 'Rated', 'RATED', 'n', 'How', 'can', 'a', 'Udupi', 'restaurant', 'be', 'so', 'dirty', 'the', 'floor', 'the', 'walls', 'the', 'waiters', 'are', 'all', 'stained', 'in', 'food', 'Why', 'cant', 'they', 'clean', 'it', 'The', 'floor', 'even', 'had', 'decorative', 'colour', 'paper', 'every', 'where', 'and', 'lot', 'of', 'food', 'Now', 'coming', 'to', 'the', 'taste', 'of', 'the', 'food', 'it', 'was', 'pretty', 'decent', 'for', 'what', 'they', 'chargw', 'What', 'upset', 'us', 'was', 'the', 'menu', 'says', 'they', 'serve', 'thambuli', 'two', 'variety', 'of', 'rice', 'etc', 'but', 'they', 'were', 'all', 'over', 'at', 'but', 'they', 'still', 'charged', 'us', 'full', 'amount', 'Lastly', 'if', 'u', 'r', 'ok', 'to', 'b', 'seated', 'with', 'random', 'people', 'and', 'adjust', 'with', 'their', 'table', 'manners', 'burrping', 'etc', 'then', 'tis', 'place', 'is', 'decent', 'for', 'a', 'quick', 'veg', 'udupi', 'meals', 'Rated', 'RATED', 'n', 'Aadhuri', 'Udupi', 'bhojana', 'is', 'one', 'of', 'the', 'best', 'vegetarian', 'hotel', 'in', 'and', 'around', 'Banashankari', 'locality', 'nwere', 'we', 'can', 'enjoy', 'the', 'authentic', 'south', 'Karnataka', 'style', 'food', 'Rated', 'RATED', 'n', 'One', 'of', 'the', 'best', 'restaurants', 'for', 'unlimited', 'food', 'Price', 'for', 'one', 'full', 'unlimited', 'meal', 'is', 'and', 'the', 'service', 'is', 'awesome', 'here', 'If', 'you', 'x', 'x', 'x', 'x', 'x', 'x', 'x', 'x', 're', 'a', 'costalian', 'you', 'will', 'love', 'the', 'food', 'served', 'here', 'Rated', 'RATED', 'n', 'Been', 'here', 'a', 'couple', 'of', 'times', 'Highly', 'satisfying', 'on', 'both', 'the', 'ocassions', 'Great', 'food', 'Decent', 'service', 'At', 'price', 'of', 'per', 'person', 'it', 'is', 'of', 'a', 'great', 'value', 'The', 'staff', 'here', 'serves', 'in', 'a', 'traditional', 'Mysore', 'style', 'dresses', 'The', 'food', 'is', 'authentic', 'Karnataka', 'meals', 'I', 'really', 'liked', 'the', 'pineapple', 'pickle', 'chutney', 'They', 'serve', 'some', 'varities', 'of', 'rice', 'of', 'which', 'you', 'shouldn', 't', 'try', 'all', 'as', 'you', 'would', 'already', 'be', 'full', 'Roti', 'Dosa', 'were', 'decent', 'In', 'the', 'deserts', 'Payasam', 'Holige', 'were', 'good', 'nI', 'think', 'it', 'is', 'one', 'the', 'must', 'try', 'places', 'to', 'try', 'some', 'authentic', 'south', 'food', 'even', 'if', 'you', 'have', 'been', 'to', 'the', 'likes', 'of', 'Kamath', 'etc', 'this', 'one', 'is', 'a', 'little', 'different', 'Rated', 'RATED', 'n', 'Very', 'good', 'restorent', 'good', 'south', 'Indian', 'food', 'very', 'nice', 'all', 'food', 's', 'are', 'good', 'we', 'spent', 'good', 'time', 'and', 'food', 'in', 'this', 'hotel', 'value', 'of', 'money', 'we', 'loved', 'it', 'Rated', 'RATED', 'n', 'I', 'went', 'to', 'this', 'restaurant', 'on', 'Sunday', 'afternoon', 'It', 'was', 'a', 'bit', 'crowded', 'n', 'nIts', 'located', 'in', 'the', 'st', 'floor', 'Above', 'anna', 'kuteera', 'kathriguppe', 'n', 'nYou', 'need', 'to', 'take', 'food', 'coupon', 'in', 'the', 'ground', 'floor', 'itself', 'nit', 'was', 'rs', 'n', 'nTaste', 'wise', 'it', 'was', 'good', 'nService', 'was', 'slow', 'nNothing', 'exciting', 'different', 'in', 'the', 'menu', 'nWhatever', 'they', 'serve', 'its', 'good', 'nWorth', 'for', 'money', 'Rated', 'RATED', 'n', 'Awesome', 'place', 'worth', 'with', 'price', 'quality', 'quantity', 'service', 'hygiene', 'and', 'discipline', 'I', 'loved', 'it', 'wish', 'there', 'were', 'more', 'rating', 'stars', 'to', 'give', 'I', 'give', 'on', 'for', 'sure', 'Rated', 'RATED', 'n', 'Nice', 'food', 'good', 'ambiance', 'so', 'many', 'verity', 'of', 'food', 'this', 'time', 'i', 'was', 'in', 'hurry', 'so', 'next', 'review', 'will', 'be', 'detailed', 'one', 'Its', 'good', 'to', 'see', 'all', 'dishes', 'at', 'one', 'place', 'Rated', 'RATED', 'n', 'The', 'food', 'was', 'not', 'satisfactory', 'Not', 'one', 'item', 'served', 'could', 'be', 'eaten', 'again', 'Only', 'advantage', 'is', 'the', 'price', 'but', 'even', 'that', 'is', 'not', 'going', 'to', 'be', 'enough', 'to', 'make', 'me', 'visit', 'the', 'place', 'again', 'Dear', 'Udupi', 'staff', 'people', 'wouldn', 'x', 'x', 'x', 'x', 'x', 'x', 'x', 'x', 't', 'mind', 'if', 'the', 'food', 'quality', 'was', 'better', 'for', 'a', 'higher', 'price', 'and', 'please', 'get', 'more', 'fans', 'so', 'that', 'people', 'won', 'x', 'x', 'x', 'x', 'x', 'x', 'x', 'x', 't', 'have', 'to', 'deal', 'with', 'another', 'disappointment', 'of', 'sweating', 'while', 'eating', 'Rated', 'RATED', 'n', 'Excellent', 'quality', 'and', 'taste', 'more', 'variety', 'of', 'authentic', 'south', 'Indian', 'food', 'Excellent', 'service', 'Highly', 'recommended', 'Worth', 'the', 'money', 'we', 'pay', 'here', 'Rated', 'RATED', 'n', 'I', 'm', 'rating', 'only', 'because', 'of', 'the', 'large', 'number', 'of', 'items', 'they', 'serve', 'for', 'the', 'price', 'they', 'charge', 'While', 'the', 'taste', 'is', 'moderate', 'the', 'biggest', 'turn', 'off', 'is', 'the', 'poor', 'service', 'and', 'totally', 'unresponsive', 'staff', 'They', 'are', 'either', 'understaffed', 'or', 'poorly', 'trained', 'I', 'didn', 't', 'get', 'to', 'taste', 'a', 'few', 'items', 'thanks', 'to', 'their', 'ever', 'busy', 'staff', 'and', 'ended', 'eating', 'what', 'was', 'served', 'Please', 'learn', 'the', 'crowd', 'management', 'from', 'other', 'peers', 'like', 'maiyya', 'and', 'roti', 'ghar', 'Rated', 'RATED', 'n', 'One', 'of', 'my', 'colleagues', 'suggested', 'this', 'place', 'Went', 'there', 'at', 'pm', 'and', 'place', 'wasnt', 'crowded', 'Ambience', 'is', 'decent', 'and', 'cool', 'A', 'welcome', 'drink', 'appekai', 'saru', 'was', 'served', 'Then', 'started', 'typical', 'baale', 'yele', 'uta', 'Diffrerent', 'types', 'of', 'palya', 'kosambari', 'and', 'sides', 'Then', 'came', 'masala', 'dosa', 'pulka', 'pulav', 'veg', 'rice', 'bath', 'Masala', 'dosa', 'was', 'very', 'very', 'tasty', 'Service', 'is', 'bit', 'fast', 'as', 'people', 'will', 'be', 'coming', 'but', 'they', 'will', 'make', 'it', 'slow', 'if', 'u', 'tell', 'them', 'to', 'Then', 'comes', 'rice', 'with', 'sambar', 'rasam', 'daal', 'tambali', 'And', 'yes', 'dont', 'forget', 'to', 'eat', 'holige', 'payasam', 'and', 'icecream', 'Service', 'is', 'very', 'nice', 'One', 'best', 'thing', 'is', 'all', 'of', 'this', 'comes', 'in', 'just', 'rs', 'and', 'its', 'unlimited', 'What', 'else', 'you', 'want', 'A', 'must', 'visit', 'place', 'for', 'south', 'indian', 'foodie', 'Rated', 'RATED', 'n', 'Been', 'here', 'last', 'week', 'with', 'high', 'expectations', 'based', 'on', 'few', 'reviews', 'But', 'utterly', 'disappointed', 'with', 'the', 'food', 'quality', 'taste', 'I', 'feel', 'it', 's', 'an', 'overhyped', 'place', 'There', 'are', 'many', 'better', 'places', 'in', 'the', 'vicinity', 'for', 'Plantain', 'leaf', 'meal', 'There', 'was', 'too', 'much', 'of', 'waiting', 'these', 'staffs', 'were', 'too', 'hurry', 'in', 'serving', 'food', 'asking', 'people', 'to', 'finish', 'meal', 'leave', 'quickly', 'I', 'can', 'understand', 'there', 'is', 'a', 'waiting', 'and', 'staffs', 'should', 'approach', 'in', 'a', 'positive', 'way', 'I', 'will', 'never', 'go', 'there', 'again', 'n', 'nbangaloreepicure', 'com', 'Rated', 'RATED', 'n', 'I', 'have', 'a', 'confession', 'being', 'a', 'south', 'Indian', 'I', 'distaste', 'south', 'Indian', 'food', 'not', 'that', 'I', 'hate', 'it', 'I', 'don', 't', 'like', 'it', 'either', 'But', 'still', 'made', 'up', 'my', 'mind', 'on', 'Sankaranti', 'to', 'have', 'authentic', 'south', 'Indian', 'food', 'visited', 'Adduri', 'Udupi', 'Bhojana', 'because', 'it', 'was', 'close', 'to', 'my', 'place', 'I', 'just', 'had', 'a', 'look', 'at', 'the', 'menu', 'told', 'myself', 'that', 'I', 'can', 'do', 'it', 'I', 'am', 'not', 'blessed', 'with', 'a', 'tremendous', 'appetite', 'welcomed', 'with', 'the', 'mango', 'soup', 'followed', 'by', 'the', 'wide', 'variety', 'of', 'dishes', 'served', 'I', 'have', 'developed', 'the', 'new', 'love', 'for', 'Pongal', 'both', 'sweet', 'and', 'Khara', 'I', 'can', 'still', 'feel', 'the', 'taste', 'of', 'the', 'ghee', 'bursting', 'in', 'my', 'mouth', 'but', 'it', 'was', 'kai', 'holige', 'that', 'made', 'my', 'day', 'crisp', 'and', 'soft', 'not', 'to', 'forget', 'food', 'is', 'served', 'on', 'a', 'banana', 'leaf', 'that', 'adds', 'in', 'more', 'flavor', 'and', 'taste', 'waiters', 'are', 'attentive', 'and', 'responsive', 'The', 'customer', 's', 'needs', 'are', 'monitored', 'and', 'addressed', 'so', 'much', 'variety', 'for', 'just', 'Rs', 'without', 'compromising', 'on', 'quantity', 'and', 'quality', 'and', 'yes', 'it', 'is', 'unlimited', 'This', 'visit', 'turned', 'out', 'to', 'be', 'a', 'surprise', 'package', 'Rated', 'RATED', 'n', 'Food', 'is', 'good', 'nNo', 'parking', 'nAmbience', 'is', 'average', 'nOverall', 'its', 'value', 'for', 'money', 'if', 'you', 'looking', 'for', 'south', 'Indian', 'food', 'nPreferred', 'the', 'tiffin', 'items', 'Rated', 'RATED', 'n', 'Been', 'here', 'last', 'week', 'with', 'high', 'expectations', 'based', 'on', 'few', 'reviews', 'But', 'utterly', 'disappointed', 'with', 'the', 'food', 'quality', 'taste', 'I', 'feel', 'it', 's', 'an', 'overhyped', 'place', 'There', 'are', 'many', 'better', 'places', 'in', 'the', 'vicinity', 'for', 'Plantain', 'leaf', 'meal', 'There', 'was', 'too', 'much', 'of', 'waiting', 'these', 'staffs', 'were', 'too', 'hurry', 'in', 'serving', 'food', 'asking', 'people', 'to', 'finish', 'meal', 'leave', 'quickly', 'I', 'can', 'understand', 'there', 'is', 'a', 'waiting', 'and', 'staffs', 'should', 'approach', 'in', 'a', 'positive', 'way', 'I', 'will', 'never', 'go', 'there', 'again', 'n', 'nbangaloreepicure', 'com', 'Rated', 'RATED', 'n', 'I', 'have', 'a', 'confession', 'being', 'a', 'south', 'Indian', 'I', 'distaste', 'south', 'Indian', 'food', 'not', 'that', 'I', 'hate', 'it', 'I', 'don', 't', 'like', 'it', 'either', 'But', 'still', 'made', 'up', 'my', 'mind', 'on', 'Sankaranti', 'to', 'have', 'authentic', 'south', 'Indian', 'food', 'visited', 'Adduri', 'Udupi', 'Bhojana', 'because', 'it', 'was', 'close', 'to', 'my', 'place', 'I', 'just', 'had', 'a', 'look', 'at', 'the', 'menu', 'told', 'myself', 'that', 'I', 'can', 'do', 'it', 'I', 'am', 'not', 'blessed', 'with', 'a', 'tremendous', 'appetite', 'welcomed', 'with', 'the', 'mango', 'soup', 'followed', 'by', 'the', 'wide', 'variety', 'of', 'dishes', 'served', 'I', 'have', 'developed', 'the', 'new', 'love', 'for', 'Pongal', 'both', 'sweet', 'and', 'Khara', 'I', 'can', 'still', 'feel', 'the', 'taste', 'of', 'the', 'ghee', 'bursting', 'in', 'my', 'mouth', 'but', 'it', 'was', 'kai', 'holige', 'that', 'made', 'my', 'day', 'crisp', 'and', 'soft', 'not', 'to', 'forget', 'food', 'is', 'served', 'on', 'a', 'banana', 'leaf', 'that', 'adds', 'in', 'more', 'flavor', 'and', 'taste', 'waiters', 'are', 'attentive', 'and', 'responsive', 'The', 'customer', 's', 'needs', 'are', 'monitored', 'and', 'addressed', 'so', 'much', 'variety', 'for', 'just', 'Rs', 'without', 'compromising', 'on', 'quantity', 'and', 'quality', 'and', 'yes', 'it', 'is', 'unlimited', 'This', 'visit', 'turned', 'out', 'to', 'be', 'a', 'surprise', 'package', 'Rated', 'RATED', 'n', 'Food', 'is', 'good', 'nNo', 'parking', 'nAmbience', 'is', 'average', 'nOverall', 'its', 'value', 'for', 'money', 'if', 'you', 'looking', 'for', 'south', 'Indian', 'food', 'nPreferred', 'the', 'tiffin', 'items', 'Rated', 'RATED', 'n', 'Been', 'here', 'last', 'week', 'with', 'high', 'expectations', 'based', 'on', 'few', 'reviews', 'But', 'utterly', 'disappointed', 'with', 'the', 'food', 'quality', 'taste', 'I', 'feel', 'it', 's', 'an', 'overhyped', 'place', 'There', 'are', 'many', 'better', 'places', 'in', 'the', 'vicinity', 'for', 'Plantain', 'leaf', 'meal', 'There', 'was', 'too', 'much', 'of', 'waiting', 'these', 'staffs', 'were', 'too', 'hurry', 'in', 'serving', 'food', 'asking', 'people', 'to', 'finish', 'meal', 'leave', 'quickly', 'I', 'can', 'understand', 'there', 'is', 'a', 'waiting', 'and', 'staffs', 'should', 'approach', 'in', 'a', 'positive', 'way', 'I', 'will', 'never', 'go', 'there', 'again', 'n', 'nbangaloreepicure', 'com', 'Rated', 'RATED', 'n', 'I', 'have', 'a', 'confession', 'being', 'a', 'south', 'Indian', 'I', 'distaste', 'south', 'Indian', 'food', 'not', 'that', 'I', 'hate', 'it', 'I', 'don', 't', 'like', 'it', 'either', 'But', 'still', 'made', 'up', 'my', 'mind', 'on', 'Sankaranti', 'to', 'have', 'authentic', 'south', 'Indian', 'food', 'visited', 'Adduri', 'Udupi', 'Bhojana', 'because', 'it', 'was', 'close', 'to', 'my', 'place', 'I', 'just', 'had', 'a', 'look', 'at', 'the', 'menu', 'told', 'myself', 'that', 'I', 'can', 'do', 'it', 'I', 'am', 'not', 'blessed', 'with', 'a', 'tremendous', 'appetite', 'welcomed', 'with', 'the', 'mango', 'soup', 'followed', 'by', 'the', 'wide', 'variety', 'of', 'dishes', 'served', 'I', 'have', 'developed', 'the', 'new', 'love', 'for', 'Pongal', 'both', 'sweet', 'and', 'Khara', 'I', 'can', 'still', 'feel', 'the', 'taste', 'of', 'the', 'ghee', 'bursting', 'in', 'my', 'mouth', 'but', 'it', 'was', 'kai', 'holige', 'that', 'made', 'my', 'day', 'crisp', 'and', 'soft', 'not', 'to', 'forget', 'food', 'is', 'served', 'on', 'a', 'banana', 'leaf', 'that', 'adds', 'in', 'more', 'flavor', 'and', 'taste', 'waiters', 'are', 'attentive', 'and', 'responsive', 'The', 'customer', 's', 'needs', 'are', 'monitored', 'and', 'addressed', 'so', 'much', 'variety', 'for', 'just', 'Rs', 'without', 'compromising', 'on', 'quantity', 'and', 'quality', 'and', 'yes', 'it', 'is', 'unlimited', 'This', 'visit', 'turned', 'out', 'to', 'be', 'a', 'surprise', 'package', 'Rated', 'RATED', 'n', 'Food', 'is', 'good', 'nNo', 'parking', 'nAmbience', 'is', 'average', 'nOverall', 'its', 'value', 'for', 'money', 'if', 'you', 'looking', 'for', 'south', 'Indian', 'food', 'nPreferred', 'the', 'tiffin', 'items', 'Rated', 'RATED', 'n', 'Been', 'here', 'last', 'week', 'with', 'high', 'expectations', 'based', 'on', 'few', 'reviews', 'But', 'utterly', 'disappointed', 'with', 'the', 'food', 'quality', 'taste', 'I', 'feel', 'it', 's', 'an', 'overhyped', 'place', 'There', 'are', 'many', 'better', 'places', 'in', 'the', 'vicinity', 'for', 'Plantain', 'leaf', 'meal', 'There', 'was', 'too', 'much', 'of', 'waiting', 'these', 'staffs', 'were', 'too', 'hurry', 'in', 'serving', 'food', 'asking', 'people', 'to', 'finish', 'meal', 'leave', 'quickly', 'I', 'can', 'understand', 'there', 'is', 'a', 'waiting', 'and', 'staffs', 'should', 'approach', 'in', 'a', 'positive', 'way', 'I', 'will', 'never', 'go', 'there', 'again', 'n', 'nbangaloreepicure', 'com', 'Rated', 'RATED', 'n', 'I', 'have', 'a', 'confession', 'being', 'a', 'south', 'Indian', 'I', 'distaste', 'south', 'Indian', 'food', 'not', 'that', 'I', 'hate', 'it', 'I', 'don', 't', 'like', 'it', 'either', 'But', 'still', 'made', 'up', 'my', 'mind', 'on', 'Sankaranti', 'to', 'have', 'authentic', 'south', 'Indian', 'food', 'visited', 'Adduri', 'Udupi', 'Bhojana', 'because', 'it', 'was', 'close', 'to', 'my', 'place', 'I', 'just', 'had', 'a', 'look', 'at', 'the', 'menu', 'told', 'myself', 'that', 'I', 'can', 'do', 'it', 'I', 'am', 'not', 'blessed', 'with', 'a', 'tremendous', 'appetite', 'welcomed', 'with', 'the', 'mango', 'soup', 'followed', 'by', 'the', 'wide', 'variety', 'of', 'dishes', 'served', 'I', 'have', 'developed', 'the', 'new', 'love', 'for', 'Pongal', 'both', 'sweet', 'and', 'Khara', 'I', 'can', 'still', 'feel', 'the', 'taste', 'of', 'the', 'ghee', 'bursting', 'in', 'my', 'mouth', 'but', 'it', 'was', 'kai', 'holige', 'that', 'made', 'my', 'day', 'crisp', 'and', 'soft', 'not', 'to', 'forget', 'food', 'is', 'served', 'on', 'a', 'banana', 'leaf', 'that', 'adds', 'in', 'more', 'flavor', 'and', 'taste', 'waiters', 'are', 'attentive', 'and', 'responsive', 'The', 'customer', 's', 'needs', 'are', 'monitored', 'and', 'addressed', 'so', 'much', 'variety', 'for', 'just', 'Rs', 'without', 'compromising', 'on', 'quantity', 'and', 'quality', 'and', 'yes', 'it', 'is', 'unlimited', 'This', 'visit', 'turned', 'out', 'to', 'be', 'a', 'surprise', 'package', 'Rated', 'RATED', 'n', 'Food', 'is', 'good', 'nNo', 'parking', 'nAmbience', 'is', 'average', 'nOverall', 'its', 'value', 'for', 'money', 'if', 'you', 'looking', 'for', 'south', 'Indian', 'food', 'nPreferred', 'the', 'tiffin', 'items', 'Rated', 'RATED', 'n', 'Been', 'here', 'last', 'week', 'with', 'high', 'expectations', 'based', 'on', 'few', 'reviews', 'But', 'utterly', 'disappointed', 'with', 'the', 'food', 'quality', 'taste', 'I', 'feel', 'it', 's', 'an', 'overhyped', 'place', 'There', 'are', 'many', 'better', 'places', 'in', 'the', 'vicinity', 'for', 'Plantain', 'leaf', 'meal', 'There', 'was', 'too', 'much', 'of', 'waiting', 'these', 'staffs', 'were', 'too', 'hurry', 'in', 'serving', 'food', 'asking', 'people', 'to', 'finish', 'meal', 'leave', 'quickly', 'I', 'can', 'understand', 'there', 'is', 'a', 'waiting', 'and', 'staffs', 'should', 'approach', 'in', 'a', 'positive', 'way', 'I', 'will', 'never', 'go', 'there', 'again', 'n', 'nbangaloreepicure', 'com', 'Rated', 'RATED', 'n', 'I', 'have', 'a', 'confession', 'being', 'a', 'south', 'Indian', 'I', 'distaste', 'south', 'Indian', 'food', 'not', 'that', 'I', 'hate', 'it', 'I', 'don', 't', 'like', 'it', 'either', 'But', 'still', 'made', 'up', 'my', 'mind', 'on', 'Sankaranti', 'to', 'have', 'authentic', 'south', 'Indian', 'food', 'visited', 'Adduri', 'Udupi', 'Bhojana', 'because', 'it', 'was', 'close', 'to', 'my', 'place', 'I', 'just', 'had', 'a', 'look', 'at', 'the', 'menu', 'told', 'myself', 'that', 'I', 'can', 'do', 'it', 'I', 'am', 'not', 'blessed', 'with', 'a', 'tremendous', 'appetite', 'welcomed', 'with', 'the', 'mango', 'soup', 'followed', 'by', 'the', 'wide', 'variety', 'of', 'dishes', 'served', 'I', 'have', 'developed', 'the', 'new', 'love', 'for', 'Pongal', 'both', 'sweet', 'and', 'Khara', 'I', 'can', 'still', 'feel', 'the', 'taste', 'of', 'the', 'ghee', 'bursting', 'in', 'my', 'mouth', 'but', 'it', 'was', 'kai', 'holige', 'that', 'made', 'my', 'day', 'crisp', 'and', 'soft', 'not', 'to', 'forget', 'food', 'is', 'served', 'on', 'a', 'banana', 'leaf', 'that', 'adds', 'in', 'more', 'flavor', 'and', 'taste', 'waiters', 'are', 'attentive', 'and', 'responsive', 'The', 'customer', 's', 'needs', 'are', 'monitored', 'and', 'addressed', 'so', 'much', 'variety', 'for', 'just', 'Rs', 'without', 'compromising', 'on', 'quantity', 'and', 'quality', 'and', 'yes', 'it', 'is', 'unlimited', 'This', 'visit', 'turned', 'out', 'to', 'be', 'a', 'surprise', 'package', 'Rated', 'RATED', 'n', 'Food', 'is', 'good', 'nNo', 'parking', 'nAmbience', 'is', 'average', 'nOverall', 'its', 'value', 'for', 'money', 'if', 'you', 'looking', 'for', 'south', 'Indian', 'food', 'nPreferred', 'the', 'tiffin', 'items', 'Rated', 'RATED', 'n', 'Had', 'been', 'on', 'a', 'week', 'night', 'for', 'an', 'authentic', 'south', 'Indian', 'food', 'I', 'personally', 'love', 'being', 'served', 'on', 'banyan', 'leaf', 'The', 'waiters', 'are', 'all', 'dressed', 'up', 'in', 'traditional', 'Mysore', 'attire', 'wearing', 'with', 'a', 'peta', 'The', 'food', 'was', 'delicious', 'and', 'definitely', 'worth', 'it', 's', 'price', 'The', 'waiters', 'are', 'friendly', 'and', 'serve', 'u', 'well', 'with', 'a', 'smile', 'The', 'food', 'is', 'prepared', 'without', 'garlic', 'which', 'is', 'a', 'plus', 'point', 'attracting', 'many', 'senior', 'customers', 'Rated', 'RATED', 'n', 'Food', 'is', 'good', 'and', 'enjoyed', 'With', 'Rs', 'is', 'very', 'nice', 'nNote', 'It', 'happen', 'with', 'us', 'n', 'If', 'you', 'going', 'TWO', 'people', 'you', 'may', 'need', 'to', 'share', 'the', 'table', 'there', 'Its', 'almost', 'crowed', 'n', 'You', 'have', 'to', 'sit', 'where', 'they', 'ask', 'you', 'can', 't', 'choose', 'even', 'if', 'all', 'the', 'table', 'are', 'empty', 'nJust', 'wait', 'eat', 'and', 'come', 'back', 'Rated', 'RATED', 'n', 'Excellent', 'Ambience', 'with', 'delicious', 'meals', 'with', 'variety', 'types', 'Worth', 'paying', 'for', 'money', 'and', 'you', 'can', 'dine', 'out', 'if', 'you', 'are', 'with', 'more', 'friends', 'relatives', 'in', 'home', 'Rated', 'RATED', 'n', 'Very', 'good', 'and', 'Unlimited', 'especially', 'masala', 'dosa', 'Service', 'and', 'ambience', 'was', 'also', 'good', 'will', 'visit', 'again', 'with', 'friends', 'very', 'very', 'reasonble', 'and', 'wholesome', 'food', 'Rated', 'RATED', 'n', 'Aaaa', 'wt', 'to', 'tell', 'Unlimited', 'food', 'food', 'was', 'like', 'exactly', 'like', 'south', 'indian', 'marriage', 'food', 'soups', 'sides', 'masala', 'dosa', 'all', 'were', 'unlimited', 'for', 'just', 'except', 'ice', 'cream', 'in', 'the', 'end', 'they', 'give', 'a', 'water', 'bottle', 'and', 'main', 'thing', 'is', 'have', 'patience', 'to', 'get', 'place', 'to', 'sit', 'there', 'is', 'no', 'parking', 'place', 'of', 'this', 'outlet', 'and', 'difficult', 'to', 'park', 'in', 'front', 'of', 'the', 'restaurants']\n"
     ]
    }
   ],
   "source": [
    "rev3 = reviews_tokens[3]\n",
    "print(rev3)"
   ]
  },
  {
   "cell_type": "code",
   "execution_count": 49,
   "id": "1eb801da",
   "metadata": {},
   "outputs": [],
   "source": [
    "# creating a column which will contain only those words from review column which are not in stop (stopwords) list. It means\n",
    "# if any word from review column which is not in stopwrds list than we will consider thta word otherwise neglect.\n",
    "reviews_tokens_clean = reviews_tokens.apply(lambda each_review : [token for token in each_review if token not in stop])"
   ]
  },
  {
   "cell_type": "code",
   "execution_count": 50,
   "id": "95a866e8",
   "metadata": {},
   "outputs": [
    {
     "data": {
      "text/plain": [
       "0        [A, beautiful, place, dine, The, interiors, ta...\n",
       "1        [Had, dinner, family, Turned, good, choose, su...\n",
       "2        [Ambience, good, enough, pocket, friendly, caf...\n",
       "3        [Great, food, proper, Karnataka, style, full, ...\n",
       "4        [Very, good, restaurant, neighbourhood, Buffet...\n",
       "                               ...                        \n",
       "51712    [Food, service, incomparably, excellent, The, ...\n",
       "51713                                                   []\n",
       "51714                                                   []\n",
       "51715    [Nice, friendly, place, staff, awesome, Ansur,...\n",
       "51716    [Great, ambience, looking, nice, good, selecti...\n",
       "Name: reviews_list, Length: 51490, dtype: object"
      ]
     },
     "execution_count": 50,
     "metadata": {},
     "output_type": "execute_result"
    }
   ],
   "source": [
    "# created updated column not containg any stopwords\n",
    "reviews_tokens_clean"
   ]
  },
  {
   "cell_type": "code",
   "execution_count": 51,
   "id": "732cdf7d",
   "metadata": {},
   "outputs": [
    {
     "data": {
      "text/plain": [
       "pandas.core.series.Series"
      ]
     },
     "execution_count": 51,
     "metadata": {},
     "output_type": "execute_result"
    }
   ],
   "source": [
    "# checking type of above created column \n",
    "type(reviews_tokens_clean)"
   ]
  },
  {
   "cell_type": "code",
   "execution_count": 52,
   "id": "c8a865f5",
   "metadata": {},
   "outputs": [],
   "source": [
    "# storing the series type in a 2d matrix table \n",
    "total_reviews_2d = list(reviews_tokens_clean)"
   ]
  },
  {
   "cell_type": "code",
   "execution_count": 53,
   "id": "f865d4ac",
   "metadata": {},
   "outputs": [],
   "source": [
    "# converting review_tokens_clean column to 1d list. \n",
    "total_reviews_1d = []\n",
    "\n",
    "for review in total_reviews_2d:\n",
    "    for word in review:\n",
    "        total_reviews_1d.append(word)"
   ]
  },
  {
   "cell_type": "code",
   "execution_count": 143,
   "id": "74183733",
   "metadata": {},
   "outputs": [
    {
     "data": {
      "text/plain": [
       "['A',\n",
       " 'beautiful',\n",
       " 'place',\n",
       " 'dine',\n",
       " 'The',\n",
       " 'interiors',\n",
       " 'take',\n",
       " 'back',\n",
       " 'Mughal',\n",
       " 'era',\n",
       " 'The',\n",
       " 'lightings',\n",
       " 'perfect',\n",
       " 'We',\n",
       " 'went',\n",
       " 'occasion',\n",
       " 'Christmas',\n",
       " 'limited',\n",
       " 'items',\n",
       " 'available',\n",
       " 'But',\n",
       " 'taste',\n",
       " 'service',\n",
       " 'compromised',\n",
       " 'The',\n",
       " 'complaint',\n",
       " 'breads',\n",
       " 'could',\n",
       " 'better',\n",
       " 'Would',\n",
       " 'surely',\n",
       " 'like',\n",
       " 'come',\n",
       " 'I',\n",
       " 'dinner',\n",
       " 'family',\n",
       " 'weekday',\n",
       " 'The',\n",
       " 'restaurant',\n",
       " 'completely',\n",
       " 'empty',\n",
       " 'Ambience',\n",
       " 'good',\n",
       " 'good',\n",
       " 'old',\n",
       " 'hindi',\n",
       " 'music',\n",
       " 'Seating',\n",
       " 'arrangement',\n",
       " 'good',\n",
       " 'We',\n",
       " 'ordered',\n",
       " 'masala',\n",
       " 'papad',\n",
       " 'panner',\n",
       " 'baby',\n",
       " 'corn',\n",
       " 'starters',\n",
       " 'lemon',\n",
       " 'corrionder',\n",
       " 'soup',\n",
       " 'butter',\n",
       " 'roti',\n",
       " 'olive',\n",
       " 'chilli',\n",
       " 'paratha',\n",
       " 'Food',\n",
       " 'fresh',\n",
       " 'good',\n",
       " 'service',\n",
       " 'good',\n",
       " 'Good',\n",
       " 'family',\n",
       " 'hangout',\n",
       " 'nCheers',\n",
       " 'Its',\n",
       " 'restaurant',\n",
       " 'near',\n",
       " 'Banashankari',\n",
       " 'BDA',\n",
       " 'Me',\n",
       " 'along',\n",
       " 'office',\n",
       " 'friends',\n",
       " 'visited',\n",
       " 'buffet',\n",
       " 'unfortunately',\n",
       " 'provide',\n",
       " 'veg',\n",
       " 'buffet',\n",
       " 'On',\n",
       " 'inquiring',\n",
       " 'said',\n",
       " 'place',\n",
       " 'mostly',\n",
       " 'visited',\n",
       " 'vegetarians',\n",
       " 'Anyways',\n",
       " 'ordered',\n",
       " 'ala',\n",
       " 'carte',\n",
       " 'items',\n",
       " 'took',\n",
       " 'ages',\n",
       " 'come',\n",
       " 'Food',\n",
       " 'ok',\n",
       " 'ok',\n",
       " 'Definitely',\n",
       " 'visiting',\n",
       " 'anymore',\n",
       " 'We',\n",
       " 'went',\n",
       " 'weekend',\n",
       " 'one',\n",
       " 'us',\n",
       " 'buffet',\n",
       " 'two',\n",
       " 'us',\n",
       " 'took',\n",
       " 'Ala',\n",
       " 'Carte',\n",
       " 'Firstly',\n",
       " 'ambience',\n",
       " 'service',\n",
       " 'place',\n",
       " 'great',\n",
       " 'The',\n",
       " 'buffet',\n",
       " 'lot',\n",
       " 'items',\n",
       " 'good',\n",
       " 'good',\n",
       " 'We',\n",
       " 'Pumpkin',\n",
       " 'Halwa',\n",
       " 'intm',\n",
       " 'dessert',\n",
       " 'amazing',\n",
       " 'Must',\n",
       " 'try',\n",
       " 'The',\n",
       " 'kulchas',\n",
       " 'great',\n",
       " 'Cheers',\n",
       " 'The',\n",
       " 'best',\n",
       " 'thing',\n",
       " 'place',\n",
       " 'ambiance',\n",
       " 'Second',\n",
       " 'best',\n",
       " 'thing',\n",
       " 'yummy',\n",
       " 'food',\n",
       " 'We',\n",
       " 'try',\n",
       " 'buffet',\n",
       " 'buffet',\n",
       " 'food',\n",
       " 'disappointed',\n",
       " 'us',\n",
       " 'nTest',\n",
       " 'nQuality',\n",
       " 'nService',\n",
       " 'Staff',\n",
       " 'professional',\n",
       " 'friendly',\n",
       " 'nOverall',\n",
       " 'experience',\n",
       " 'excellent',\n",
       " 'nsubirmajumder',\n",
       " 'wixsite',\n",
       " 'com',\n",
       " 'Great',\n",
       " 'food',\n",
       " 'pleasant',\n",
       " 'ambience',\n",
       " 'Expensive',\n",
       " 'Coll',\n",
       " 'place',\n",
       " 'chill',\n",
       " 'relax',\n",
       " 'nService',\n",
       " 'really',\n",
       " 'good',\n",
       " 'friendly',\n",
       " 'staff',\n",
       " 'nFood',\n",
       " 'nService',\n",
       " 'nAmbience',\n",
       " 'nOverall',\n",
       " 'Good',\n",
       " 'ambience',\n",
       " 'tasty',\n",
       " 'food',\n",
       " 'nCheese',\n",
       " 'chilli',\n",
       " 'paratha',\n",
       " 'Bhutta',\n",
       " 'palak',\n",
       " 'methi',\n",
       " 'curry',\n",
       " 'good',\n",
       " 'combo',\n",
       " 'nLemon',\n",
       " 'Chicken',\n",
       " 'starters',\n",
       " 'must',\n",
       " 'try',\n",
       " 'item',\n",
       " 'nEgg',\n",
       " 'fried',\n",
       " 'rice',\n",
       " 'also',\n",
       " 'quite',\n",
       " 'tasty',\n",
       " 'nIn',\n",
       " 'mocktails',\n",
       " 'recommend',\n",
       " 'Alice',\n",
       " 'Junoon',\n",
       " 'Do',\n",
       " 'miss',\n",
       " 'You',\n",
       " 'go',\n",
       " 'wrong',\n",
       " 'Jalsa',\n",
       " 'Never',\n",
       " 'fan',\n",
       " 'buffet',\n",
       " 'thus',\n",
       " 'always',\n",
       " 'order',\n",
       " 'alacarte',\n",
       " 'Service',\n",
       " 'times',\n",
       " 'slower',\n",
       " 'side',\n",
       " 'food',\n",
       " 'worth',\n",
       " 'wait',\n",
       " 'Overdelighted',\n",
       " 'service',\n",
       " 'food',\n",
       " 'provided',\n",
       " 'place',\n",
       " 'A',\n",
       " 'royal',\n",
       " 'ethnic',\n",
       " 'atmosphere',\n",
       " 'builds',\n",
       " 'strong',\n",
       " 'essence',\n",
       " 'India',\n",
       " 'also',\n",
       " 'quality',\n",
       " 'taste',\n",
       " 'food',\n",
       " 'truly',\n",
       " 'authentic',\n",
       " 'I',\n",
       " 'would',\n",
       " 'totally',\n",
       " 'recommend',\n",
       " 'visit',\n",
       " 'place',\n",
       " 'The',\n",
       " 'place',\n",
       " 'nice',\n",
       " 'comfortable',\n",
       " 'Food',\n",
       " 'wise',\n",
       " 'jalea',\n",
       " 'outlets',\n",
       " 'maintain',\n",
       " 'good',\n",
       " 'standard',\n",
       " 'The',\n",
       " 'soya',\n",
       " 'chaap',\n",
       " 'standout',\n",
       " 'dish',\n",
       " 'Clearly',\n",
       " 'one',\n",
       " 'trademark',\n",
       " 'dish',\n",
       " 'per',\n",
       " 'must',\n",
       " 'try',\n",
       " 'nThe',\n",
       " 'concern',\n",
       " 'parking',\n",
       " 'It',\n",
       " 'congested',\n",
       " 'limited',\n",
       " 'cars',\n",
       " 'The',\n",
       " 'basement',\n",
       " 'parking',\n",
       " 'steep',\n",
       " 'makes',\n",
       " 'cumbersome',\n",
       " 'The',\n",
       " 'place',\n",
       " 'nice',\n",
       " 'comfortable',\n",
       " 'Food',\n",
       " 'wise',\n",
       " 'jalea',\n",
       " 'outlets',\n",
       " 'maintain',\n",
       " 'good',\n",
       " 'standard',\n",
       " 'The',\n",
       " 'soya',\n",
       " 'chaap',\n",
       " 'standout',\n",
       " 'dish',\n",
       " 'Clearly',\n",
       " 'one',\n",
       " 'trademark',\n",
       " 'dish',\n",
       " 'per',\n",
       " 'must',\n",
       " 'try',\n",
       " 'nThe',\n",
       " 'concern',\n",
       " 'parking',\n",
       " 'It',\n",
       " 'congested',\n",
       " 'limited',\n",
       " 'cars',\n",
       " 'The',\n",
       " 'basement',\n",
       " 'parking',\n",
       " 'steep',\n",
       " 'makes',\n",
       " 'cumbersome',\n",
       " 'The',\n",
       " 'place',\n",
       " 'nice',\n",
       " 'comfortable',\n",
       " 'Food',\n",
       " 'wise',\n",
       " 'jalea',\n",
       " 'outlets',\n",
       " 'maintain',\n",
       " 'good',\n",
       " 'standard',\n",
       " 'The',\n",
       " 'soya',\n",
       " 'chaap',\n",
       " 'standout',\n",
       " 'dish',\n",
       " 'Clearly',\n",
       " 'one',\n",
       " 'trademark',\n",
       " 'dish',\n",
       " 'per',\n",
       " 'must',\n",
       " 'try',\n",
       " 'nThe',\n",
       " 'concern',\n",
       " 'parking',\n",
       " 'It',\n",
       " 'congested',\n",
       " 'limited',\n",
       " 'cars',\n",
       " 'The',\n",
       " 'basement',\n",
       " 'parking',\n",
       " 'steep',\n",
       " 'makes',\n",
       " 'cumbersome',\n",
       " 'Had',\n",
       " 'dinner',\n",
       " 'family',\n",
       " 'Turned',\n",
       " 'good',\n",
       " 'choose',\n",
       " 'suitable',\n",
       " 'ages',\n",
       " 'people',\n",
       " 'Can',\n",
       " 'try',\n",
       " 'place',\n",
       " 'We',\n",
       " 'liked',\n",
       " 'starters',\n",
       " 'Service',\n",
       " 'good',\n",
       " 'Prices',\n",
       " 'affordable',\n",
       " 'Will',\n",
       " 'recommend',\n",
       " 'restaurant',\n",
       " 'early',\n",
       " 'dinner',\n",
       " 'The',\n",
       " 'place',\n",
       " 'little',\n",
       " 'noisy',\n",
       " 'The',\n",
       " 'ambience',\n",
       " 'really',\n",
       " 'nice',\n",
       " 'staff',\n",
       " 'courteous',\n",
       " 'The',\n",
       " 'price',\n",
       " 'pretty',\n",
       " 'high',\n",
       " 'quantity',\n",
       " 'overall',\n",
       " 'experience',\n",
       " 'fine',\n",
       " 'The',\n",
       " 'quality',\n",
       " 'food',\n",
       " 'nice',\n",
       " 'nothing',\n",
       " 'extraordinary',\n",
       " 'They',\n",
       " 'also',\n",
       " 'buffet',\n",
       " 'veg',\n",
       " 'I',\n",
       " 'felt',\n",
       " 'good',\n",
       " 'little',\n",
       " 'expensive',\n",
       " 'quantity',\n",
       " 'serve',\n",
       " 'In',\n",
       " 'terms',\n",
       " 'taste',\n",
       " 'decent',\n",
       " 'There',\n",
       " 'nothing',\n",
       " 'much',\n",
       " 'talk',\n",
       " 'ambience',\n",
       " 'regular',\n",
       " 'casual',\n",
       " 'dining',\n",
       " 'restaurant',\n",
       " 'take',\n",
       " 'family',\n",
       " 'dinner',\n",
       " 'lunch',\n",
       " 'If',\n",
       " 'improve',\n",
       " 'quantity',\n",
       " 'may',\n",
       " 'reduce',\n",
       " 'price',\n",
       " 'bit',\n",
       " 'may',\n",
       " 'improve',\n",
       " 'presentation',\n",
       " 'food',\n",
       " 'might',\n",
       " 'Manage',\n",
       " 'get',\n",
       " 'repeat',\n",
       " 'customers',\n",
       " 'I',\n",
       " 'looking',\n",
       " 'quite',\n",
       " 'place',\n",
       " 'spend',\n",
       " 'time',\n",
       " 'family',\n",
       " 'well',\n",
       " 'wanted',\n",
       " 'try',\n",
       " 'new',\n",
       " 'place',\n",
       " 'Since',\n",
       " 'I',\n",
       " 'Banashankari',\n",
       " 'I',\n",
       " 'thought',\n",
       " 'trying',\n",
       " 'place',\n",
       " 'The',\n",
       " 'place',\n",
       " 'good',\n",
       " 'rating',\n",
       " 'part',\n",
       " 'Zomato',\n",
       " 'gold',\n",
       " 'So',\n",
       " 'I',\n",
       " 'decided',\n",
       " 'try',\n",
       " 'place',\n",
       " 'It',\n",
       " 'delite',\n",
       " 'see',\n",
       " 'friendly',\n",
       " 'staff',\n",
       " 'food',\n",
       " 'ordered',\n",
       " 'tasty',\n",
       " 'well',\n",
       " 'nFood',\n",
       " 'nAmbience',\n",
       " 'nFriendly',\n",
       " 'staff',\n",
       " 'nPocket',\n",
       " 'friendly',\n",
       " 'nWill',\n",
       " 'definitely',\n",
       " 'visit',\n",
       " 'Nice',\n",
       " 'place',\n",
       " 'dine',\n",
       " 'good',\n",
       " 'ambiance',\n",
       " 'Food',\n",
       " 'good',\n",
       " 'serving',\n",
       " 'time',\n",
       " 'also',\n",
       " 'good',\n",
       " 'neat',\n",
       " 'restrooms',\n",
       " 'arranged',\n",
       " 'tables',\n",
       " 'thing',\n",
       " 'went',\n",
       " 'lunch',\n",
       " 'noticed',\n",
       " 'kept',\n",
       " 'playing',\n",
       " 'one',\n",
       " 'music',\n",
       " 'back',\n",
       " 'back',\n",
       " 'little',\n",
       " 'annoying',\n",
       " 'Chicken',\n",
       " 'biriyani',\n",
       " 'good',\n",
       " 'chicken',\n",
       " 'fresh',\n",
       " 'tender',\n",
       " 'rice',\n",
       " 'well',\n",
       " 'cooked',\n",
       " 'overall',\n",
       " 'great',\n",
       " 'Mutton',\n",
       " 'biriyani',\n",
       " 'good',\n",
       " 'tasty',\n",
       " 'It',\n",
       " 'plenty',\n",
       " 'mutton',\n",
       " 'pieces',\n",
       " 'This',\n",
       " 'place',\n",
       " 'cool',\n",
       " 'good',\n",
       " 'ambience',\n",
       " 'slow',\n",
       " 'music',\n",
       " 'delicious',\n",
       " 'food',\n",
       " 'find',\n",
       " 'peace',\n",
       " 'Staff',\n",
       " 'friendly',\n",
       " 'maintained',\n",
       " 'place',\n",
       " 'clean',\n",
       " 'The',\n",
       " 'price',\n",
       " 'average',\n",
       " 'quantity',\n",
       " 'food',\n",
       " 'serve',\n",
       " 'nThom',\n",
       " 'yum',\n",
       " 'Thai',\n",
       " 'soup',\n",
       " 'best',\n",
       " 'treat',\n",
       " 'mouth',\n",
       " 'roti',\n",
       " 'soft',\n",
       " 'vilaythi',\n",
       " 'paneer',\n",
       " 'perfect',\n",
       " 'veggie',\n",
       " 'foodies',\n",
       " 'rice',\n",
       " 'tried',\n",
       " 'burnt',\n",
       " 'garlic',\n",
       " 'fried',\n",
       " 'rice',\n",
       " 'vegetables',\n",
       " 'perfect',\n",
       " 'thing',\n",
       " 'end',\n",
       " 'Quiet',\n",
       " 'good',\n",
       " 'family',\n",
       " 'type',\n",
       " 'place',\n",
       " 'calm',\n",
       " 'usually',\n",
       " 'find',\n",
       " 'crowd',\n",
       " 'panner',\n",
       " 'curry',\n",
       " 'deserts',\n",
       " 'tasted',\n",
       " 'wer',\n",
       " 'really',\n",
       " 'good',\n",
       " 'found',\n",
       " 'little',\n",
       " 'expensive',\n",
       " 'I',\n",
       " 'bad',\n",
       " 'experience',\n",
       " 'nI',\n",
       " 'know',\n",
       " 'la',\n",
       " 'carte',\n",
       " 'buffet',\n",
       " 'worst',\n",
       " 'They',\n",
       " 'gave',\n",
       " 'us',\n",
       " 'complementary',\n",
       " 'drink',\n",
       " 'momos',\n",
       " 'buffet',\n",
       " 'The',\n",
       " 'momos',\n",
       " 'really',\n",
       " 'good',\n",
       " 'nThe',\n",
       " 'number',\n",
       " 'varieties',\n",
       " 'first',\n",
       " 'disappointing',\n",
       " 'The',\n",
       " 'service',\n",
       " 'slow',\n",
       " 'They',\n",
       " 'refilled',\n",
       " 'food',\n",
       " 'slowly',\n",
       " 'The',\n",
       " 'starters',\n",
       " 'okay',\n",
       " 'The',\n",
       " 'main',\n",
       " 'course',\n",
       " 'also',\n",
       " 'There',\n",
       " 'two',\n",
       " 'gravies',\n",
       " 'roti',\n",
       " 'rice',\n",
       " 'raitha',\n",
       " 'They',\n",
       " 'chats',\n",
       " 'sev',\n",
       " 'puri',\n",
       " 'pan',\n",
       " 'puri',\n",
       " 'average',\n",
       " 'But',\n",
       " 'desert',\n",
       " 'disappointing',\n",
       " 'They',\n",
       " 'gulab',\n",
       " 'Jamun',\n",
       " 'chocolate',\n",
       " 'cake',\n",
       " 'The',\n",
       " 'jamun',\n",
       " 'cooked',\n",
       " 'inside',\n",
       " 'There',\n",
       " 'cold',\n",
       " 'blob',\n",
       " 'raw',\n",
       " 'dough',\n",
       " 'inside',\n",
       " 'The',\n",
       " 'chocolate',\n",
       " 'cake',\n",
       " 'also',\n",
       " 'really',\n",
       " 'hard',\n",
       " 'good',\n",
       " 'nOverall',\n",
       " 'buffet',\n",
       " 'bad',\n",
       " 'experience',\n",
       " 'Food',\n",
       " 'nAmbience',\n",
       " 'nStaff',\n",
       " 'nOne',\n",
       " 'good',\n",
       " 'places',\n",
       " 'try',\n",
       " 'north',\n",
       " 'Indian',\n",
       " 'food',\n",
       " 'depends',\n",
       " 'ur',\n",
       " 'taste',\n",
       " 'buds',\n",
       " 'Not',\n",
       " 'everyone',\n",
       " 'like',\n",
       " 'items',\n",
       " 'Specially',\n",
       " 'u',\n",
       " 'r',\n",
       " 'particular',\n",
       " 'abt',\n",
       " 'sweet',\n",
       " 'spicy',\n",
       " 'food',\n",
       " 'nThere',\n",
       " 'buffet',\n",
       " 'available',\n",
       " 'nWe',\n",
       " 'ordered',\n",
       " 'paneer',\n",
       " 'uttar',\n",
       " 'dakshin',\n",
       " 'paneer',\n",
       " 'kurchan',\n",
       " 'amazing',\n",
       " 'The',\n",
       " 'Gobi',\n",
       " 'hara',\n",
       " 'pyaz',\n",
       " 'mix',\n",
       " 'veg',\n",
       " 'average',\n",
       " 'A',\n",
       " 'decent',\n",
       " 'place',\n",
       " 'family',\n",
       " 'lunch',\n",
       " 'dinner',\n",
       " 'well',\n",
       " 'arranged',\n",
       " 'simple',\n",
       " 'manner',\n",
       " 'Food',\n",
       " 'tasty',\n",
       " 'crew',\n",
       " 'helpful',\n",
       " 'understanding',\n",
       " 'Great',\n",
       " 'place',\n",
       " 'heavy',\n",
       " 'lunch',\n",
       " 'Good',\n",
       " 'service',\n",
       " 'nThe',\n",
       " 'chicken',\n",
       " 'biryani',\n",
       " 'undoubtedly',\n",
       " 'one',\n",
       " 'best',\n",
       " 'I',\n",
       " 'Biriyani',\n",
       " 'Lassi',\n",
       " 'would',\n",
       " 'suggested',\n",
       " 'combo',\n",
       " 'Buffet',\n",
       " 'talk',\n",
       " 'place',\n",
       " 'try',\n",
       " 'according',\n",
       " 'appetite',\n",
       " 'A',\n",
       " 'nice',\n",
       " 'place',\n",
       " 'Its',\n",
       " 'one',\n",
       " 'restaurant',\n",
       " 'near',\n",
       " 'katriguppe',\n",
       " 'found',\n",
       " 'really',\n",
       " 'good',\n",
       " 'Good',\n",
       " 'variety',\n",
       " 'Chinese',\n",
       " 'thai',\n",
       " 'dishes',\n",
       " 'Service',\n",
       " 'good',\n",
       " 'good',\n",
       " 'place',\n",
       " 'hangout',\n",
       " 'family',\n",
       " 'peaceful',\n",
       " 'place',\n",
       " 'noise',\n",
       " 'really',\n",
       " 'less',\n",
       " 'good',\n",
       " 'view',\n",
       " 'Spice',\n",
       " 'elephant',\n",
       " 'soup',\n",
       " 'SPL',\n",
       " 'almost',\n",
       " 'manchow',\n",
       " 'flavour',\n",
       " 'soup',\n",
       " 'Just',\n",
       " 'medium',\n",
       " 'spicy',\n",
       " 'nLasooni',\n",
       " 'fish',\n",
       " 'tikka',\n",
       " 'awesome',\n",
       " 'nI',\n",
       " 'remember',\n",
       " 'dessert',\n",
       " 'name',\n",
       " 'I',\n",
       " 'attached',\n",
       " 'photo',\n",
       " 'It',\n",
       " 'vanilla',\n",
       " 'ice',\n",
       " 'inside',\n",
       " 'wafers',\n",
       " 'Wafer',\n",
       " 'hell',\n",
       " 'hard',\n",
       " 'egg',\n",
       " 'smell',\n",
       " 'chewy',\n",
       " 'Nightmare',\n",
       " 'dessert',\n",
       " 'nTable',\n",
       " 'leg',\n",
       " 'space',\n",
       " 'bad',\n",
       " 'I',\n",
       " 'uncomfortable',\n",
       " 'whole',\n",
       " 'time',\n",
       " 'kept',\n",
       " 'adjusting',\n",
       " 'legs',\n",
       " 'nNo',\n",
       " 'parking',\n",
       " 'nFor',\n",
       " 'taste',\n",
       " 'felt',\n",
       " 'costly',\n",
       " 'Zomato',\n",
       " 'gold',\n",
       " 'partner',\n",
       " 'price',\n",
       " 'It',\n",
       " 'insane',\n",
       " 'They',\n",
       " 'really',\n",
       " 'nice',\n",
       " 'food',\n",
       " 'small',\n",
       " 'place',\n",
       " 'courteous',\n",
       " 'staff',\n",
       " 'cheap',\n",
       " 'food',\n",
       " 'ambience',\n",
       " 'Cost',\n",
       " 'soups',\n",
       " 'Starters',\n",
       " 'Main',\n",
       " 'course',\n",
       " 'Cost',\n",
       " 'two',\n",
       " 'us',\n",
       " 'Ambience',\n",
       " 'good',\n",
       " 'enough',\n",
       " 'pocket',\n",
       " 'friendly',\n",
       " 'cafe',\n",
       " 'quantity',\n",
       " 'good',\n",
       " 'desserts',\n",
       " 'good',\n",
       " 'enough',\n",
       " 'nWent',\n",
       " 'quick',\n",
       " 'bite',\n",
       " 'friends',\n",
       " 'nThe',\n",
       " 'ambience',\n",
       " 'corporate',\n",
       " 'feel',\n",
       " 'I',\n",
       " 'would',\n",
       " 'say',\n",
       " 'unique',\n",
       " 'nTried',\n",
       " 'nachos',\n",
       " 'pasta',\n",
       " 'churros',\n",
       " 'lasagne',\n",
       " 'nNachos',\n",
       " 'pathetic',\n",
       " 'Seriously',\n",
       " 'order',\n",
       " 'nPasta',\n",
       " 'okayish',\n",
       " 'nLasagne',\n",
       " 'good',\n",
       " 'nNutella',\n",
       " 'churros',\n",
       " 'best',\n",
       " 'nOverall',\n",
       " 'okayish',\n",
       " 'experience',\n",
       " 'nPeace',\n",
       " 'First',\n",
       " 'big',\n",
       " 'thanks',\n",
       " 'staff',\n",
       " 'Cafe',\n",
       " 'Very',\n",
       " 'polite',\n",
       " 'courteous',\n",
       " 'nI',\n",
       " 'mins',\n",
       " 'closing',\n",
       " 'time',\n",
       " 'Without',\n",
       " 'discomfort',\n",
       " 'hesitation',\n",
       " 'staff',\n",
       " 'welcomed',\n",
       " 'warm',\n",
       " 'smile',\n",
       " 'said',\n",
       " 'still',\n",
       " 'open',\n",
       " 'though',\n",
       " 'preparing',\n",
       " 'close',\n",
       " 'cafe',\n",
       " 'day',\n",
       " 'nQuickly',\n",
       " 'ordered',\n",
       " 'Thai',\n",
       " 'green',\n",
       " 'curry',\n",
       " 'served',\n",
       " 'rice',\n",
       " 'They',\n",
       " 'got',\n",
       " 'within',\n",
       " 'mins',\n",
       " 'hot',\n",
       " 'freshly',\n",
       " 'made',\n",
       " 'nIt',\n",
       " 'tasty',\n",
       " 'taste',\n",
       " 'coconut',\n",
       " 'milk',\n",
       " 'Not',\n",
       " 'spicy',\n",
       " 'mild',\n",
       " 'spicy',\n",
       " 'nI',\n",
       " 'saw',\n",
       " 'yummy',\n",
       " 'looking',\n",
       " 'dessert',\n",
       " 'menu',\n",
       " 'go',\n",
       " 'try',\n",
       " 'nA',\n",
       " 'good',\n",
       " ...]"
      ]
     },
     "execution_count": 143,
     "metadata": {},
     "output_type": "execute_result"
    }
   ],
   "source": [
    "total_reviews_1d"
   ]
  },
  {
   "cell_type": "code",
   "execution_count": 55,
   "id": "37aec272",
   "metadata": {},
   "outputs": [],
   "source": [
    "# Performing Unigram Analysis (getting single word and their frequency or count) \n",
    "from nltk import FreqDist"
   ]
  },
  {
   "cell_type": "code",
   "execution_count": 56,
   "id": "58fbf7fd",
   "metadata": {},
   "outputs": [],
   "source": [
    "fd = FreqDist()"
   ]
  },
  {
   "cell_type": "code",
   "execution_count": 57,
   "id": "8ab8b4af",
   "metadata": {},
   "outputs": [],
   "source": [
    "# counting no of counts for eachg word in total_reviews_1d\n",
    "for word in total_reviews_1d:\n",
    "    fd[word] = fd[word] + 1"
   ]
  },
  {
   "cell_type": "code",
   "execution_count": 58,
   "id": "84be82d4",
   "metadata": {},
   "outputs": [
    {
     "data": {
      "text/plain": [
       "[('place', 958892),\n",
       " ('I', 906624),\n",
       " ('good', 870711),\n",
       " ('food', 800115),\n",
       " ('The', 667679),\n",
       " ('chicken', 313719),\n",
       " ('service', 273865),\n",
       " ('ordered', 261388),\n",
       " ('taste', 245081),\n",
       " ('great', 235933),\n",
       " ('really', 234390),\n",
       " ('try', 218724),\n",
       " ('ambience', 217874),\n",
       " ('time', 217257),\n",
       " ('one', 213594),\n",
       " ('It', 206382),\n",
       " ('also', 202443),\n",
       " ('like', 197463),\n",
       " ('We', 184449),\n",
       " ('visit', 183865)]"
      ]
     },
     "execution_count": 58,
     "metadata": {},
     "output_type": "execute_result"
    }
   ],
   "source": [
    "# top 20 most common words in our review \n",
    "fd.most_common(20)"
   ]
  },
  {
   "cell_type": "code",
   "execution_count": 59,
   "id": "4a34fccf",
   "metadata": {
    "scrolled": true
   },
   "outputs": [
    {
     "data": {
      "image/png": "[encoded data removed]",
      "text/plain": [
       "<Figure size 640x480 with 1 Axes>"
      ]
     },
     "metadata": {},
     "output_type": "display_data"
    },
    {
     "data": {
      "text/plain": [
       "<AxesSubplot:xlabel='Samples', ylabel='Counts'>"
      ]
     },
     "execution_count": 59,
     "metadata": {},
     "output_type": "execute_result"
    }
   ],
   "source": [
    "# plotting those top 20 words and their count in review column by the user.\n",
    "fd.plot(20)"
   ]
  },
  {
   "cell_type": "code",
   "execution_count": 60,
   "id": "05d23639",
   "metadata": {},
   "outputs": [],
   "source": [
    "# in dishes chicken word is mostly used which shows that user has a preference of chicken dishes."
   ]
  },
  {
   "cell_type": "code",
   "execution_count": 61,
   "id": "11faa879",
   "metadata": {},
   "outputs": [],
   "source": [
    "# bigram and trigram analysis.\n",
    "# bigram --> collection of two words\n",
    "# trigram --> collection of three words"
   ]
  },
  {
   "cell_type": "code",
   "execution_count": 62,
   "id": "e0a4bd41",
   "metadata": {},
   "outputs": [],
   "source": [
    "# Performing Bigram and trigram Analysis\n",
    "from nltk import FreqDist, bigrams, trigrams"
   ]
  },
  {
   "cell_type": "code",
   "execution_count": 63,
   "id": "75c3295f",
   "metadata": {},
   "outputs": [],
   "source": [
    "# generating combinations of two words \n",
    "bi_gram = bigrams(total_reviews_1d)"
   ]
  },
  {
   "cell_type": "code",
   "execution_count": 64,
   "id": "9ce6c215",
   "metadata": {},
   "outputs": [],
   "source": [
    "# counting frequency of combination of two words from review column \n",
    "fd_bigram = FreqDist()\n",
    "\n",
    "for bigram in bi_gram:\n",
    "    fd_bigram[bigram] = fd_bigram[bigram] + 1"
   ]
  },
  {
   "cell_type": "code",
   "execution_count": 65,
   "id": "06958538",
   "metadata": {},
   "outputs": [
    {
     "data": {
      "text/plain": [
       "[(('The', 'food'), 70551),\n",
       " (('really', 'good'), 64671),\n",
       " (('I', 'ordered'), 60088),\n",
       " (('This', 'place'), 54963),\n",
       " (('must', 'try'), 53865),\n",
       " (('We', 'ordered'), 52692),\n",
       " (('I', 'would'), 47294),\n",
       " (('visit', 'place'), 45409),\n",
       " (('The', 'place'), 43758),\n",
       " (('food', 'good'), 42791),\n",
       " (('good', 'food'), 42433),\n",
       " (('f', 'f'), 37330),\n",
       " (('good', 'place'), 36570),\n",
       " (('main', 'course'), 34713),\n",
       " (('The', 'ambience'), 33846),\n",
       " (('ice', 'cream'), 33429),\n",
       " (('also', 'good'), 32487),\n",
       " (('non', 'veg'), 32321),\n",
       " (('The', 'service'), 28278),\n",
       " (('I', 'tried'), 27983)]"
      ]
     },
     "execution_count": 65,
     "metadata": {},
     "output_type": "execute_result"
    }
   ],
   "source": [
    "#  Most common words in Bigram analysis\n",
    "fd_bigram.most_common(20)"
   ]
  },
  {
   "cell_type": "code",
   "execution_count": 66,
   "id": "0bf555c4",
   "metadata": {},
   "outputs": [
    {
     "data": {
      "image/png": "[encoded data removed]",
      "text/plain": [
       "<Figure size 640x480 with 1 Axes>"
      ]
     },
     "metadata": {},
     "output_type": "display_data"
    },
    {
     "data": {
      "text/plain": [
       "<AxesSubplot:xlabel='Samples', ylabel='Counts'>"
      ]
     },
     "execution_count": 66,
     "metadata": {},
     "output_type": "execute_result"
    }
   ],
   "source": [
    "# plotting bigram analysis words and their counts. \n",
    "fd_bigram.plot(20)"
   ]
  },
  {
   "cell_type": "code",
   "execution_count": 67,
   "id": "e5a1c8e0",
   "metadata": {},
   "outputs": [],
   "source": [
    "tri_gram = trigrams(total_reviews_1d)"
   ]
  },
  {
   "cell_type": "code",
   "execution_count": 68,
   "id": "e654b457",
   "metadata": {},
   "outputs": [],
   "source": [
    "fd_trigram = FreqDist()\n",
    "\n",
    "for trigram in tri_gram:\n",
    "    fd_trigram[trigram] = fd_trigram[trigram] + 1"
   ]
  },
  {
   "cell_type": "code",
   "execution_count": 69,
   "id": "595f4582",
   "metadata": {},
   "outputs": [
    {
     "data": {
      "text/plain": [
       "[(('f', 'f', 'f'), 19127),\n",
       " (('veg', 'non', 'veg'), 9254),\n",
       " (('The', 'food', 'good'), 9236),\n",
       " (('must', 'visit', 'place'), 9137),\n",
       " (('place', 'hangout', 'friends'), 8869),\n",
       " (('f', 'c', 'f'), 8001),\n",
       " (('xa', 'xa', 'xa'), 7959),\n",
       " (('I', 'must', 'say'), 7657),\n",
       " (('I', 'visited', 'place'), 7594),\n",
       " (('I', 'would', 'recommend'), 6478),\n",
       " (('nFood', 'nAmbience', 'nService'), 6236),\n",
       " (('I', 'would', 'say'), 5719),\n",
       " (('food', 'really', 'good'), 5624),\n",
       " (('A', 'good', 'place'), 5454),\n",
       " (('A', 'must', 'visit'), 5385),\n",
       " (('place', 'hang', 'friends'), 5366),\n",
       " (('c', 'f', 'f'), 4784),\n",
       " (('The', 'ambience', 'good'), 4665),\n",
       " (('North', 'Indian', 'food'), 4597),\n",
       " (('nFood', 'nService', 'nAmbience'), 4521)]"
      ]
     },
     "execution_count": 69,
     "metadata": {},
     "output_type": "execute_result"
    }
   ],
   "source": [
    "# top 20 combinations of 3 words most common by trigram analysis\n",
    "fd_trigram.most_common(20)"
   ]
  },
  {
   "cell_type": "code",
   "execution_count": 70,
   "id": "b5d99c8d",
   "metadata": {
    "scrolled": true
   },
   "outputs": [
    {
     "data": {
      "image/png": "[encoded data removed]",
      "text/plain": [
       "<Figure size 640x480 with 1 Axes>"
      ]
     },
     "metadata": {},
     "output_type": "display_data"
    },
    {
     "data": {
      "text/plain": [
       "<AxesSubplot:xlabel='Samples', ylabel='Counts'>"
      ]
     },
     "execution_count": 70,
     "metadata": {},
     "output_type": "execute_result"
    }
   ],
   "source": [
    "fd_trigram.plot(20)"
   ]
  },
  {
   "cell_type": "code",
   "execution_count": 71,
   "id": "caec3bfb",
   "metadata": {},
   "outputs": [],
   "source": [
    "# north india food and paneer butter masala and chicken fried rice are some common words which are most frequent \n",
    "#in review which shows that bengaluru \n",
    "# people are mostly trying north indian food and paneer masala and chicken fried rice as compare to other in bangalore"
   ]
  },
  {
   "cell_type": "code",
   "execution_count": 72,
   "id": "5a95c266",
   "metadata": {},
   "outputs": [],
   "source": [
    "# now we want to know that which places restaurants are selling north indian cuisines."
   ]
  },
  {
   "cell_type": "code",
   "execution_count": 73,
   "id": "91135f26",
   "metadata": {},
   "outputs": [],
   "source": [
    "# extract geographical coordinates from data"
   ]
  },
  {
   "cell_type": "code",
   "execution_count": 74,
   "id": "d4d0ddb4",
   "metadata": {},
   "outputs": [
    {
     "data": {
      "text/html": [
       "<div>\n",
       "<style scoped>\n",
       "    .dataframe tbody tr th:only-of-type {\n",
       "        vertical-align: middle;\n",
       "    }\n",
       "\n",
       "    .dataframe tbody tr th {\n",
       "        vertical-align: top;\n",
       "    }\n",
       "\n",
       "    .dataframe thead th {\n",
       "        text-align: right;\n",
       "    }\n",
       "</style>\n",
       "<table border=\"1\" class=\"dataframe\">\n",
       "  <thead>\n",
       "    <tr style=\"text-align: right;\">\n",
       "      <th></th>\n",
       "      <th>index</th>\n",
       "      <th>url</th>\n",
       "      <th>address</th>\n",
       "      <th>name</th>\n",
       "      <th>online_order</th>\n",
       "      <th>book_table</th>\n",
       "      <th>rate</th>\n",
       "      <th>votes</th>\n",
       "      <th>phone</th>\n",
       "      <th>location</th>\n",
       "      <th>rest_type</th>\n",
       "      <th>dish_liked</th>\n",
       "      <th>cuisines</th>\n",
       "      <th>approx_cost(for two people)</th>\n",
       "      <th>reviews_list</th>\n",
       "      <th>menu_item</th>\n",
       "      <th>listed_in(type)</th>\n",
       "      <th>listed_in(city)</th>\n",
       "    </tr>\n",
       "  </thead>\n",
       "  <tbody>\n",
       "    <tr>\n",
       "      <th>0</th>\n",
       "      <td>0</td>\n",
       "      <td>https://www.zomato.com/bangalore/jalsa-banasha...</td>\n",
       "      <td>942, 21st Main Road, 2nd Stage, Banashankari, ...</td>\n",
       "      <td>Jalsa</td>\n",
       "      <td>Yes</td>\n",
       "      <td>Yes</td>\n",
       "      <td>4.1</td>\n",
       "      <td>775</td>\n",
       "      <td>080 42297555\\r\\n+91 9743772233</td>\n",
       "      <td>Banashankari</td>\n",
       "      <td>Casual Dining</td>\n",
       "      <td>Pasta, Lunch Buffet, Masala Papad, Paneer Laja...</td>\n",
       "      <td>North Indian, Mughlai, Chinese</td>\n",
       "      <td>800</td>\n",
       "      <td>[('Rated 4.0', 'RATED\\n  A beautiful place to ...</td>\n",
       "      <td>[]</td>\n",
       "      <td>Buffet</td>\n",
       "      <td>Banashankari</td>\n",
       "    </tr>\n",
       "    <tr>\n",
       "      <th>1</th>\n",
       "      <td>1</td>\n",
       "      <td>https://www.zomato.com/bangalore/spice-elephan...</td>\n",
       "      <td>2nd Floor, 80 Feet Road, Near Big Bazaar, 6th ...</td>\n",
       "      <td>Spice Elephant</td>\n",
       "      <td>Yes</td>\n",
       "      <td>No</td>\n",
       "      <td>4.1</td>\n",
       "      <td>787</td>\n",
       "      <td>080 41714161</td>\n",
       "      <td>Banashankari</td>\n",
       "      <td>Casual Dining</td>\n",
       "      <td>Momos, Lunch Buffet, Chocolate Nirvana, Thai G...</td>\n",
       "      <td>Chinese, North Indian, Thai</td>\n",
       "      <td>800</td>\n",
       "      <td>[('Rated 4.0', 'RATED\\n  Had been here for din...</td>\n",
       "      <td>[]</td>\n",
       "      <td>Buffet</td>\n",
       "      <td>Banashankari</td>\n",
       "    </tr>\n",
       "    <tr>\n",
       "      <th>2</th>\n",
       "      <td>2</td>\n",
       "      <td>https://www.zomato.com/SanchurroBangalore?cont...</td>\n",
       "      <td>1112, Next to KIMS Medical College, 17th Cross...</td>\n",
       "      <td>San Churro Cafe</td>\n",
       "      <td>Yes</td>\n",
       "      <td>No</td>\n",
       "      <td>3.8</td>\n",
       "      <td>918</td>\n",
       "      <td>+91 9663487993</td>\n",
       "      <td>Banashankari</td>\n",
       "      <td>Cafe, Casual Dining</td>\n",
       "      <td>Churros, Cannelloni, Minestrone Soup, Hot Choc...</td>\n",
       "      <td>Cafe, Mexican, Italian</td>\n",
       "      <td>800</td>\n",
       "      <td>[('Rated 3.0', \"RATED\\n  Ambience is not that ...</td>\n",
       "      <td>[]</td>\n",
       "      <td>Buffet</td>\n",
       "      <td>Banashankari</td>\n",
       "    </tr>\n",
       "  </tbody>\n",
       "</table>\n",
       "</div>"
      ],
      "text/plain": [
       "   index                                                url  \\\n",
       "0      0  https://www.zomato.com/bangalore/jalsa-banasha...   \n",
       "1      1  https://www.zomato.com/bangalore/spice-elephan...   \n",
       "2      2  https://www.zomato.com/SanchurroBangalore?cont...   \n",
       "\n",
       "                                             address             name  \\\n",
       "0  942, 21st Main Road, 2nd Stage, Banashankari, ...            Jalsa   \n",
       "1  2nd Floor, 80 Feet Road, Near Big Bazaar, 6th ...   Spice Elephant   \n",
       "2  1112, Next to KIMS Medical College, 17th Cross...  San Churro Cafe   \n",
       "\n",
       "  online_order book_table  rate  votes                           phone  \\\n",
       "0          Yes        Yes   4.1    775  080 42297555\\r\\n+91 9743772233   \n",
       "1          Yes         No   4.1    787                    080 41714161   \n",
       "2          Yes         No   3.8    918                  +91 9663487993   \n",
       "\n",
       "       location            rest_type  \\\n",
       "0  Banashankari        Casual Dining   \n",
       "1  Banashankari        Casual Dining   \n",
       "2  Banashankari  Cafe, Casual Dining   \n",
       "\n",
       "                                          dish_liked  \\\n",
       "0  Pasta, Lunch Buffet, Masala Papad, Paneer Laja...   \n",
       "1  Momos, Lunch Buffet, Chocolate Nirvana, Thai G...   \n",
       "2  Churros, Cannelloni, Minestrone Soup, Hot Choc...   \n",
       "\n",
       "                         cuisines approx_cost(for two people)  \\\n",
       "0  North Indian, Mughlai, Chinese                         800   \n",
       "1     Chinese, North Indian, Thai                         800   \n",
       "2          Cafe, Mexican, Italian                         800   \n",
       "\n",
       "                                        reviews_list menu_item  \\\n",
       "0  [('Rated 4.0', 'RATED\\n  A beautiful place to ...        []   \n",
       "1  [('Rated 4.0', 'RATED\\n  Had been here for din...        []   \n",
       "2  [('Rated 3.0', \"RATED\\n  Ambience is not that ...        []   \n",
       "\n",
       "  listed_in(type) listed_in(city)  \n",
       "0          Buffet    Banashankari  \n",
       "1          Buffet    Banashankari  \n",
       "2          Buffet    Banashankari  "
      ]
     },
     "execution_count": 74,
     "metadata": {},
     "output_type": "execute_result"
    }
   ],
   "source": [
    "df.head(3)\n"
   ]
  },
  {
   "cell_type": "code",
   "execution_count": 75,
   "id": "f614bdea",
   "metadata": {},
   "outputs": [
    {
     "name": "stdout",
     "output_type": "stream",
     "text": [
      "Requirement already satisfied: geocoder in c:\\users\\abhishek\\anaconda3\\lib\\site-packages (1.38.1)\n",
      "Requirement already satisfied: six in c:\\users\\abhishek\\anaconda3\\lib\\site-packages (from geocoder) (1.16.0)\n",
      "Requirement already satisfied: future in c:\\users\\abhishek\\anaconda3\\lib\\site-packages (from geocoder) (0.18.2)\n",
      "Requirement already satisfied: requests in c:\\users\\abhishek\\anaconda3\\lib\\site-packages (from geocoder) (2.28.1)\n",
      "Requirement already satisfied: click in c:\\users\\abhishek\\anaconda3\\lib\\site-packages (from geocoder) (8.0.4)\n",
      "Requirement already satisfied: ratelim in c:\\users\\abhishek\\anaconda3\\lib\\site-packages (from geocoder) (0.1.6)\n",
      "Requirement already satisfied: colorama in c:\\users\\abhishek\\anaconda3\\lib\\site-packages (from click->geocoder) (0.4.5)\n",
      "Requirement already satisfied: decorator in c:\\users\\abhishek\\anaconda3\\lib\\site-packages (from ratelim->geocoder) (5.1.1)\n",
      "Requirement already satisfied: idna<4,>=2.5 in c:\\users\\abhishek\\anaconda3\\lib\\site-packages (from requests->geocoder) (3.3)\n",
      "Requirement already satisfied: charset-normalizer<3,>=2 in c:\\users\\abhishek\\anaconda3\\lib\\site-packages (from requests->geocoder) (2.0.4)\n",
      "Requirement already satisfied: urllib3<1.27,>=1.21.1 in c:\\users\\abhishek\\anaconda3\\lib\\site-packages (from requests->geocoder) (1.26.11)\n",
      "Requirement already satisfied: certifi>=2017.4.17 in c:\\users\\abhishek\\anaconda3\\lib\\site-packages (from requests->geocoder) (2022.9.14)\n",
      "Requirement already satisfied: geopy in c:\\users\\abhishek\\anaconda3\\lib\\site-packages (2.3.0)\n",
      "Requirement already satisfied: geographiclib<3,>=1.52 in c:\\users\\abhishek\\anaconda3\\lib\\site-packages (from geopy) (2.0)\n"
     ]
    }
   ],
   "source": [
    "!pip install geocoder\n",
    "! pip install geopy"
   ]
  },
  {
   "cell_type": "code",
   "execution_count": 76,
   "id": "469cdff1",
   "metadata": {},
   "outputs": [
    {
     "data": {
      "text/plain": [
       "array(['Banashankari', 'Basavanagudi', 'Mysore Road', 'Jayanagar',\n",
       "       'Kumaraswamy Layout', 'Rajarajeshwari Nagar', 'Vijay Nagar',\n",
       "       'Uttarahalli', 'JP Nagar', 'South Bangalore', 'City Market',\n",
       "       'Nagarbhavi', 'Bannerghatta Road', 'BTM', 'Kanakapura Road',\n",
       "       'Bommanahalli', None, 'CV Raman Nagar', 'Electronic City', 'HSR',\n",
       "       'Marathahalli', 'Sarjapur Road', 'Wilson Garden', 'Shanti Nagar',\n",
       "       'Koramangala 5th Block', 'Koramangala 8th Block', 'Richmond Road',\n",
       "       'Koramangala 7th Block', 'Jalahalli', 'Koramangala 4th Block',\n",
       "       'Bellandur', 'Whitefield', 'East Bangalore', 'Old Airport Road',\n",
       "       'Indiranagar', 'Koramangala 1st Block', 'Frazer Town', 'RT Nagar',\n",
       "       'MG Road', 'Brigade Road', 'Lavelle Road', 'Church Street',\n",
       "       'Ulsoor', 'Residency Road', 'Shivajinagar', 'Infantry Road',\n",
       "       'St. Marks Road', 'Cunningham Road', 'Race Course Road',\n",
       "       'Commercial Street', 'Vasanth Nagar', 'HBR Layout', 'Domlur',\n",
       "       'Ejipura', 'Jeevan Bhima Nagar', 'Old Madras Road', 'Malleshwaram',\n",
       "       'Seshadripuram', 'Kammanahalli', 'Koramangala 6th Block',\n",
       "       'Majestic', 'Langford Town', 'Central Bangalore', 'Sanjay Nagar',\n",
       "       'Brookefield', 'ITPL Main Road, Whitefield',\n",
       "       'Varthur Main Road, Whitefield', 'KR Puram',\n",
       "       'Koramangala 2nd Block', 'Koramangala 3rd Block', 'Koramangala',\n",
       "       'Hosur Road', 'Rajajinagar', 'Banaswadi', 'North Bangalore',\n",
       "       'Nagawara', 'Hennur', 'Kalyan Nagar', 'New BEL Road', 'Jakkur',\n",
       "       'Rammurthy Nagar', 'Thippasandra', 'Kaggadasapura', 'Hebbal',\n",
       "       'Kengeri', 'Sankey Road', 'Sadashiv Nagar', 'Basaveshwara Nagar',\n",
       "       'Yeshwantpur', 'West Bangalore', 'Magadi Road', 'Yelahanka',\n",
       "       'Sahakara Nagar', 'Peenya'], dtype=object)"
      ]
     },
     "execution_count": 76,
     "metadata": {},
     "output_type": "execute_result"
    }
   ],
   "source": [
    "# getting unique values from location column\n",
    "df['location'].unique()"
   ]
  },
  {
   "cell_type": "code",
   "execution_count": 77,
   "id": "7c6a64d2",
   "metadata": {},
   "outputs": [
    {
     "data": {
      "text/plain": [
       "94"
      ]
     },
     "execution_count": 77,
     "metadata": {},
     "output_type": "execute_result"
    }
   ],
   "source": [
    "len(df['location'].unique())"
   ]
  },
  {
   "cell_type": "code",
   "execution_count": 78,
   "id": "a60e7682",
   "metadata": {},
   "outputs": [],
   "source": [
    "# adding bangalore karnataka india to get exact location on map. (latitiude and longitude)\n",
    "df['location'] = df['location'] + ', Bangalore, Karnataka, India'"
   ]
  },
  {
   "cell_type": "code",
   "execution_count": 79,
   "id": "e56e4457",
   "metadata": {},
   "outputs": [
    {
     "data": {
      "text/plain": [
       "'Banashankari, Bangalore, Karnataka, India'"
      ]
     },
     "execution_count": 79,
     "metadata": {},
     "output_type": "execute_result"
    }
   ],
   "source": [
    "df['location'][0]"
   ]
  },
  {
   "cell_type": "code",
   "execution_count": 80,
   "id": "d473f234",
   "metadata": {},
   "outputs": [],
   "source": [
    "# making a copy of df file so that changes will not effect original dataset.\n",
    "df_copy = df.copy()"
   ]
  },
  {
   "cell_type": "code",
   "execution_count": 81,
   "id": "f16acb16",
   "metadata": {},
   "outputs": [
    {
     "data": {
      "text/plain": [
       "21"
      ]
     },
     "execution_count": 81,
     "metadata": {},
     "output_type": "execute_result"
    }
   ],
   "source": [
    "# getting null values \n",
    "df_copy['location'].isnull().sum()"
   ]
  },
  {
   "cell_type": "code",
   "execution_count": 82,
   "id": "5ec659b3",
   "metadata": {},
   "outputs": [],
   "source": [
    "# dropping all those null values \n",
    "df_copy = df_copy.dropna(subset = ['location'])"
   ]
  },
  {
   "cell_type": "code",
   "execution_count": 83,
   "id": "52b2093a",
   "metadata": {},
   "outputs": [
    {
     "data": {
      "text/plain": [
       "0"
      ]
     },
     "execution_count": 83,
     "metadata": {},
     "output_type": "execute_result"
    }
   ],
   "source": [
    "# checking again the null values \n",
    "df_copy['location'].isnull().sum()"
   ]
  },
  {
   "cell_type": "code",
   "execution_count": 84,
   "id": "baacc807",
   "metadata": {},
   "outputs": [],
   "source": [
    "# storing all the locations in location datframe\n",
    "locations = pd.DataFrame(df_copy['location'].unique())"
   ]
  },
  {
   "cell_type": "code",
   "execution_count": 85,
   "id": "4f349a2f",
   "metadata": {},
   "outputs": [
    {
     "data": {
      "text/html": [
       "<div>\n",
       "<style scoped>\n",
       "    .dataframe tbody tr th:only-of-type {\n",
       "        vertical-align: middle;\n",
       "    }\n",
       "\n",
       "    .dataframe tbody tr th {\n",
       "        vertical-align: top;\n",
       "    }\n",
       "\n",
       "    .dataframe thead th {\n",
       "        text-align: right;\n",
       "    }\n",
       "</style>\n",
       "<table border=\"1\" class=\"dataframe\">\n",
       "  <thead>\n",
       "    <tr style=\"text-align: right;\">\n",
       "      <th></th>\n",
       "      <th>0</th>\n",
       "    </tr>\n",
       "  </thead>\n",
       "  <tbody>\n",
       "    <tr>\n",
       "      <th>0</th>\n",
       "      <td>Banashankari, Bangalore, Karnataka, India</td>\n",
       "    </tr>\n",
       "    <tr>\n",
       "      <th>1</th>\n",
       "      <td>Basavanagudi, Bangalore, Karnataka, India</td>\n",
       "    </tr>\n",
       "    <tr>\n",
       "      <th>2</th>\n",
       "      <td>Mysore Road, Bangalore, Karnataka, India</td>\n",
       "    </tr>\n",
       "    <tr>\n",
       "      <th>3</th>\n",
       "      <td>Jayanagar, Bangalore, Karnataka, India</td>\n",
       "    </tr>\n",
       "    <tr>\n",
       "      <th>4</th>\n",
       "      <td>Kumaraswamy Layout, Bangalore, Karnataka, India</td>\n",
       "    </tr>\n",
       "    <tr>\n",
       "      <th>...</th>\n",
       "      <td>...</td>\n",
       "    </tr>\n",
       "    <tr>\n",
       "      <th>88</th>\n",
       "      <td>West Bangalore, Bangalore, Karnataka, India</td>\n",
       "    </tr>\n",
       "    <tr>\n",
       "      <th>89</th>\n",
       "      <td>Magadi Road, Bangalore, Karnataka, India</td>\n",
       "    </tr>\n",
       "    <tr>\n",
       "      <th>90</th>\n",
       "      <td>Yelahanka, Bangalore, Karnataka, India</td>\n",
       "    </tr>\n",
       "    <tr>\n",
       "      <th>91</th>\n",
       "      <td>Sahakara Nagar, Bangalore, Karnataka, India</td>\n",
       "    </tr>\n",
       "    <tr>\n",
       "      <th>92</th>\n",
       "      <td>Peenya, Bangalore, Karnataka, India</td>\n",
       "    </tr>\n",
       "  </tbody>\n",
       "</table>\n",
       "<p>93 rows × 1 columns</p>\n",
       "</div>"
      ],
      "text/plain": [
       "                                                  0\n",
       "0         Banashankari, Bangalore, Karnataka, India\n",
       "1         Basavanagudi, Bangalore, Karnataka, India\n",
       "2          Mysore Road, Bangalore, Karnataka, India\n",
       "3            Jayanagar, Bangalore, Karnataka, India\n",
       "4   Kumaraswamy Layout, Bangalore, Karnataka, India\n",
       "..                                              ...\n",
       "88      West Bangalore, Bangalore, Karnataka, India\n",
       "89         Magadi Road, Bangalore, Karnataka, India\n",
       "90           Yelahanka, Bangalore, Karnataka, India\n",
       "91      Sahakara Nagar, Bangalore, Karnataka, India\n",
       "92              Peenya, Bangalore, Karnataka, India\n",
       "\n",
       "[93 rows x 1 columns]"
      ]
     },
     "execution_count": 85,
     "metadata": {},
     "output_type": "execute_result"
    }
   ],
   "source": [
    "locations"
   ]
  },
  {
   "cell_type": "code",
   "execution_count": 86,
   "id": "34c4597e",
   "metadata": {},
   "outputs": [],
   "source": [
    "# naming location column name as name \n",
    "locations.columns = ['name']"
   ]
  },
  {
   "cell_type": "code",
   "execution_count": 87,
   "id": "8c710280",
   "metadata": {},
   "outputs": [
    {
     "data": {
      "text/html": [
       "<div>\n",
       "<style scoped>\n",
       "    .dataframe tbody tr th:only-of-type {\n",
       "        vertical-align: middle;\n",
       "    }\n",
       "\n",
       "    .dataframe tbody tr th {\n",
       "        vertical-align: top;\n",
       "    }\n",
       "\n",
       "    .dataframe thead th {\n",
       "        text-align: right;\n",
       "    }\n",
       "</style>\n",
       "<table border=\"1\" class=\"dataframe\">\n",
       "  <thead>\n",
       "    <tr style=\"text-align: right;\">\n",
       "      <th></th>\n",
       "      <th>name</th>\n",
       "    </tr>\n",
       "  </thead>\n",
       "  <tbody>\n",
       "    <tr>\n",
       "      <th>0</th>\n",
       "      <td>Banashankari, Bangalore, Karnataka, India</td>\n",
       "    </tr>\n",
       "    <tr>\n",
       "      <th>1</th>\n",
       "      <td>Basavanagudi, Bangalore, Karnataka, India</td>\n",
       "    </tr>\n",
       "    <tr>\n",
       "      <th>2</th>\n",
       "      <td>Mysore Road, Bangalore, Karnataka, India</td>\n",
       "    </tr>\n",
       "    <tr>\n",
       "      <th>3</th>\n",
       "      <td>Jayanagar, Bangalore, Karnataka, India</td>\n",
       "    </tr>\n",
       "    <tr>\n",
       "      <th>4</th>\n",
       "      <td>Kumaraswamy Layout, Bangalore, Karnataka, India</td>\n",
       "    </tr>\n",
       "    <tr>\n",
       "      <th>...</th>\n",
       "      <td>...</td>\n",
       "    </tr>\n",
       "    <tr>\n",
       "      <th>88</th>\n",
       "      <td>West Bangalore, Bangalore, Karnataka, India</td>\n",
       "    </tr>\n",
       "    <tr>\n",
       "      <th>89</th>\n",
       "      <td>Magadi Road, Bangalore, Karnataka, India</td>\n",
       "    </tr>\n",
       "    <tr>\n",
       "      <th>90</th>\n",
       "      <td>Yelahanka, Bangalore, Karnataka, India</td>\n",
       "    </tr>\n",
       "    <tr>\n",
       "      <th>91</th>\n",
       "      <td>Sahakara Nagar, Bangalore, Karnataka, India</td>\n",
       "    </tr>\n",
       "    <tr>\n",
       "      <th>92</th>\n",
       "      <td>Peenya, Bangalore, Karnataka, India</td>\n",
       "    </tr>\n",
       "  </tbody>\n",
       "</table>\n",
       "<p>93 rows × 1 columns</p>\n",
       "</div>"
      ],
      "text/plain": [
       "                                               name\n",
       "0         Banashankari, Bangalore, Karnataka, India\n",
       "1         Basavanagudi, Bangalore, Karnataka, India\n",
       "2          Mysore Road, Bangalore, Karnataka, India\n",
       "3            Jayanagar, Bangalore, Karnataka, India\n",
       "4   Kumaraswamy Layout, Bangalore, Karnataka, India\n",
       "..                                              ...\n",
       "88      West Bangalore, Bangalore, Karnataka, India\n",
       "89         Magadi Road, Bangalore, Karnataka, India\n",
       "90           Yelahanka, Bangalore, Karnataka, India\n",
       "91      Sahakara Nagar, Bangalore, Karnataka, India\n",
       "92              Peenya, Bangalore, Karnataka, India\n",
       "\n",
       "[93 rows x 1 columns]"
      ]
     },
     "execution_count": 87,
     "metadata": {},
     "output_type": "execute_result"
    }
   ],
   "source": [
    "locations"
   ]
  },
  {
   "cell_type": "code",
   "execution_count": 88,
   "id": "b83176cf",
   "metadata": {},
   "outputs": [],
   "source": [
    "# extracting geographical coordinates from location \n",
    "# Nominatim is a open stream map api that will return latitude and longitude\n",
    "from geopy.geocoders import Nominatim"
   ]
  },
  {
   "cell_type": "code",
   "execution_count": 89,
   "id": "fdf66eb6",
   "metadata": {},
   "outputs": [],
   "source": [
    "# initialising and making connection \n",
    "geolocator = Nominatim(user_agent = 'app', timeout = None)"
   ]
  },
  {
   "cell_type": "code",
   "execution_count": 90,
   "id": "b82a1f64",
   "metadata": {},
   "outputs": [],
   "source": [
    "# storing latitude and longitude values of locations in two list\n",
    "long = []\n",
    "lat = []\n",
    "\n",
    "\n",
    "for location in locations['name']:\n",
    "    location = geolocator.geocode(location)\n",
    "    \n",
    "    if location is None:\n",
    "        lat.append(np.nan)\n",
    "        long.append(np.nan)\n",
    "    else:\n",
    "        lat.append(location.latitude)\n",
    "        long.append(location.longitude)\n",
    "        "
   ]
  },
  {
   "cell_type": "code",
   "execution_count": 91,
   "id": "b1c0c607",
   "metadata": {},
   "outputs": [],
   "source": [
    "# creating columns for latitude and longitude in locations datframe\n",
    "locations['latitude'] = lat\n",
    "locations['longitude'] = long"
   ]
  },
  {
   "cell_type": "code",
   "execution_count": 92,
   "id": "2cf3712b",
   "metadata": {},
   "outputs": [
    {
     "data": {
      "text/html": [
       "<div>\n",
       "<style scoped>\n",
       "    .dataframe tbody tr th:only-of-type {\n",
       "        vertical-align: middle;\n",
       "    }\n",
       "\n",
       "    .dataframe tbody tr th {\n",
       "        vertical-align: top;\n",
       "    }\n",
       "\n",
       "    .dataframe thead th {\n",
       "        text-align: right;\n",
       "    }\n",
       "</style>\n",
       "<table border=\"1\" class=\"dataframe\">\n",
       "  <thead>\n",
       "    <tr style=\"text-align: right;\">\n",
       "      <th></th>\n",
       "      <th>name</th>\n",
       "      <th>latitude</th>\n",
       "      <th>longitude</th>\n",
       "    </tr>\n",
       "  </thead>\n",
       "  <tbody>\n",
       "    <tr>\n",
       "      <th>0</th>\n",
       "      <td>Banashankari, Bangalore, Karnataka, India</td>\n",
       "      <td>12.915221</td>\n",
       "      <td>77.573598</td>\n",
       "    </tr>\n",
       "    <tr>\n",
       "      <th>1</th>\n",
       "      <td>Basavanagudi, Bangalore, Karnataka, India</td>\n",
       "      <td>12.941726</td>\n",
       "      <td>77.575502</td>\n",
       "    </tr>\n",
       "    <tr>\n",
       "      <th>2</th>\n",
       "      <td>Mysore Road, Bangalore, Karnataka, India</td>\n",
       "      <td>12.946662</td>\n",
       "      <td>77.530090</td>\n",
       "    </tr>\n",
       "    <tr>\n",
       "      <th>3</th>\n",
       "      <td>Jayanagar, Bangalore, Karnataka, India</td>\n",
       "      <td>12.929273</td>\n",
       "      <td>77.582423</td>\n",
       "    </tr>\n",
       "    <tr>\n",
       "      <th>4</th>\n",
       "      <td>Kumaraswamy Layout, Bangalore, Karnataka, India</td>\n",
       "      <td>12.908149</td>\n",
       "      <td>77.555318</td>\n",
       "    </tr>\n",
       "    <tr>\n",
       "      <th>...</th>\n",
       "      <td>...</td>\n",
       "      <td>...</td>\n",
       "      <td>...</td>\n",
       "    </tr>\n",
       "    <tr>\n",
       "      <th>88</th>\n",
       "      <td>West Bangalore, Bangalore, Karnataka, India</td>\n",
       "      <td>13.022235</td>\n",
       "      <td>77.567183</td>\n",
       "    </tr>\n",
       "    <tr>\n",
       "      <th>89</th>\n",
       "      <td>Magadi Road, Bangalore, Karnataka, India</td>\n",
       "      <td>12.975608</td>\n",
       "      <td>77.555356</td>\n",
       "    </tr>\n",
       "    <tr>\n",
       "      <th>90</th>\n",
       "      <td>Yelahanka, Bangalore, Karnataka, India</td>\n",
       "      <td>13.100698</td>\n",
       "      <td>77.596345</td>\n",
       "    </tr>\n",
       "    <tr>\n",
       "      <th>91</th>\n",
       "      <td>Sahakara Nagar, Bangalore, Karnataka, India</td>\n",
       "      <td>13.062147</td>\n",
       "      <td>77.580061</td>\n",
       "    </tr>\n",
       "    <tr>\n",
       "      <th>92</th>\n",
       "      <td>Peenya, Bangalore, Karnataka, India</td>\n",
       "      <td>13.032942</td>\n",
       "      <td>77.527325</td>\n",
       "    </tr>\n",
       "  </tbody>\n",
       "</table>\n",
       "<p>93 rows × 3 columns</p>\n",
       "</div>"
      ],
      "text/plain": [
       "                                               name   latitude  longitude\n",
       "0         Banashankari, Bangalore, Karnataka, India  12.915221  77.573598\n",
       "1         Basavanagudi, Bangalore, Karnataka, India  12.941726  77.575502\n",
       "2          Mysore Road, Bangalore, Karnataka, India  12.946662  77.530090\n",
       "3            Jayanagar, Bangalore, Karnataka, India  12.929273  77.582423\n",
       "4   Kumaraswamy Layout, Bangalore, Karnataka, India  12.908149  77.555318\n",
       "..                                              ...        ...        ...\n",
       "88      West Bangalore, Bangalore, Karnataka, India  13.022235  77.567183\n",
       "89         Magadi Road, Bangalore, Karnataka, India  12.975608  77.555356\n",
       "90           Yelahanka, Bangalore, Karnataka, India  13.100698  77.596345\n",
       "91      Sahakara Nagar, Bangalore, Karnataka, India  13.062147  77.580061\n",
       "92              Peenya, Bangalore, Karnataka, India  13.032942  77.527325\n",
       "\n",
       "[93 rows x 3 columns]"
      ]
     },
     "execution_count": 92,
     "metadata": {},
     "output_type": "execute_result"
    }
   ],
   "source": [
    "locations"
   ]
  },
  {
   "cell_type": "code",
   "execution_count": 94,
   "id": "23cd2460",
   "metadata": {},
   "outputs": [
    {
     "data": {
      "text/plain": [
       "name         0\n",
       "latitude     3\n",
       "longitude    3\n",
       "dtype: int64"
      ]
     },
     "execution_count": 94,
     "metadata": {},
     "output_type": "execute_result"
    }
   ],
   "source": [
    "# checking null values in locations dataset \n",
    "locations.isnull().sum()"
   ]
  },
  {
   "cell_type": "code",
   "execution_count": 95,
   "id": "09bd3c5f",
   "metadata": {
    "scrolled": false
   },
   "outputs": [
    {
     "data": {
      "text/html": [
       "<div>\n",
       "<style scoped>\n",
       "    .dataframe tbody tr th:only-of-type {\n",
       "        vertical-align: middle;\n",
       "    }\n",
       "\n",
       "    .dataframe tbody tr th {\n",
       "        vertical-align: top;\n",
       "    }\n",
       "\n",
       "    .dataframe thead th {\n",
       "        text-align: right;\n",
       "    }\n",
       "</style>\n",
       "<table border=\"1\" class=\"dataframe\">\n",
       "  <thead>\n",
       "    <tr style=\"text-align: right;\">\n",
       "      <th></th>\n",
       "      <th>name</th>\n",
       "      <th>latitude</th>\n",
       "      <th>longitude</th>\n",
       "    </tr>\n",
       "  </thead>\n",
       "  <tbody>\n",
       "    <tr>\n",
       "      <th>45</th>\n",
       "      <td>St. Marks Road, Bangalore, Karnataka, India</td>\n",
       "      <td>NaN</td>\n",
       "      <td>NaN</td>\n",
       "    </tr>\n",
       "    <tr>\n",
       "      <th>79</th>\n",
       "      <td>Rammurthy Nagar, Bangalore, Karnataka, India</td>\n",
       "      <td>NaN</td>\n",
       "      <td>NaN</td>\n",
       "    </tr>\n",
       "    <tr>\n",
       "      <th>85</th>\n",
       "      <td>Sadashiv Nagar, Bangalore, Karnataka, India</td>\n",
       "      <td>NaN</td>\n",
       "      <td>NaN</td>\n",
       "    </tr>\n",
       "  </tbody>\n",
       "</table>\n",
       "</div>"
      ],
      "text/plain": [
       "                                            name  latitude  longitude\n",
       "45   St. Marks Road, Bangalore, Karnataka, India       NaN        NaN\n",
       "79  Rammurthy Nagar, Bangalore, Karnataka, India       NaN        NaN\n",
       "85   Sadashiv Nagar, Bangalore, Karnataka, India       NaN        NaN"
      ]
     },
     "execution_count": 95,
     "metadata": {},
     "output_type": "execute_result"
    }
   ],
   "source": [
    "# getting locations where latitude is null \n",
    "\n",
    "locations[locations['latitude'].isna()]"
   ]
  },
  {
   "cell_type": "code",
   "execution_count": null,
   "id": "090c5102",
   "metadata": {},
   "outputs": [],
   "source": [
    "# for these three location nominatim cant find the geographical coordinates so we will fill these location coordinates \n",
    "# manully by using google."
   ]
  },
  {
   "cell_type": "code",
   "execution_count": 96,
   "id": "3d212cf6",
   "metadata": {},
   "outputs": [],
   "source": [
    "# Ignoring all warnings\n",
    "import warnings\n",
    "from warnings import filterwarnings\n",
    "filterwarnings('ignore')"
   ]
  },
  {
   "cell_type": "code",
   "execution_count": 97,
   "id": "1bacf337",
   "metadata": {},
   "outputs": [],
   "source": [
    "# providing latitude and longitude values for 3 locations\n",
    "locations['latitude'][45] = 12.9764122\n",
    "locations['longitude'][45] = 77.6017437"
   ]
  },
  {
   "cell_type": "code",
   "execution_count": 98,
   "id": "4a1f18fa",
   "metadata": {},
   "outputs": [],
   "source": [
    "locations['latitude'][79] = 13.0120218\n",
    "locations['longitude'][79] = 77.6777817"
   ]
  },
  {
   "cell_type": "code",
   "execution_count": 99,
   "id": "1f22f78e",
   "metadata": {},
   "outputs": [],
   "source": [
    "locations['latitude'][85] = 13.010316\n",
    "locations['longitude'][85] = 77.580569"
   ]
  },
  {
   "cell_type": "code",
   "execution_count": 100,
   "id": "fb626e10",
   "metadata": {},
   "outputs": [
    {
     "data": {
      "text/plain": [
       "name         0\n",
       "latitude     0\n",
       "longitude    0\n",
       "dtype: int64"
      ]
     },
     "execution_count": 100,
     "metadata": {},
     "output_type": "execute_result"
    }
   ],
   "source": [
    "# checking null values now.\n",
    "locations.isnull().sum()"
   ]
  },
  {
   "cell_type": "code",
   "execution_count": 103,
   "id": "d616c10a",
   "metadata": {},
   "outputs": [
    {
     "ename": "ValueError",
     "evalue": "Cannot mask with non-boolean array containing NA / NaN values",
     "output_type": "error",
     "traceback": [
      "\u001b[1;31m---------------------------------------------------------------------------\u001b[0m",
      "\u001b[1;31mValueError\u001b[0m                                Traceback (most recent call last)",
      "\u001b[1;32m~\\AppData\\Local\\Temp\\ipykernel_8352\\2420686958.py\u001b[0m in \u001b[0;36m<module>\u001b[1;34m\u001b[0m\n\u001b[0;32m      1\u001b[0m \u001b[1;31m# creating heatmap for north indian cuisines.\u001b[0m\u001b[1;33m\u001b[0m\u001b[1;33m\u001b[0m\u001b[0m\n\u001b[1;32m----> 2\u001b[1;33m \u001b[0mdf\u001b[0m\u001b[1;33m[\u001b[0m\u001b[0mdf\u001b[0m\u001b[1;33m[\u001b[0m\u001b[1;34m'cuisines'\u001b[0m\u001b[1;33m]\u001b[0m\u001b[1;33m.\u001b[0m\u001b[0mstr\u001b[0m\u001b[1;33m.\u001b[0m\u001b[0mcontains\u001b[0m\u001b[1;33m(\u001b[0m\u001b[1;34m'North Indian'\u001b[0m\u001b[1;33m)\u001b[0m\u001b[1;33m]\u001b[0m\u001b[1;33m\u001b[0m\u001b[1;33m\u001b[0m\u001b[0m\n\u001b[0m\u001b[0;32m      3\u001b[0m \u001b[1;31m# df['cuisines'].str.contains('North Indian')\u001b[0m\u001b[1;33m\u001b[0m\u001b[1;33m\u001b[0m\u001b[0m\n",
      "\u001b[1;32m~\\Anaconda3\\lib\\site-packages\\pandas\\core\\frame.py\u001b[0m in \u001b[0;36m__getitem__\u001b[1;34m(self, key)\u001b[0m\n\u001b[0;32m   3493\u001b[0m \u001b[1;33m\u001b[0m\u001b[0m\n\u001b[0;32m   3494\u001b[0m         \u001b[1;31m# Do we have a (boolean) 1d indexer?\u001b[0m\u001b[1;33m\u001b[0m\u001b[1;33m\u001b[0m\u001b[0m\n\u001b[1;32m-> 3495\u001b[1;33m         \u001b[1;32mif\u001b[0m \u001b[0mcom\u001b[0m\u001b[1;33m.\u001b[0m\u001b[0mis_bool_indexer\u001b[0m\u001b[1;33m(\u001b[0m\u001b[0mkey\u001b[0m\u001b[1;33m)\u001b[0m\u001b[1;33m:\u001b[0m\u001b[1;33m\u001b[0m\u001b[1;33m\u001b[0m\u001b[0m\n\u001b[0m\u001b[0;32m   3496\u001b[0m             \u001b[1;32mreturn\u001b[0m \u001b[0mself\u001b[0m\u001b[1;33m.\u001b[0m\u001b[0m_getitem_bool_array\u001b[0m\u001b[1;33m(\u001b[0m\u001b[0mkey\u001b[0m\u001b[1;33m)\u001b[0m\u001b[1;33m\u001b[0m\u001b[1;33m\u001b[0m\u001b[0m\n\u001b[0;32m   3497\u001b[0m \u001b[1;33m\u001b[0m\u001b[0m\n",
      "\u001b[1;32m~\\Anaconda3\\lib\\site-packages\\pandas\\core\\common.py\u001b[0m in \u001b[0;36mis_bool_indexer\u001b[1;34m(key)\u001b[0m\n\u001b[0;32m    142\u001b[0m                     \u001b[1;31m# Don't raise on e.g. [\"A\", \"B\", np.nan], see\u001b[0m\u001b[1;33m\u001b[0m\u001b[1;33m\u001b[0m\u001b[0m\n\u001b[0;32m    143\u001b[0m                     \u001b[1;31m#  test_loc_getitem_list_of_labels_categoricalindex_with_na\u001b[0m\u001b[1;33m\u001b[0m\u001b[1;33m\u001b[0m\u001b[0m\n\u001b[1;32m--> 144\u001b[1;33m                     \u001b[1;32mraise\u001b[0m \u001b[0mValueError\u001b[0m\u001b[1;33m(\u001b[0m\u001b[0mna_msg\u001b[0m\u001b[1;33m)\u001b[0m\u001b[1;33m\u001b[0m\u001b[1;33m\u001b[0m\u001b[0m\n\u001b[0m\u001b[0;32m    145\u001b[0m                 \u001b[1;32mreturn\u001b[0m \u001b[1;32mFalse\u001b[0m\u001b[1;33m\u001b[0m\u001b[1;33m\u001b[0m\u001b[0m\n\u001b[0;32m    146\u001b[0m             \u001b[1;32mreturn\u001b[0m \u001b[1;32mTrue\u001b[0m\u001b[1;33m\u001b[0m\u001b[1;33m\u001b[0m\u001b[0m\n",
      "\u001b[1;31mValueError\u001b[0m: Cannot mask with non-boolean array containing NA / NaN values"
     ]
    }
   ],
   "source": [
    "# creating heatmap for north indian cuisines.\n",
    "# error occurs because cuisines contain null values. Don't worry execute the next lines to remove this error\n",
    "df[df['cuisines'].str.contains('North Indian')]\n"
   ]
  },
  {
   "cell_type": "code",
   "execution_count": 104,
   "id": "4eeddbab",
   "metadata": {},
   "outputs": [
    {
     "data": {
      "text/plain": [
       "45"
      ]
     },
     "execution_count": 104,
     "metadata": {},
     "output_type": "execute_result"
    }
   ],
   "source": [
    "# checking null values in cuisines \n",
    "df['cuisines'].isnull().sum()"
   ]
  },
  {
   "cell_type": "code",
   "execution_count": 105,
   "id": "66e9ffe3",
   "metadata": {},
   "outputs": [],
   "source": [
    "# dropping those rows which contain null values in cuisines\n",
    "df = df.dropna(subset = ['cuisines'])"
   ]
  },
  {
   "cell_type": "code",
   "execution_count": 108,
   "id": "5a1512ea",
   "metadata": {},
   "outputs": [],
   "source": [
    "# Creating hotspots for north indian cuisines\n",
    "# storing north indian cuisines data in north_india variable\n",
    "north_india = df[df['cuisines'].str.contains('North Indian')]"
   ]
  },
  {
   "cell_type": "code",
   "execution_count": 109,
   "id": "efb29ddb",
   "metadata": {},
   "outputs": [
    {
     "data": {
      "text/plain": [
       "(21085, 18)"
      ]
     },
     "execution_count": 109,
     "metadata": {},
     "output_type": "execute_result"
    }
   ],
   "source": [
    "north_india.shape"
   ]
  },
  {
   "cell_type": "code",
   "execution_count": 117,
   "id": "bafd6744",
   "metadata": {},
   "outputs": [
    {
     "data": {
      "text/html": [
       "<div>\n",
       "<style scoped>\n",
       "    .dataframe tbody tr th:only-of-type {\n",
       "        vertical-align: middle;\n",
       "    }\n",
       "\n",
       "    .dataframe tbody tr th {\n",
       "        vertical-align: top;\n",
       "    }\n",
       "\n",
       "    .dataframe thead th {\n",
       "        text-align: right;\n",
       "    }\n",
       "</style>\n",
       "<table border=\"1\" class=\"dataframe\">\n",
       "  <thead>\n",
       "    <tr style=\"text-align: right;\">\n",
       "      <th></th>\n",
       "      <th>index</th>\n",
       "      <th>location</th>\n",
       "    </tr>\n",
       "  </thead>\n",
       "  <tbody>\n",
       "    <tr>\n",
       "      <th>0</th>\n",
       "      <td>BTM, Bangalore, Karnataka, India</td>\n",
       "      <td>2469</td>\n",
       "    </tr>\n",
       "    <tr>\n",
       "      <th>1</th>\n",
       "      <td>HSR, Bangalore, Karnataka, India</td>\n",
       "      <td>1123</td>\n",
       "    </tr>\n",
       "    <tr>\n",
       "      <th>2</th>\n",
       "      <td>Whitefield, Bangalore, Karnataka, India</td>\n",
       "      <td>1059</td>\n",
       "    </tr>\n",
       "    <tr>\n",
       "      <th>3</th>\n",
       "      <td>Marathahalli, Bangalore, Karnataka, India</td>\n",
       "      <td>1038</td>\n",
       "    </tr>\n",
       "    <tr>\n",
       "      <th>4</th>\n",
       "      <td>JP Nagar, Bangalore, Karnataka, India</td>\n",
       "      <td>958</td>\n",
       "    </tr>\n",
       "    <tr>\n",
       "      <th>...</th>\n",
       "      <td>...</td>\n",
       "      <td>...</td>\n",
       "    </tr>\n",
       "    <tr>\n",
       "      <th>85</th>\n",
       "      <td>Hebbal, Bangalore, Karnataka, India</td>\n",
       "      <td>4</td>\n",
       "    </tr>\n",
       "    <tr>\n",
       "      <th>86</th>\n",
       "      <td>Jakkur, Bangalore, Karnataka, India</td>\n",
       "      <td>3</td>\n",
       "    </tr>\n",
       "    <tr>\n",
       "      <th>87</th>\n",
       "      <td>Central Bangalore, Bangalore, Karnataka, India</td>\n",
       "      <td>2</td>\n",
       "    </tr>\n",
       "    <tr>\n",
       "      <th>88</th>\n",
       "      <td>West Bangalore, Bangalore, Karnataka, India</td>\n",
       "      <td>1</td>\n",
       "    </tr>\n",
       "    <tr>\n",
       "      <th>89</th>\n",
       "      <td>Peenya, Bangalore, Karnataka, India</td>\n",
       "      <td>1</td>\n",
       "    </tr>\n",
       "  </tbody>\n",
       "</table>\n",
       "<p>90 rows × 2 columns</p>\n",
       "</div>"
      ],
      "text/plain": [
       "                                             index  location\n",
       "0                 BTM, Bangalore, Karnataka, India      2469\n",
       "1                 HSR, Bangalore, Karnataka, India      1123\n",
       "2          Whitefield, Bangalore, Karnataka, India      1059\n",
       "3        Marathahalli, Bangalore, Karnataka, India      1038\n",
       "4            JP Nagar, Bangalore, Karnataka, India       958\n",
       "..                                             ...       ...\n",
       "85             Hebbal, Bangalore, Karnataka, India         4\n",
       "86             Jakkur, Bangalore, Karnataka, India         3\n",
       "87  Central Bangalore, Bangalore, Karnataka, India         2\n",
       "88     West Bangalore, Bangalore, Karnataka, India         1\n",
       "89             Peenya, Bangalore, Karnataka, India         1\n",
       "\n",
       "[90 rows x 2 columns]"
      ]
     },
     "execution_count": 117,
     "metadata": {},
     "output_type": "execute_result"
    }
   ],
   "source": [
    "north_india[\"location\"].value_counts().reset_index()"
   ]
  },
  {
   "cell_type": "code",
   "execution_count": 118,
   "id": "ac39e638",
   "metadata": {},
   "outputs": [],
   "source": [
    "# changing column name index to name and location to counts\n",
    "north_india_rest_count = north_india['location'].value_counts().reset_index().rename(columns = {'index': 'name', 'location' : 'count'})"
   ]
  },
  {
   "cell_type": "code",
   "execution_count": 119,
   "id": "15907c91",
   "metadata": {},
   "outputs": [
    {
     "data": {
      "text/html": [
       "<div>\n",
       "<style scoped>\n",
       "    .dataframe tbody tr th:only-of-type {\n",
       "        vertical-align: middle;\n",
       "    }\n",
       "\n",
       "    .dataframe tbody tr th {\n",
       "        vertical-align: top;\n",
       "    }\n",
       "\n",
       "    .dataframe thead th {\n",
       "        text-align: right;\n",
       "    }\n",
       "</style>\n",
       "<table border=\"1\" class=\"dataframe\">\n",
       "  <thead>\n",
       "    <tr style=\"text-align: right;\">\n",
       "      <th></th>\n",
       "      <th>name</th>\n",
       "      <th>count</th>\n",
       "    </tr>\n",
       "  </thead>\n",
       "  <tbody>\n",
       "    <tr>\n",
       "      <th>0</th>\n",
       "      <td>BTM, Bangalore, Karnataka, India</td>\n",
       "      <td>2469</td>\n",
       "    </tr>\n",
       "    <tr>\n",
       "      <th>1</th>\n",
       "      <td>HSR, Bangalore, Karnataka, India</td>\n",
       "      <td>1123</td>\n",
       "    </tr>\n",
       "    <tr>\n",
       "      <th>2</th>\n",
       "      <td>Whitefield, Bangalore, Karnataka, India</td>\n",
       "      <td>1059</td>\n",
       "    </tr>\n",
       "    <tr>\n",
       "      <th>3</th>\n",
       "      <td>Marathahalli, Bangalore, Karnataka, India</td>\n",
       "      <td>1038</td>\n",
       "    </tr>\n",
       "    <tr>\n",
       "      <th>4</th>\n",
       "      <td>JP Nagar, Bangalore, Karnataka, India</td>\n",
       "      <td>958</td>\n",
       "    </tr>\n",
       "    <tr>\n",
       "      <th>...</th>\n",
       "      <td>...</td>\n",
       "      <td>...</td>\n",
       "    </tr>\n",
       "    <tr>\n",
       "      <th>85</th>\n",
       "      <td>Hebbal, Bangalore, Karnataka, India</td>\n",
       "      <td>4</td>\n",
       "    </tr>\n",
       "    <tr>\n",
       "      <th>86</th>\n",
       "      <td>Jakkur, Bangalore, Karnataka, India</td>\n",
       "      <td>3</td>\n",
       "    </tr>\n",
       "    <tr>\n",
       "      <th>87</th>\n",
       "      <td>Central Bangalore, Bangalore, Karnataka, India</td>\n",
       "      <td>2</td>\n",
       "    </tr>\n",
       "    <tr>\n",
       "      <th>88</th>\n",
       "      <td>West Bangalore, Bangalore, Karnataka, India</td>\n",
       "      <td>1</td>\n",
       "    </tr>\n",
       "    <tr>\n",
       "      <th>89</th>\n",
       "      <td>Peenya, Bangalore, Karnataka, India</td>\n",
       "      <td>1</td>\n",
       "    </tr>\n",
       "  </tbody>\n",
       "</table>\n",
       "<p>90 rows × 2 columns</p>\n",
       "</div>"
      ],
      "text/plain": [
       "                                              name  count\n",
       "0                 BTM, Bangalore, Karnataka, India   2469\n",
       "1                 HSR, Bangalore, Karnataka, India   1123\n",
       "2          Whitefield, Bangalore, Karnataka, India   1059\n",
       "3        Marathahalli, Bangalore, Karnataka, India   1038\n",
       "4            JP Nagar, Bangalore, Karnataka, India    958\n",
       "..                                             ...    ...\n",
       "85             Hebbal, Bangalore, Karnataka, India      4\n",
       "86             Jakkur, Bangalore, Karnataka, India      3\n",
       "87  Central Bangalore, Bangalore, Karnataka, India      2\n",
       "88     West Bangalore, Bangalore, Karnataka, India      1\n",
       "89             Peenya, Bangalore, Karnataka, India      1\n",
       "\n",
       "[90 rows x 2 columns]"
      ]
     },
     "execution_count": 119,
     "metadata": {},
     "output_type": "execute_result"
    }
   ],
   "source": [
    "north_india_rest_count"
   ]
  },
  {
   "cell_type": "code",
   "execution_count": 121,
   "id": "daeecc59",
   "metadata": {},
   "outputs": [],
   "source": [
    "# merging location column with north_india_rest_count on name (common column locations name) \n",
    "heatmap_df = north_india_rest_count.merge(locations , on = 'name', how = 'left')"
   ]
  },
  {
   "cell_type": "code",
   "execution_count": 122,
   "id": "f4f98b94",
   "metadata": {},
   "outputs": [
    {
     "data": {
      "text/html": [
       "<div>\n",
       "<style scoped>\n",
       "    .dataframe tbody tr th:only-of-type {\n",
       "        vertical-align: middle;\n",
       "    }\n",
       "\n",
       "    .dataframe tbody tr th {\n",
       "        vertical-align: top;\n",
       "    }\n",
       "\n",
       "    .dataframe thead th {\n",
       "        text-align: right;\n",
       "    }\n",
       "</style>\n",
       "<table border=\"1\" class=\"dataframe\">\n",
       "  <thead>\n",
       "    <tr style=\"text-align: right;\">\n",
       "      <th></th>\n",
       "      <th>name</th>\n",
       "      <th>count</th>\n",
       "      <th>latitude</th>\n",
       "      <th>longitude</th>\n",
       "    </tr>\n",
       "  </thead>\n",
       "  <tbody>\n",
       "    <tr>\n",
       "      <th>0</th>\n",
       "      <td>BTM, Bangalore, Karnataka, India</td>\n",
       "      <td>2469</td>\n",
       "      <td>12.911276</td>\n",
       "      <td>77.604565</td>\n",
       "    </tr>\n",
       "    <tr>\n",
       "      <th>1</th>\n",
       "      <td>HSR, Bangalore, Karnataka, India</td>\n",
       "      <td>1123</td>\n",
       "      <td>12.911623</td>\n",
       "      <td>77.638862</td>\n",
       "    </tr>\n",
       "    <tr>\n",
       "      <th>2</th>\n",
       "      <td>Whitefield, Bangalore, Karnataka, India</td>\n",
       "      <td>1059</td>\n",
       "      <td>12.969637</td>\n",
       "      <td>77.749745</td>\n",
       "    </tr>\n",
       "    <tr>\n",
       "      <th>3</th>\n",
       "      <td>Marathahalli, Bangalore, Karnataka, India</td>\n",
       "      <td>1038</td>\n",
       "      <td>12.955257</td>\n",
       "      <td>77.698416</td>\n",
       "    </tr>\n",
       "    <tr>\n",
       "      <th>4</th>\n",
       "      <td>JP Nagar, Bangalore, Karnataka, India</td>\n",
       "      <td>958</td>\n",
       "      <td>12.912264</td>\n",
       "      <td>77.590457</td>\n",
       "    </tr>\n",
       "    <tr>\n",
       "      <th>...</th>\n",
       "      <td>...</td>\n",
       "      <td>...</td>\n",
       "      <td>...</td>\n",
       "      <td>...</td>\n",
       "    </tr>\n",
       "    <tr>\n",
       "      <th>85</th>\n",
       "      <td>Hebbal, Bangalore, Karnataka, India</td>\n",
       "      <td>4</td>\n",
       "      <td>13.038218</td>\n",
       "      <td>77.591900</td>\n",
       "    </tr>\n",
       "    <tr>\n",
       "      <th>86</th>\n",
       "      <td>Jakkur, Bangalore, Karnataka, India</td>\n",
       "      <td>3</td>\n",
       "      <td>13.078474</td>\n",
       "      <td>77.606894</td>\n",
       "    </tr>\n",
       "    <tr>\n",
       "      <th>87</th>\n",
       "      <td>Central Bangalore, Bangalore, Karnataka, India</td>\n",
       "      <td>2</td>\n",
       "      <td>13.010129</td>\n",
       "      <td>77.554801</td>\n",
       "    </tr>\n",
       "    <tr>\n",
       "      <th>88</th>\n",
       "      <td>West Bangalore, Bangalore, Karnataka, India</td>\n",
       "      <td>1</td>\n",
       "      <td>13.022235</td>\n",
       "      <td>77.567183</td>\n",
       "    </tr>\n",
       "    <tr>\n",
       "      <th>89</th>\n",
       "      <td>Peenya, Bangalore, Karnataka, India</td>\n",
       "      <td>1</td>\n",
       "      <td>13.032942</td>\n",
       "      <td>77.527325</td>\n",
       "    </tr>\n",
       "  </tbody>\n",
       "</table>\n",
       "<p>90 rows × 4 columns</p>\n",
       "</div>"
      ],
      "text/plain": [
       "                                              name  count   latitude  \\\n",
       "0                 BTM, Bangalore, Karnataka, India   2469  12.911276   \n",
       "1                 HSR, Bangalore, Karnataka, India   1123  12.911623   \n",
       "2          Whitefield, Bangalore, Karnataka, India   1059  12.969637   \n",
       "3        Marathahalli, Bangalore, Karnataka, India   1038  12.955257   \n",
       "4            JP Nagar, Bangalore, Karnataka, India    958  12.912264   \n",
       "..                                             ...    ...        ...   \n",
       "85             Hebbal, Bangalore, Karnataka, India      4  13.038218   \n",
       "86             Jakkur, Bangalore, Karnataka, India      3  13.078474   \n",
       "87  Central Bangalore, Bangalore, Karnataka, India      2  13.010129   \n",
       "88     West Bangalore, Bangalore, Karnataka, India      1  13.022235   \n",
       "89             Peenya, Bangalore, Karnataka, India      1  13.032942   \n",
       "\n",
       "    longitude  \n",
       "0   77.604565  \n",
       "1   77.638862  \n",
       "2   77.749745  \n",
       "3   77.698416  \n",
       "4   77.590457  \n",
       "..        ...  \n",
       "85  77.591900  \n",
       "86  77.606894  \n",
       "87  77.554801  \n",
       "88  77.567183  \n",
       "89  77.527325  \n",
       "\n",
       "[90 rows x 4 columns]"
      ]
     },
     "execution_count": 122,
     "metadata": {},
     "output_type": "execute_result"
    }
   ],
   "source": [
    "heatmap_df"
   ]
  },
  {
   "cell_type": "code",
   "execution_count": 123,
   "id": "c4443564",
   "metadata": {},
   "outputs": [],
   "source": [
    "# creating a basemap (of bangalore city)"
   ]
  },
  {
   "cell_type": "code",
   "execution_count": 124,
   "id": "65487f3c",
   "metadata": {},
   "outputs": [
    {
     "name": "stdout",
     "output_type": "stream",
     "text": [
      "Requirement already satisfied: folium in c:\\users\\abhishek\\anaconda3\\lib\\site-packages (0.14.0)\n",
      "Requirement already satisfied: jinja2>=2.9 in c:\\users\\abhishek\\anaconda3\\lib\\site-packages (from folium) (2.11.3)\n",
      "Requirement already satisfied: branca>=0.6.0 in c:\\users\\abhishek\\anaconda3\\lib\\site-packages (from folium) (0.6.0)\n",
      "Requirement already satisfied: numpy in c:\\users\\abhishek\\anaconda3\\lib\\site-packages (from folium) (1.21.5)\n",
      "Requirement already satisfied: requests in c:\\users\\abhishek\\anaconda3\\lib\\site-packages (from folium) (2.28.1)\n",
      "Requirement already satisfied: MarkupSafe>=0.23 in c:\\users\\abhishek\\anaconda3\\lib\\site-packages (from jinja2>=2.9->folium) (2.0.1)\n",
      "Requirement already satisfied: idna<4,>=2.5 in c:\\users\\abhishek\\anaconda3\\lib\\site-packages (from requests->folium) (3.3)\n",
      "Requirement already satisfied: charset-normalizer<3,>=2 in c:\\users\\abhishek\\anaconda3\\lib\\site-packages (from requests->folium) (2.0.4)\n",
      "Requirement already satisfied: certifi>=2017.4.17 in c:\\users\\abhishek\\anaconda3\\lib\\site-packages (from requests->folium) (2022.9.14)\n",
      "Requirement already satisfied: urllib3<1.27,>=1.21.1 in c:\\users\\abhishek\\anaconda3\\lib\\site-packages (from requests->folium) (1.26.11)\n"
     ]
    }
   ],
   "source": [
    "!pip install folium"
   ]
  },
  {
   "cell_type": "code",
   "execution_count": 125,
   "id": "3912b768",
   "metadata": {},
   "outputs": [],
   "source": [
    "import folium"
   ]
  },
  {
   "cell_type": "code",
   "execution_count": 126,
   "id": "980eed68",
   "metadata": {},
   "outputs": [],
   "source": [
    "# storing basemap in basemap variable \n",
    "basemap = folium.Map()"
   ]
  },
  {
   "cell_type": "code",
   "execution_count": 127,
   "id": "9ee7995e",
   "metadata": {
    "scrolled": true
   },
   "outputs": [
    {
     "data": {
      "text/html": [
       "<div style=\"width:100%;\"><div style=\"position:relative;width:100%;height:0;padding-bottom:60%;\"><span style=\"color:#565656\">Make this Notebook Trusted to load map: File -> Trust Notebook</span><iframe srcdoc=\"&lt;!DOCTYPE html&gt;\n",
       "&lt;html&gt;\n",
       "&lt;head&gt;\n",
       "    \n",
       "    &lt;meta http-equiv=&quot;content-type&quot; content=&quot;text/html; charset=UTF-8&quot; /&gt;\n",
       "    \n",
       "        &lt;script&gt;\n",
       "            L_NO_TOUCH = false;\n",
       "            L_DISABLE_3D = false;\n",
       "        &lt;/script&gt;\n",
       "    \n",
       "    &lt;style&gt;html, body {width: 100%;height: 100%;margin: 0;padding: 0;}&lt;/style&gt;\n",
       "    &lt;style&gt;#map {position:absolute;top:0;bottom:0;right:0;left:0;}&lt;/style&gt;\n",
       "    &lt;script src=&quot;https://cdn.jsdelivr.net/npm/leaflet@1.9.3/dist/leaflet.js&quot;&gt;&lt;/script&gt;\n",
       "    &lt;script src=&quot;https://code.jquery.com/jquery-1.12.4.min.js&quot;&gt;&lt;/script&gt;\n",
       "    &lt;script src=&quot;https://cdn.jsdelivr.net/npm/bootstrap@5.2.2/dist/js/bootstrap.bundle.min.js&quot;&gt;&lt;/script&gt;\n",
       "    &lt;script src=&quot;https://cdnjs.cloudflare.com/ajax/libs/Leaflet.awesome-markers/2.0.2/leaflet.awesome-markers.js&quot;&gt;&lt;/script&gt;\n",
       "    &lt;link rel=&quot;stylesheet&quot; href=&quot;https://cdn.jsdelivr.net/npm/leaflet@1.9.3/dist/leaflet.css&quot;/&gt;\n",
       "    &lt;link rel=&quot;stylesheet&quot; href=&quot;https://cdn.jsdelivr.net/npm/bootstrap@5.2.2/dist/css/bootstrap.min.css&quot;/&gt;\n",
       "    &lt;link rel=&quot;stylesheet&quot; href=&quot;https://netdna.bootstrapcdn.com/bootstrap/3.0.0/css/bootstrap.min.css&quot;/&gt;\n",
       "    &lt;link rel=&quot;stylesheet&quot; href=&quot;https://cdn.jsdelivr.net/npm/@fortawesome/fontawesome-free@6.2.0/css/all.min.css&quot;/&gt;\n",
       "    &lt;link rel=&quot;stylesheet&quot; href=&quot;https://cdnjs.cloudflare.com/ajax/libs/Leaflet.awesome-markers/2.0.2/leaflet.awesome-markers.css&quot;/&gt;\n",
       "    &lt;link rel=&quot;stylesheet&quot; href=&quot;https://cdn.jsdelivr.net/gh/python-visualization/folium/folium/templates/leaflet.awesome.rotate.min.css&quot;/&gt;\n",
       "    \n",
       "            &lt;meta name=&quot;viewport&quot; content=&quot;width=device-width,\n",
       "                initial-scale=1.0, maximum-scale=1.0, user-scalable=no&quot; /&gt;\n",
       "            &lt;style&gt;\n",
       "                #map_d5a07962d4afba3d92c48db03e1e7226 {\n",
       "                    position: relative;\n",
       "                    width: 100.0%;\n",
       "                    height: 100.0%;\n",
       "                    left: 0.0%;\n",
       "                    top: 0.0%;\n",
       "                }\n",
       "                .leaflet-container { font-size: 1rem; }\n",
       "            &lt;/style&gt;\n",
       "        \n",
       "&lt;/head&gt;\n",
       "&lt;body&gt;\n",
       "    \n",
       "    \n",
       "            &lt;div class=&quot;folium-map&quot; id=&quot;map_d5a07962d4afba3d92c48db03e1e7226&quot; &gt;&lt;/div&gt;\n",
       "        \n",
       "&lt;/body&gt;\n",
       "&lt;script&gt;\n",
       "    \n",
       "    \n",
       "            var map_d5a07962d4afba3d92c48db03e1e7226 = L.map(\n",
       "                &quot;map_d5a07962d4afba3d92c48db03e1e7226&quot;,\n",
       "                {\n",
       "                    center: [0, 0],\n",
       "                    crs: L.CRS.EPSG3857,\n",
       "                    zoom: 1,\n",
       "                    zoomControl: true,\n",
       "                    preferCanvas: false,\n",
       "                }\n",
       "            );\n",
       "\n",
       "            \n",
       "\n",
       "        \n",
       "    \n",
       "            var tile_layer_4541918e9d52a6143c654d688bee9410 = L.tileLayer(\n",
       "                &quot;https://{s}.tile.openstreetmap.org/{z}/{x}/{y}.png&quot;,\n",
       "                {&quot;attribution&quot;: &quot;Data by \\u0026copy; \\u003ca target=\\&quot;_blank\\&quot; href=\\&quot;http://openstreetmap.org\\&quot;\\u003eOpenStreetMap\\u003c/a\\u003e, under \\u003ca target=\\&quot;_blank\\&quot; href=\\&quot;http://www.openstreetmap.org/copyright\\&quot;\\u003eODbL\\u003c/a\\u003e.&quot;, &quot;detectRetina&quot;: false, &quot;maxNativeZoom&quot;: 18, &quot;maxZoom&quot;: 18, &quot;minZoom&quot;: 0, &quot;noWrap&quot;: false, &quot;opacity&quot;: 1, &quot;subdomains&quot;: &quot;abc&quot;, &quot;tms&quot;: false}\n",
       "            ).addTo(map_d5a07962d4afba3d92c48db03e1e7226);\n",
       "        \n",
       "&lt;/script&gt;\n",
       "&lt;/html&gt;\" style=\"position:absolute;width:100%;height:100%;left:0;top:0;border:none !important;\" allowfullscreen webkitallowfullscreen mozallowfullscreen></iframe></div></div>"
      ],
      "text/plain": [
       "<folium.folium.Map at 0x1ad5d9012b0>"
      ]
     },
     "execution_count": 127,
     "metadata": {},
     "output_type": "execute_result"
    }
   ],
   "source": [
    "# map of entire world\n",
    "basemap"
   ]
  },
  {
   "cell_type": "code",
   "execution_count": 129,
   "id": "00c19b6b",
   "metadata": {},
   "outputs": [
    {
     "data": {
      "text/plain": [
       "Index(['name', 'count', 'latitude', 'longitude'], dtype='object')"
      ]
     },
     "execution_count": 129,
     "metadata": {},
     "output_type": "execute_result"
    }
   ],
   "source": [
    "# heatmap_df column names\n",
    "heatmap_df.columns"
   ]
  },
  {
   "cell_type": "code",
   "execution_count": 130,
   "id": "ad0d31b8",
   "metadata": {},
   "outputs": [],
   "source": [
    "from folium.plugins import HeatMap"
   ]
  },
  {
   "cell_type": "code",
   "execution_count": 132,
   "id": "55080731",
   "metadata": {},
   "outputs": [
    {
     "data": {
      "text/plain": [
       "<folium.plugins.heat_map.HeatMap at 0x1ab8471cd30>"
      ]
     },
     "execution_count": 132,
     "metadata": {},
     "output_type": "execute_result"
    }
   ],
   "source": [
    "# maintain this heirarchy (latitude then longitude and then count) (initilaising heatmap and adding it to basemap)\n",
    "HeatMap(heatmap_df[['latitude', 'longitude', 'count']]).add_to(basemap)"
   ]
  },
  {
   "cell_type": "code",
   "execution_count": 133,
   "id": "9d8ea7e2",
   "metadata": {},
   "outputs": [
    {
     "data": {
      "text/html": [
       "<div style=\"width:100%;\"><div style=\"position:relative;width:100%;height:0;padding-bottom:60%;\"><span style=\"color:#565656\">Make this Notebook Trusted to load map: File -> Trust Notebook</span><iframe srcdoc=\"&lt;!DOCTYPE html&gt;\n",
       "&lt;html&gt;\n",
       "&lt;head&gt;\n",
       "    \n",
       "    &lt;meta http-equiv=&quot;content-type&quot; content=&quot;text/html; charset=UTF-8&quot; /&gt;\n",
       "    \n",
       "        &lt;script&gt;\n",
       "            L_NO_TOUCH = false;\n",
       "            L_DISABLE_3D = false;\n",
       "        &lt;/script&gt;\n",
       "    \n",
       "    &lt;style&gt;html, body {width: 100%;height: 100%;margin: 0;padding: 0;}&lt;/style&gt;\n",
       "    &lt;style&gt;#map {position:absolute;top:0;bottom:0;right:0;left:0;}&lt;/style&gt;\n",
       "    &lt;script src=&quot;https://cdn.jsdelivr.net/npm/leaflet@1.9.3/dist/leaflet.js&quot;&gt;&lt;/script&gt;\n",
       "    &lt;script src=&quot;https://code.jquery.com/jquery-1.12.4.min.js&quot;&gt;&lt;/script&gt;\n",
       "    &lt;script src=&quot;https://cdn.jsdelivr.net/npm/bootstrap@5.2.2/dist/js/bootstrap.bundle.min.js&quot;&gt;&lt;/script&gt;\n",
       "    &lt;script src=&quot;https://cdnjs.cloudflare.com/ajax/libs/Leaflet.awesome-markers/2.0.2/leaflet.awesome-markers.js&quot;&gt;&lt;/script&gt;\n",
       "    &lt;link rel=&quot;stylesheet&quot; href=&quot;https://cdn.jsdelivr.net/npm/leaflet@1.9.3/dist/leaflet.css&quot;/&gt;\n",
       "    &lt;link rel=&quot;stylesheet&quot; href=&quot;https://cdn.jsdelivr.net/npm/bootstrap@5.2.2/dist/css/bootstrap.min.css&quot;/&gt;\n",
       "    &lt;link rel=&quot;stylesheet&quot; href=&quot;https://netdna.bootstrapcdn.com/bootstrap/3.0.0/css/bootstrap.min.css&quot;/&gt;\n",
       "    &lt;link rel=&quot;stylesheet&quot; href=&quot;https://cdn.jsdelivr.net/npm/@fortawesome/fontawesome-free@6.2.0/css/all.min.css&quot;/&gt;\n",
       "    &lt;link rel=&quot;stylesheet&quot; href=&quot;https://cdnjs.cloudflare.com/ajax/libs/Leaflet.awesome-markers/2.0.2/leaflet.awesome-markers.css&quot;/&gt;\n",
       "    &lt;link rel=&quot;stylesheet&quot; href=&quot;https://cdn.jsdelivr.net/gh/python-visualization/folium/folium/templates/leaflet.awesome.rotate.min.css&quot;/&gt;\n",
       "    \n",
       "            &lt;meta name=&quot;viewport&quot; content=&quot;width=device-width,\n",
       "                initial-scale=1.0, maximum-scale=1.0, user-scalable=no&quot; /&gt;\n",
       "            &lt;style&gt;\n",
       "                #map_d5a07962d4afba3d92c48db03e1e7226 {\n",
       "                    position: relative;\n",
       "                    width: 100.0%;\n",
       "                    height: 100.0%;\n",
       "                    left: 0.0%;\n",
       "                    top: 0.0%;\n",
       "                }\n",
       "                .leaflet-container { font-size: 1rem; }\n",
       "            &lt;/style&gt;\n",
       "        \n",
       "    &lt;script src=&quot;https://cdn.jsdelivr.net/gh/python-visualization/folium@main/folium/templates/leaflet_heat.min.js&quot;&gt;&lt;/script&gt;\n",
       "&lt;/head&gt;\n",
       "&lt;body&gt;\n",
       "    \n",
       "    \n",
       "            &lt;div class=&quot;folium-map&quot; id=&quot;map_d5a07962d4afba3d92c48db03e1e7226&quot; &gt;&lt;/div&gt;\n",
       "        \n",
       "&lt;/body&gt;\n",
       "&lt;script&gt;\n",
       "    \n",
       "    \n",
       "            var map_d5a07962d4afba3d92c48db03e1e7226 = L.map(\n",
       "                &quot;map_d5a07962d4afba3d92c48db03e1e7226&quot;,\n",
       "                {\n",
       "                    center: [0, 0],\n",
       "                    crs: L.CRS.EPSG3857,\n",
       "                    zoom: 1,\n",
       "                    zoomControl: true,\n",
       "                    preferCanvas: false,\n",
       "                }\n",
       "            );\n",
       "\n",
       "            \n",
       "\n",
       "        \n",
       "    \n",
       "            var tile_layer_4541918e9d52a6143c654d688bee9410 = L.tileLayer(\n",
       "                &quot;https://{s}.tile.openstreetmap.org/{z}/{x}/{y}.png&quot;,\n",
       "                {&quot;attribution&quot;: &quot;Data by \\u0026copy; \\u003ca target=\\&quot;_blank\\&quot; href=\\&quot;http://openstreetmap.org\\&quot;\\u003eOpenStreetMap\\u003c/a\\u003e, under \\u003ca target=\\&quot;_blank\\&quot; href=\\&quot;http://www.openstreetmap.org/copyright\\&quot;\\u003eODbL\\u003c/a\\u003e.&quot;, &quot;detectRetina&quot;: false, &quot;maxNativeZoom&quot;: 18, &quot;maxZoom&quot;: 18, &quot;minZoom&quot;: 0, &quot;noWrap&quot;: false, &quot;opacity&quot;: 1, &quot;subdomains&quot;: &quot;abc&quot;, &quot;tms&quot;: false}\n",
       "            ).addTo(map_d5a07962d4afba3d92c48db03e1e7226);\n",
       "        \n",
       "    \n",
       "            var heat_map_33a19754339255b14ba07f099c466fb7 = L.heatLayer(\n",
       "                [[12.911275849999999, 77.60456543431182, 2469.0], [12.9116225, 77.6388622, 1123.0], [12.9696365, 77.7497448, 1059.0], [12.9552572, 77.6984163, 1038.0], [12.91226375, 77.59045672324466, 958.0], [12.9348429, 77.6189768, 755.0], [12.8799708, 77.5957843, 701.0], [12.9732913, 77.6404672, 678.0], [12.848759900000001, 77.64825295827616, 675.0], [12.9292731, 77.5824229, 664.0], [12.93103185, 77.6782471, 659.0], [12.9277245, 77.6327822, 601.0], [12.920441, 77.6653284, 529.0], [12.9390255, 77.6238477, 408.0], [12.9364846, 77.6134783, 390.0], [12.9778793, 77.6246697, 376.0], [12.9755264, 77.6067902, 359.0], [12.9327778, 77.6294052, 351.0], [12.9714852, 77.6069655, 323.0], [12.9670911, 77.6109679, 312.0], [12.9152208, 77.573598, 309.0], [12.957434549999999, 77.71470815294066, 282.0], [12.986391, 77.6075416, 272.0], [13.0243476, 77.5720015, 267.0], [13.0221416, 77.6403368, 262.0], [12.9882338, 77.554883, 230.0], [13.0141618, 77.6518539, 227.0], [12.9845781, 77.5970428, 224.0], [12.9575547, 77.5979099, 223.0], [13.0027353, 77.5703253, 215.0], [12.9738781, 77.6109674, 214.0], [12.9572041, 77.6741554, 214.0], [12.945245, 77.6269144, 202.0], [12.9986827, 77.615525, 201.0], [12.9624669, 77.6381958, 199.0], [12.9417261, 77.5755021, 189.0], [13.0093455, 77.6377094, 175.0], [12.9748941, 77.6052865, 173.0], [12.9489339, 77.5968273, 132.0], [12.9089453, 77.6239038, 129.0], [12.9749487, 77.5997248, 128.0], [12.988721250000001, 77.58516877601824, 127.0], [12.9764122, 77.6017437, 121.0], [12.9678074, 77.6568367, 117.0], [12.9408685, 77.617338, 103.0], [12.9081487, 77.5553179, 98.0], [13.0431413, 77.6209093, 96.0], [12.9282918, 77.6254034, 84.0], [12.9931876, 77.5753419, 83.0], [12.973936, 77.6509982, 78.0], [12.9822323, 77.6082954, 76.0], [12.9844724, 77.5883314, 76.0], [12.9501553, 77.6056896, 73.0], [13.02383, 77.5529215, 72.0], [12.9756601, 77.5731558, 69.0], [13.0258087, 77.6305067, 68.0], [12.9932236, 77.5391579, 65.0], [12.9837879, 77.5940558, 61.0], [12.965717999999999, 77.5762705372058, 58.0], [12.9243692, 77.6242433, 58.0], [13.0227204, 77.595715, 51.0], [13.0358698, 77.6323597, 51.0], [12.9804194, 77.7275164, 50.0], [12.9846713, 77.6790908, 47.0], [12.944569, 77.7469486, 47.0], [12.9658625, 77.6124731531352, 35.0], [12.9578658, 77.6958748, 34.0], [12.862467899999999, 77.56089325971044, 31.0], [12.9856596, 77.6638971, 30.0], [12.957998, 77.6037312, 22.0], [13.010316, 77.580569, 20.0], [12.9340114, 77.6222304, 19.0], [13.0464531, 77.5483803, 19.0], [12.9886937, 77.5863032, 17.0], [12.9366418, 77.5753914, 16.0], [13.0120218, 77.6777817, 14.0], [12.8504319, 77.6601401, 14.0], [13.0621474, 77.58006135480495, 13.0], [12.9055682, 77.5455438, 13.0], [12.975608, 77.5553564, 12.0], [13.007516, 77.695935, 12.0], [12.9466619, 77.5300896, 11.0], [13.0076091, 77.6900228, 7.0], [13.022234699999998, 77.56718324768107, 6.0], [12.9841958, 77.51919296908994, 5.0], [13.0382184, 77.5919, 4.0], [13.0784743, 77.6068938, 3.0], [13.0101286, 77.5548006, 2.0], [13.022234699999998, 77.56718324768107, 1.0], [13.0329419, 77.5273253, 1.0]],\n",
       "                {&quot;blur&quot;: 15, &quot;maxZoom&quot;: 18, &quot;minOpacity&quot;: 0.5, &quot;radius&quot;: 25}\n",
       "            ).addTo(map_d5a07962d4afba3d92c48db03e1e7226);\n",
       "        \n",
       "&lt;/script&gt;\n",
       "&lt;/html&gt;\" style=\"position:absolute;width:100%;height:100%;left:0;top:0;border:none !important;\" allowfullscreen webkitallowfullscreen mozallowfullscreen></iframe></div></div>"
      ],
      "text/plain": [
       "<folium.folium.Map at 0x1ad5d9012b0>"
      ]
     },
     "execution_count": 133,
     "metadata": {},
     "output_type": "execute_result"
    }
   ],
   "source": [
    "# generating heatmaps for north indian cuisines restaurants in bangalore. \n",
    "basemap"
   ]
  },
  {
   "cell_type": "code",
   "execution_count": 134,
   "id": "1c9e9a24",
   "metadata": {},
   "outputs": [],
   "source": [
    "# automate task : perform automation\n",
    "\n",
    "def get_heatmap(cuisine):\n",
    "    cuisine_df = df[df['cuisines'].str.contains(cuisine)]\n",
    "    \n",
    "    cuisine_rest_count = cuisine_df['location'].value_counts().reset_index().rename(columns = {'index': 'name', 'location' : 'count'})\n",
    "    heatmap_df = cuisine_rest_count.merge(locations , on = 'name', how = 'left')\n",
    "    print(heatmap_df.head(4))\n",
    "    \n",
    "    basemap = folium.Map()\n",
    "    HeatMap(heatmap_df[['latitude', 'longitude', 'count']]).add_to(basemap)\n",
    "    return basemap"
   ]
  },
  {
   "cell_type": "code",
   "execution_count": 135,
   "id": "94a78f2a",
   "metadata": {},
   "outputs": [
    {
     "name": "stdout",
     "output_type": "stream",
     "text": [
      "                                     name  count   latitude  longitude\n",
      "0        BTM, Bangalore, Karnataka, India    815  12.911276  77.604565\n",
      "1   JP Nagar, Bangalore, Karnataka, India    437  12.912264  77.590457\n",
      "2        HSR, Bangalore, Karnataka, India    436  12.911623  77.638862\n",
      "3  Jayanagar, Bangalore, Karnataka, India    416  12.929273  77.582423\n"
     ]
    },
    {
     "data": {
      "text/html": [
       "<div style=\"width:100%;\"><div style=\"position:relative;width:100%;height:0;padding-bottom:60%;\"><span style=\"color:#565656\">Make this Notebook Trusted to load map: File -> Trust Notebook</span><iframe srcdoc=\"&lt;!DOCTYPE html&gt;\n",
       "&lt;html&gt;\n",
       "&lt;head&gt;\n",
       "    \n",
       "    &lt;meta http-equiv=&quot;content-type&quot; content=&quot;text/html; charset=UTF-8&quot; /&gt;\n",
       "    \n",
       "        &lt;script&gt;\n",
       "            L_NO_TOUCH = false;\n",
       "            L_DISABLE_3D = false;\n",
       "        &lt;/script&gt;\n",
       "    \n",
       "    &lt;style&gt;html, body {width: 100%;height: 100%;margin: 0;padding: 0;}&lt;/style&gt;\n",
       "    &lt;style&gt;#map {position:absolute;top:0;bottom:0;right:0;left:0;}&lt;/style&gt;\n",
       "    &lt;script src=&quot;https://cdn.jsdelivr.net/npm/leaflet@1.9.3/dist/leaflet.js&quot;&gt;&lt;/script&gt;\n",
       "    &lt;script src=&quot;https://code.jquery.com/jquery-1.12.4.min.js&quot;&gt;&lt;/script&gt;\n",
       "    &lt;script src=&quot;https://cdn.jsdelivr.net/npm/bootstrap@5.2.2/dist/js/bootstrap.bundle.min.js&quot;&gt;&lt;/script&gt;\n",
       "    &lt;script src=&quot;https://cdnjs.cloudflare.com/ajax/libs/Leaflet.awesome-markers/2.0.2/leaflet.awesome-markers.js&quot;&gt;&lt;/script&gt;\n",
       "    &lt;link rel=&quot;stylesheet&quot; href=&quot;https://cdn.jsdelivr.net/npm/leaflet@1.9.3/dist/leaflet.css&quot;/&gt;\n",
       "    &lt;link rel=&quot;stylesheet&quot; href=&quot;https://cdn.jsdelivr.net/npm/bootstrap@5.2.2/dist/css/bootstrap.min.css&quot;/&gt;\n",
       "    &lt;link rel=&quot;stylesheet&quot; href=&quot;https://netdna.bootstrapcdn.com/bootstrap/3.0.0/css/bootstrap.min.css&quot;/&gt;\n",
       "    &lt;link rel=&quot;stylesheet&quot; href=&quot;https://cdn.jsdelivr.net/npm/@fortawesome/fontawesome-free@6.2.0/css/all.min.css&quot;/&gt;\n",
       "    &lt;link rel=&quot;stylesheet&quot; href=&quot;https://cdnjs.cloudflare.com/ajax/libs/Leaflet.awesome-markers/2.0.2/leaflet.awesome-markers.css&quot;/&gt;\n",
       "    &lt;link rel=&quot;stylesheet&quot; href=&quot;https://cdn.jsdelivr.net/gh/python-visualization/folium/folium/templates/leaflet.awesome.rotate.min.css&quot;/&gt;\n",
       "    \n",
       "            &lt;meta name=&quot;viewport&quot; content=&quot;width=device-width,\n",
       "                initial-scale=1.0, maximum-scale=1.0, user-scalable=no&quot; /&gt;\n",
       "            &lt;style&gt;\n",
       "                #map_1eaec421570318fe3785f33daafa96e3 {\n",
       "                    position: relative;\n",
       "                    width: 100.0%;\n",
       "                    height: 100.0%;\n",
       "                    left: 0.0%;\n",
       "                    top: 0.0%;\n",
       "                }\n",
       "                .leaflet-container { font-size: 1rem; }\n",
       "            &lt;/style&gt;\n",
       "        \n",
       "    &lt;script src=&quot;https://cdn.jsdelivr.net/gh/python-visualization/folium@main/folium/templates/leaflet_heat.min.js&quot;&gt;&lt;/script&gt;\n",
       "&lt;/head&gt;\n",
       "&lt;body&gt;\n",
       "    \n",
       "    \n",
       "            &lt;div class=&quot;folium-map&quot; id=&quot;map_1eaec421570318fe3785f33daafa96e3&quot; &gt;&lt;/div&gt;\n",
       "        \n",
       "&lt;/body&gt;\n",
       "&lt;script&gt;\n",
       "    \n",
       "    \n",
       "            var map_1eaec421570318fe3785f33daafa96e3 = L.map(\n",
       "                &quot;map_1eaec421570318fe3785f33daafa96e3&quot;,\n",
       "                {\n",
       "                    center: [0, 0],\n",
       "                    crs: L.CRS.EPSG3857,\n",
       "                    zoom: 1,\n",
       "                    zoomControl: true,\n",
       "                    preferCanvas: false,\n",
       "                }\n",
       "            );\n",
       "\n",
       "            \n",
       "\n",
       "        \n",
       "    \n",
       "            var tile_layer_e0fe5dd14b1cc7a284cabb56e090f5d6 = L.tileLayer(\n",
       "                &quot;https://{s}.tile.openstreetmap.org/{z}/{x}/{y}.png&quot;,\n",
       "                {&quot;attribution&quot;: &quot;Data by \\u0026copy; \\u003ca target=\\&quot;_blank\\&quot; href=\\&quot;http://openstreetmap.org\\&quot;\\u003eOpenStreetMap\\u003c/a\\u003e, under \\u003ca target=\\&quot;_blank\\&quot; href=\\&quot;http://www.openstreetmap.org/copyright\\&quot;\\u003eODbL\\u003c/a\\u003e.&quot;, &quot;detectRetina&quot;: false, &quot;maxNativeZoom&quot;: 18, &quot;maxZoom&quot;: 18, &quot;minZoom&quot;: 0, &quot;noWrap&quot;: false, &quot;opacity&quot;: 1, &quot;subdomains&quot;: &quot;abc&quot;, &quot;tms&quot;: false}\n",
       "            ).addTo(map_1eaec421570318fe3785f33daafa96e3);\n",
       "        \n",
       "    \n",
       "            var heat_map_27fe1fc5b2fa525e606106c6bbdc25b6 = L.heatLayer(\n",
       "                [[12.911275849999999, 77.60456543431182, 815.0], [12.91226375, 77.59045672324466, 437.0], [12.9116225, 77.6388622, 436.0], [12.9292731, 77.5824229, 416.0], [12.9696365, 77.7497448, 308.0], [12.848759900000001, 77.64825295827616, 308.0], [12.8799708, 77.5957843, 302.0], [12.9552572, 77.6984163, 293.0], [12.9152208, 77.573598, 242.0], [12.9732913, 77.6404672, 235.0], [12.9417261, 77.5755021, 218.0], [12.9882338, 77.554883, 217.0], [12.9714852, 77.6069655, 211.0], [12.9277245, 77.6327822, 187.0], [12.93103185, 77.6782471, 183.0], [12.9778793, 77.6246697, 182.0], [12.920441, 77.6653284, 180.0], [12.9390255, 77.6238477, 164.0], [13.0027353, 77.5703253, 160.0], [12.986391, 77.6075416, 160.0], [12.9348429, 77.6189768, 155.0], [13.0141618, 77.6518539, 155.0], [12.9575547, 77.5979099, 153.0], [12.9670911, 77.6109679, 149.0], [12.957434549999999, 77.71470815294066, 133.0], [13.0093455, 77.6377094, 117.0], [12.9364846, 77.6134783, 102.0], [12.9327778, 77.6294052, 102.0], [12.9845781, 77.5970428, 99.0], [13.0243476, 77.5720015, 92.0], [12.9986827, 77.615525, 92.0], [12.9756601, 77.5731558, 88.0], [13.0221416, 77.6403368, 85.0], [12.9738781, 77.6109674, 85.0], [12.9755264, 77.6067902, 82.0], [12.9572041, 77.6741554, 69.0], [12.9624669, 77.6381958, 65.0], [12.9408685, 77.617338, 62.0], [12.988721250000001, 77.58516877601824, 59.0], [12.965717999999999, 77.5762705372058, 56.0], [12.9844724, 77.5883314, 51.0], [12.9089453, 77.6239038, 48.0], [12.9748941, 77.6052865, 46.0], [12.9678074, 77.6568367, 46.0], [12.9489339, 77.5968273, 44.0], [12.9822323, 77.6082954, 44.0], [12.9932236, 77.5391579, 41.0], [12.945245, 77.6269144, 40.0], [12.9081487, 77.5553179, 38.0], [12.973936, 77.6509982, 37.0], [12.9764122, 77.6017437, 37.0], [13.02383, 77.5529215, 35.0], [12.9658625, 77.6124731531352, 35.0], [12.9837879, 77.5940558, 33.0], [12.9501553, 77.6056896, 32.0], [13.0431413, 77.6209093, 31.0], [13.0358698, 77.6323597, 29.0], [12.944569, 77.7469486, 26.0], [13.0258087, 77.6305067, 25.0], [12.9846713, 77.6790908, 22.0], [12.9931876, 77.5753419, 22.0], [12.9243692, 77.6242433, 18.0], [13.0227204, 77.595715, 18.0], [12.975608, 77.5553564, 17.0], [12.9466619, 77.5300896, 17.0], [12.9282918, 77.6254034, 16.0], [12.9749487, 77.5997248, 16.0], [12.9856596, 77.6638971, 14.0], [13.0464531, 77.5483803, 13.0], [13.0621474, 77.58006135480495, 13.0], [12.9366418, 77.5753914, 12.0], [12.9578658, 77.6958748, 10.0], [12.9804194, 77.7275164, 10.0], [13.010316, 77.580569, 9.0], [12.9841958, 77.51919296908994, 8.0], [13.0120218, 77.6777817, 7.0], [13.007516, 77.695935, 6.0], [12.9886937, 77.5863032, 5.0], [13.1006982, 77.5963454, 4.0], [12.9055682, 77.5455438, 4.0], [13.0784743, 77.6068938, 3.0], [12.8504319, 77.6601401, 3.0], [13.0076091, 77.6900228, 2.0], [13.022234699999998, 77.56718324768107, 1.0], [12.862467899999999, 77.56089325971044, 1.0], [13.0382184, 77.5919, 1.0]],\n",
       "                {&quot;blur&quot;: 15, &quot;maxZoom&quot;: 18, &quot;minOpacity&quot;: 0.5, &quot;radius&quot;: 25}\n",
       "            ).addTo(map_1eaec421570318fe3785f33daafa96e3);\n",
       "        \n",
       "&lt;/script&gt;\n",
       "&lt;/html&gt;\" style=\"position:absolute;width:100%;height:100%;left:0;top:0;border:none !important;\" allowfullscreen webkitallowfullscreen mozallowfullscreen></iframe></div></div>"
      ],
      "text/plain": [
       "<folium.folium.Map at 0x1ad5d955610>"
      ]
     },
     "execution_count": 135,
     "metadata": {},
     "output_type": "execute_result"
    }
   ],
   "source": [
    "# for south indian cuisines in bangalore\n",
    "get_heatmap('South Indian')"
   ]
  },
  {
   "cell_type": "code",
   "execution_count": 136,
   "id": "f15e07f9",
   "metadata": {},
   "outputs": [
    {
     "name": "stdout",
     "output_type": "stream",
     "text": [
      "                                                name  count   latitude  \\\n",
      "0                   BTM, Bangalore, Karnataka, India   1824  12.911276   \n",
      "1                   HSR, Bangalore, Karnataka, India    760  12.911623   \n",
      "2  Koramangala 5th Block, Bangalore, Karnataka, I...    730  12.934843   \n",
      "3          Marathahalli, Bangalore, Karnataka, India    668  12.955257   \n",
      "\n",
      "   longitude  \n",
      "0  77.604565  \n",
      "1  77.638862  \n",
      "2  77.618977  \n",
      "3  77.698416  \n"
     ]
    },
    {
     "data": {
      "text/html": [
       "<div style=\"width:100%;\"><div style=\"position:relative;width:100%;height:0;padding-bottom:60%;\"><span style=\"color:#565656\">Make this Notebook Trusted to load map: File -> Trust Notebook</span><iframe srcdoc=\"&lt;!DOCTYPE html&gt;\n",
       "&lt;html&gt;\n",
       "&lt;head&gt;\n",
       "    \n",
       "    &lt;meta http-equiv=&quot;content-type&quot; content=&quot;text/html; charset=UTF-8&quot; /&gt;\n",
       "    \n",
       "        &lt;script&gt;\n",
       "            L_NO_TOUCH = false;\n",
       "            L_DISABLE_3D = false;\n",
       "        &lt;/script&gt;\n",
       "    \n",
       "    &lt;style&gt;html, body {width: 100%;height: 100%;margin: 0;padding: 0;}&lt;/style&gt;\n",
       "    &lt;style&gt;#map {position:absolute;top:0;bottom:0;right:0;left:0;}&lt;/style&gt;\n",
       "    &lt;script src=&quot;https://cdn.jsdelivr.net/npm/leaflet@1.9.3/dist/leaflet.js&quot;&gt;&lt;/script&gt;\n",
       "    &lt;script src=&quot;https://code.jquery.com/jquery-1.12.4.min.js&quot;&gt;&lt;/script&gt;\n",
       "    &lt;script src=&quot;https://cdn.jsdelivr.net/npm/bootstrap@5.2.2/dist/js/bootstrap.bundle.min.js&quot;&gt;&lt;/script&gt;\n",
       "    &lt;script src=&quot;https://cdnjs.cloudflare.com/ajax/libs/Leaflet.awesome-markers/2.0.2/leaflet.awesome-markers.js&quot;&gt;&lt;/script&gt;\n",
       "    &lt;link rel=&quot;stylesheet&quot; href=&quot;https://cdn.jsdelivr.net/npm/leaflet@1.9.3/dist/leaflet.css&quot;/&gt;\n",
       "    &lt;link rel=&quot;stylesheet&quot; href=&quot;https://cdn.jsdelivr.net/npm/bootstrap@5.2.2/dist/css/bootstrap.min.css&quot;/&gt;\n",
       "    &lt;link rel=&quot;stylesheet&quot; href=&quot;https://netdna.bootstrapcdn.com/bootstrap/3.0.0/css/bootstrap.min.css&quot;/&gt;\n",
       "    &lt;link rel=&quot;stylesheet&quot; href=&quot;https://cdn.jsdelivr.net/npm/@fortawesome/fontawesome-free@6.2.0/css/all.min.css&quot;/&gt;\n",
       "    &lt;link rel=&quot;stylesheet&quot; href=&quot;https://cdnjs.cloudflare.com/ajax/libs/Leaflet.awesome-markers/2.0.2/leaflet.awesome-markers.css&quot;/&gt;\n",
       "    &lt;link rel=&quot;stylesheet&quot; href=&quot;https://cdn.jsdelivr.net/gh/python-visualization/folium/folium/templates/leaflet.awesome.rotate.min.css&quot;/&gt;\n",
       "    \n",
       "            &lt;meta name=&quot;viewport&quot; content=&quot;width=device-width,\n",
       "                initial-scale=1.0, maximum-scale=1.0, user-scalable=no&quot; /&gt;\n",
       "            &lt;style&gt;\n",
       "                #map_0a3087c1b5f76565a1b43c084f9f7ad1 {\n",
       "                    position: relative;\n",
       "                    width: 100.0%;\n",
       "                    height: 100.0%;\n",
       "                    left: 0.0%;\n",
       "                    top: 0.0%;\n",
       "                }\n",
       "                .leaflet-container { font-size: 1rem; }\n",
       "            &lt;/style&gt;\n",
       "        \n",
       "    &lt;script src=&quot;https://cdn.jsdelivr.net/gh/python-visualization/folium@main/folium/templates/leaflet_heat.min.js&quot;&gt;&lt;/script&gt;\n",
       "&lt;/head&gt;\n",
       "&lt;body&gt;\n",
       "    \n",
       "    \n",
       "            &lt;div class=&quot;folium-map&quot; id=&quot;map_0a3087c1b5f76565a1b43c084f9f7ad1&quot; &gt;&lt;/div&gt;\n",
       "        \n",
       "&lt;/body&gt;\n",
       "&lt;script&gt;\n",
       "    \n",
       "    \n",
       "            var map_0a3087c1b5f76565a1b43c084f9f7ad1 = L.map(\n",
       "                &quot;map_0a3087c1b5f76565a1b43c084f9f7ad1&quot;,\n",
       "                {\n",
       "                    center: [0, 0],\n",
       "                    crs: L.CRS.EPSG3857,\n",
       "                    zoom: 1,\n",
       "                    zoomControl: true,\n",
       "                    preferCanvas: false,\n",
       "                }\n",
       "            );\n",
       "\n",
       "            \n",
       "\n",
       "        \n",
       "    \n",
       "            var tile_layer_bd08d7c4547013214ba49933fe51b2b9 = L.tileLayer(\n",
       "                &quot;https://{s}.tile.openstreetmap.org/{z}/{x}/{y}.png&quot;,\n",
       "                {&quot;attribution&quot;: &quot;Data by \\u0026copy; \\u003ca target=\\&quot;_blank\\&quot; href=\\&quot;http://openstreetmap.org\\&quot;\\u003eOpenStreetMap\\u003c/a\\u003e, under \\u003ca target=\\&quot;_blank\\&quot; href=\\&quot;http://www.openstreetmap.org/copyright\\&quot;\\u003eODbL\\u003c/a\\u003e.&quot;, &quot;detectRetina&quot;: false, &quot;maxNativeZoom&quot;: 18, &quot;maxZoom&quot;: 18, &quot;minZoom&quot;: 0, &quot;noWrap&quot;: false, &quot;opacity&quot;: 1, &quot;subdomains&quot;: &quot;abc&quot;, &quot;tms&quot;: false}\n",
       "            ).addTo(map_0a3087c1b5f76565a1b43c084f9f7ad1);\n",
       "        \n",
       "    \n",
       "            var heat_map_d47b195700ecb668c16523847e6b03d4 = L.heatLayer(\n",
       "                [[12.911275849999999, 77.60456543431182, 1824.0], [12.9116225, 77.6388622, 760.0], [12.9348429, 77.6189768, 730.0], [12.9552572, 77.6984163, 668.0], [12.91226375, 77.59045672324466, 633.0], [12.9696365, 77.7497448, 629.0], [12.9292731, 77.5824229, 570.0], [12.8799708, 77.5957843, 510.0], [12.848759900000001, 77.64825295827616, 509.0], [12.9732913, 77.6404672, 466.0], [12.93103185, 77.6782471, 375.0], [12.9277245, 77.6327822, 356.0], [12.9714852, 77.6069655, 349.0], [12.9390255, 77.6238477, 322.0], [12.920441, 77.6653284, 311.0], [12.9364846, 77.6134783, 284.0], [12.9327778, 77.6294052, 278.0], [12.9152208, 77.573598, 259.0], [12.957434549999999, 77.71470815294066, 254.0], [13.0141618, 77.6518539, 254.0], [12.9778793, 77.6246697, 245.0], [12.9755264, 77.6067902, 242.0], [12.9670911, 77.6109679, 233.0], [13.0093455, 77.6377094, 211.0], [12.9882338, 77.554883, 204.0], [12.9986827, 77.615525, 200.0], [13.0243476, 77.5720015, 196.0], [12.9738781, 77.6109674, 194.0], [12.945245, 77.6269144, 186.0], [12.9575547, 77.5979099, 174.0], [12.9845781, 77.5970428, 170.0], [13.0221416, 77.6403368, 170.0], [12.986391, 77.6075416, 162.0], [13.0027353, 77.5703253, 157.0], [12.9417261, 77.5755021, 156.0], [12.9572041, 77.6741554, 145.0], [12.9624669, 77.6381958, 120.0], [12.9748941, 77.6052865, 105.0], [12.9089453, 77.6239038, 101.0], [12.9408685, 77.617338, 100.0], [12.9081487, 77.5553179, 99.0], [12.988721250000001, 77.58516877601824, 94.0], [12.9489339, 77.5968273, 92.0], [12.9837879, 77.5940558, 79.0], [13.0431413, 77.6209093, 76.0], [12.9931876, 77.5753419, 67.0], [12.9678074, 77.6568367, 66.0], [13.0358698, 77.6323597, 65.0], [13.02383, 77.5529215, 65.0], [12.9282918, 77.6254034, 62.0], [12.9764122, 77.6017437, 61.0], [12.973936, 77.6509982, 60.0], [12.9822323, 77.6082954, 59.0], [12.9749487, 77.5997248, 57.0], [13.0258087, 77.6305067, 56.0], [12.9756601, 77.5731558, 55.0], [12.9501553, 77.6056896, 54.0], [12.9932236, 77.5391579, 53.0], [12.965717999999999, 77.5762705372058, 50.0], [13.0227204, 77.595715, 44.0], [12.9846713, 77.6790908, 37.0], [12.9243692, 77.6242433, 36.0], [12.9658625, 77.6124731531352, 32.0], [12.9844724, 77.5883314, 31.0], [12.944569, 77.7469486, 26.0], [12.9804194, 77.7275164, 21.0], [12.9578658, 77.6958748, 21.0], [12.862467899999999, 77.56089325971044, 20.0], [13.007516, 77.695935, 17.0], [13.0076091, 77.6900228, 17.0], [13.010316, 77.580569, 17.0], [12.9366418, 77.5753914, 16.0], [12.9856596, 77.6638971, 14.0], [13.0464531, 77.5483803, 14.0], [12.9055682, 77.5455438, 13.0], [12.9340114, 77.6222304, 12.0], [13.0621474, 77.58006135480495, 9.0], [12.9466619, 77.5300896, 9.0], [12.975608, 77.5553564, 9.0], [12.8504319, 77.6601401, 8.0], [12.9886937, 77.5863032, 8.0], [12.9841958, 77.51919296908994, 8.0], [13.0382184, 77.5919, 6.0], [13.0120218, 77.6777817, 6.0], [13.022234699999998, 77.56718324768107, 6.0], [13.0784743, 77.6068938, 3.0], [13.0101286, 77.5548006, 2.0], [13.022234699999998, 77.56718324768107, 1.0], [12.9274413, 77.5155224, 1.0], [13.0329419, 77.5273253, 1.0]],\n",
       "                {&quot;blur&quot;: 15, &quot;maxZoom&quot;: 18, &quot;minOpacity&quot;: 0.5, &quot;radius&quot;: 25}\n",
       "            ).addTo(map_0a3087c1b5f76565a1b43c084f9f7ad1);\n",
       "        \n",
       "&lt;/script&gt;\n",
       "&lt;/html&gt;\" style=\"position:absolute;width:100%;height:100%;left:0;top:0;border:none !important;\" allowfullscreen webkitallowfullscreen mozallowfullscreen></iframe></div></div>"
      ],
      "text/plain": [
       "<folium.folium.Map at 0x1ad5d955af0>"
      ]
     },
     "execution_count": 136,
     "metadata": {},
     "output_type": "execute_result"
    }
   ],
   "source": [
    "# for chinese cuisines in bangalore  \n",
    "get_heatmap(\"Chinese\")"
   ]
  },
  {
   "cell_type": "code",
   "execution_count": null,
   "id": "248f4a49",
   "metadata": {},
   "outputs": [],
   "source": []
  }
 ],
 "metadata": {
  "kernelspec": {
   "display_name": "Python 3 (ipykernel)",
   "language": "python",
   "name": "python3"
  },
  "language_info": {
   "codemirror_mode": {
    "name": "ipython",
    "version": 3
   },
   "file_extension": ".py",
   "mimetype": "text/x-python",
   "name": "python",
   "nbconvert_exporter": "python",
   "pygments_lexer": "ipython3",
   "version": "3.9.13"
  }
 },
 "nbformat": 4,
 "nbformat_minor": 5
}
